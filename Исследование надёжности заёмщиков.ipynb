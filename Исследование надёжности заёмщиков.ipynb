{
 "cells": [
  {
   "cell_type": "markdown",
   "metadata": {},
   "source": [
    "# Исследование надёжности заёмщиков\n",
    "\n",
    "Заказчик — кредитный отдел банка. Нужно разобраться, влияет ли семейное положение и количество детей клиента на факт погашения кредита в срок. Входные данные от банка — статистика о платёжеспособности клиентов.\n",
    "\n",
    "Результаты исследования будут учтены при построении модели **кредитного скоринга** — специальной системы, которая оценивает способность потенциального заёмщика вернуть кредит банку."
   ]
  },
  {
   "cell_type": "markdown",
   "metadata": {},
   "source": [
    "## Шаг 1. Открываю файл с данными и изучаю общую информацию"
   ]
  },
  {
   "cell_type": "code",
   "execution_count": 12,
   "metadata": {
    "scrolled": true
   },
   "outputs": [
    {
     "data": {
      "text/html": [
       "<div>\n",
       "<style scoped>\n",
       "    .dataframe tbody tr th:only-of-type {\n",
       "        vertical-align: middle;\n",
       "    }\n",
       "\n",
       "    .dataframe tbody tr th {\n",
       "        vertical-align: top;\n",
       "    }\n",
       "\n",
       "    .dataframe thead th {\n",
       "        text-align: right;\n",
       "    }\n",
       "</style>\n",
       "<table border=\"1\" class=\"dataframe\">\n",
       "  <thead>\n",
       "    <tr style=\"text-align: right;\">\n",
       "      <th></th>\n",
       "      <th>children</th>\n",
       "      <th>days_employed</th>\n",
       "      <th>dob_years</th>\n",
       "      <th>education</th>\n",
       "      <th>education_id</th>\n",
       "      <th>family_status</th>\n",
       "      <th>family_status_id</th>\n",
       "      <th>gender</th>\n",
       "      <th>income_type</th>\n",
       "      <th>debt</th>\n",
       "      <th>total_income</th>\n",
       "      <th>purpose</th>\n",
       "    </tr>\n",
       "  </thead>\n",
       "  <tbody>\n",
       "    <tr>\n",
       "      <td>13235</td>\n",
       "      <td>0</td>\n",
       "      <td>-174.547196</td>\n",
       "      <td>43</td>\n",
       "      <td>среднее</td>\n",
       "      <td>1</td>\n",
       "      <td>женат / замужем</td>\n",
       "      <td>0</td>\n",
       "      <td>M</td>\n",
       "      <td>сотрудник</td>\n",
       "      <td>0</td>\n",
       "      <td>125790.812968</td>\n",
       "      <td>на покупку своего автомобиля</td>\n",
       "    </tr>\n",
       "    <tr>\n",
       "      <td>13332</td>\n",
       "      <td>1</td>\n",
       "      <td>-3975.201410</td>\n",
       "      <td>39</td>\n",
       "      <td>неоконченное высшее</td>\n",
       "      <td>2</td>\n",
       "      <td>женат / замужем</td>\n",
       "      <td>0</td>\n",
       "      <td>M</td>\n",
       "      <td>сотрудник</td>\n",
       "      <td>0</td>\n",
       "      <td>273634.348125</td>\n",
       "      <td>заняться образованием</td>\n",
       "    </tr>\n",
       "    <tr>\n",
       "      <td>7891</td>\n",
       "      <td>2</td>\n",
       "      <td>-3047.766910</td>\n",
       "      <td>48</td>\n",
       "      <td>среднее</td>\n",
       "      <td>1</td>\n",
       "      <td>женат / замужем</td>\n",
       "      <td>0</td>\n",
       "      <td>M</td>\n",
       "      <td>сотрудник</td>\n",
       "      <td>0</td>\n",
       "      <td>145705.902100</td>\n",
       "      <td>высшее образование</td>\n",
       "    </tr>\n",
       "    <tr>\n",
       "      <td>543</td>\n",
       "      <td>2</td>\n",
       "      <td>-1104.789371</td>\n",
       "      <td>25</td>\n",
       "      <td>среднее</td>\n",
       "      <td>1</td>\n",
       "      <td>гражданский брак</td>\n",
       "      <td>1</td>\n",
       "      <td>M</td>\n",
       "      <td>сотрудник</td>\n",
       "      <td>0</td>\n",
       "      <td>116815.893498</td>\n",
       "      <td>сыграть свадьбу</td>\n",
       "    </tr>\n",
       "    <tr>\n",
       "      <td>12521</td>\n",
       "      <td>0</td>\n",
       "      <td>-838.685410</td>\n",
       "      <td>41</td>\n",
       "      <td>среднее</td>\n",
       "      <td>1</td>\n",
       "      <td>гражданский брак</td>\n",
       "      <td>1</td>\n",
       "      <td>F</td>\n",
       "      <td>компаньон</td>\n",
       "      <td>0</td>\n",
       "      <td>179069.576582</td>\n",
       "      <td>на покупку автомобиля</td>\n",
       "    </tr>\n",
       "    <tr>\n",
       "      <td>15271</td>\n",
       "      <td>1</td>\n",
       "      <td>-2520.089391</td>\n",
       "      <td>47</td>\n",
       "      <td>среднее</td>\n",
       "      <td>1</td>\n",
       "      <td>в разводе</td>\n",
       "      <td>3</td>\n",
       "      <td>M</td>\n",
       "      <td>сотрудник</td>\n",
       "      <td>1</td>\n",
       "      <td>304343.701944</td>\n",
       "      <td>операции с коммерческой недвижимостью</td>\n",
       "    </tr>\n",
       "    <tr>\n",
       "      <td>9571</td>\n",
       "      <td>0</td>\n",
       "      <td>-2005.219883</td>\n",
       "      <td>50</td>\n",
       "      <td>среднее</td>\n",
       "      <td>1</td>\n",
       "      <td>гражданский брак</td>\n",
       "      <td>1</td>\n",
       "      <td>F</td>\n",
       "      <td>сотрудник</td>\n",
       "      <td>0</td>\n",
       "      <td>106993.072745</td>\n",
       "      <td>на проведение свадьбы</td>\n",
       "    </tr>\n",
       "    <tr>\n",
       "      <td>17021</td>\n",
       "      <td>0</td>\n",
       "      <td>-4599.601996</td>\n",
       "      <td>35</td>\n",
       "      <td>среднее</td>\n",
       "      <td>1</td>\n",
       "      <td>женат / замужем</td>\n",
       "      <td>0</td>\n",
       "      <td>F</td>\n",
       "      <td>сотрудник</td>\n",
       "      <td>0</td>\n",
       "      <td>157998.993928</td>\n",
       "      <td>покупка своего жилья</td>\n",
       "    </tr>\n",
       "    <tr>\n",
       "      <td>19181</td>\n",
       "      <td>0</td>\n",
       "      <td>-3155.974871</td>\n",
       "      <td>45</td>\n",
       "      <td>среднее</td>\n",
       "      <td>1</td>\n",
       "      <td>женат / замужем</td>\n",
       "      <td>0</td>\n",
       "      <td>F</td>\n",
       "      <td>сотрудник</td>\n",
       "      <td>0</td>\n",
       "      <td>212739.148176</td>\n",
       "      <td>строительство недвижимости</td>\n",
       "    </tr>\n",
       "    <tr>\n",
       "      <td>16872</td>\n",
       "      <td>1</td>\n",
       "      <td>-101.861350</td>\n",
       "      <td>28</td>\n",
       "      <td>высшее</td>\n",
       "      <td>0</td>\n",
       "      <td>гражданский брак</td>\n",
       "      <td>1</td>\n",
       "      <td>M</td>\n",
       "      <td>сотрудник</td>\n",
       "      <td>0</td>\n",
       "      <td>101948.053221</td>\n",
       "      <td>сыграть свадьбу</td>\n",
       "    </tr>\n",
       "    <tr>\n",
       "      <td>14102</td>\n",
       "      <td>1</td>\n",
       "      <td>-2511.059634</td>\n",
       "      <td>36</td>\n",
       "      <td>высшее</td>\n",
       "      <td>0</td>\n",
       "      <td>женат / замужем</td>\n",
       "      <td>0</td>\n",
       "      <td>F</td>\n",
       "      <td>сотрудник</td>\n",
       "      <td>0</td>\n",
       "      <td>174561.918027</td>\n",
       "      <td>получение дополнительного образования</td>\n",
       "    </tr>\n",
       "    <tr>\n",
       "      <td>19780</td>\n",
       "      <td>2</td>\n",
       "      <td>-1299.697206</td>\n",
       "      <td>40</td>\n",
       "      <td>высшее</td>\n",
       "      <td>0</td>\n",
       "      <td>в разводе</td>\n",
       "      <td>3</td>\n",
       "      <td>F</td>\n",
       "      <td>компаньон</td>\n",
       "      <td>0</td>\n",
       "      <td>110241.616910</td>\n",
       "      <td>образование</td>\n",
       "    </tr>\n",
       "    <tr>\n",
       "      <td>13742</td>\n",
       "      <td>0</td>\n",
       "      <td>-7685.275345</td>\n",
       "      <td>57</td>\n",
       "      <td>среднее</td>\n",
       "      <td>1</td>\n",
       "      <td>женат / замужем</td>\n",
       "      <td>0</td>\n",
       "      <td>F</td>\n",
       "      <td>госслужащий</td>\n",
       "      <td>0</td>\n",
       "      <td>148240.140023</td>\n",
       "      <td>строительство собственной недвижимости</td>\n",
       "    </tr>\n",
       "    <tr>\n",
       "      <td>385</td>\n",
       "      <td>0</td>\n",
       "      <td>374222.147983</td>\n",
       "      <td>51</td>\n",
       "      <td>среднее</td>\n",
       "      <td>1</td>\n",
       "      <td>женат / замужем</td>\n",
       "      <td>0</td>\n",
       "      <td>M</td>\n",
       "      <td>пенсионер</td>\n",
       "      <td>0</td>\n",
       "      <td>115194.161108</td>\n",
       "      <td>получение образования</td>\n",
       "    </tr>\n",
       "    <tr>\n",
       "      <td>17016</td>\n",
       "      <td>0</td>\n",
       "      <td>-2727.973964</td>\n",
       "      <td>39</td>\n",
       "      <td>среднее</td>\n",
       "      <td>1</td>\n",
       "      <td>Не женат / не замужем</td>\n",
       "      <td>4</td>\n",
       "      <td>M</td>\n",
       "      <td>сотрудник</td>\n",
       "      <td>1</td>\n",
       "      <td>109354.966357</td>\n",
       "      <td>жилье</td>\n",
       "    </tr>\n",
       "  </tbody>\n",
       "</table>\n",
       "</div>"
      ],
      "text/plain": [
       "       children  days_employed  dob_years            education  education_id  \\\n",
       "13235         0    -174.547196         43              среднее             1   \n",
       "13332         1   -3975.201410         39  неоконченное высшее             2   \n",
       "7891          2   -3047.766910         48              среднее             1   \n",
       "543           2   -1104.789371         25              среднее             1   \n",
       "12521         0    -838.685410         41              среднее             1   \n",
       "15271         1   -2520.089391         47              среднее             1   \n",
       "9571          0   -2005.219883         50              среднее             1   \n",
       "17021         0   -4599.601996         35              среднее             1   \n",
       "19181         0   -3155.974871         45              среднее             1   \n",
       "16872         1    -101.861350         28               высшее             0   \n",
       "14102         1   -2511.059634         36               высшее             0   \n",
       "19780         2   -1299.697206         40               высшее             0   \n",
       "13742         0   -7685.275345         57              среднее             1   \n",
       "385           0  374222.147983         51              среднее             1   \n",
       "17016         0   -2727.973964         39              среднее             1   \n",
       "\n",
       "               family_status  family_status_id gender  income_type  debt  \\\n",
       "13235        женат / замужем                 0      M    сотрудник     0   \n",
       "13332        женат / замужем                 0      M    сотрудник     0   \n",
       "7891         женат / замужем                 0      M    сотрудник     0   \n",
       "543         гражданский брак                 1      M    сотрудник     0   \n",
       "12521       гражданский брак                 1      F    компаньон     0   \n",
       "15271              в разводе                 3      M    сотрудник     1   \n",
       "9571        гражданский брак                 1      F    сотрудник     0   \n",
       "17021        женат / замужем                 0      F    сотрудник     0   \n",
       "19181        женат / замужем                 0      F    сотрудник     0   \n",
       "16872       гражданский брак                 1      M    сотрудник     0   \n",
       "14102        женат / замужем                 0      F    сотрудник     0   \n",
       "19780              в разводе                 3      F    компаньон     0   \n",
       "13742        женат / замужем                 0      F  госслужащий     0   \n",
       "385          женат / замужем                 0      M    пенсионер     0   \n",
       "17016  Не женат / не замужем                 4      M    сотрудник     1   \n",
       "\n",
       "        total_income                                 purpose  \n",
       "13235  125790.812968            на покупку своего автомобиля  \n",
       "13332  273634.348125                   заняться образованием  \n",
       "7891   145705.902100                      высшее образование  \n",
       "543    116815.893498                         сыграть свадьбу  \n",
       "12521  179069.576582                   на покупку автомобиля  \n",
       "15271  304343.701944   операции с коммерческой недвижимостью  \n",
       "9571   106993.072745                   на проведение свадьбы  \n",
       "17021  157998.993928                    покупка своего жилья  \n",
       "19181  212739.148176              строительство недвижимости  \n",
       "16872  101948.053221                         сыграть свадьбу  \n",
       "14102  174561.918027   получение дополнительного образования  \n",
       "19780  110241.616910                             образование  \n",
       "13742  148240.140023  строительство собственной недвижимости  \n",
       "385    115194.161108                   получение образования  \n",
       "17016  109354.966357                                   жилье  "
      ]
     },
     "metadata": {},
     "output_type": "display_data"
    }
   ],
   "source": [
    "import pandas as pd\n",
    "df = pd.read_csv('/datasets/data.csv')\n",
    "display(df.sample(15))"
   ]
  },
  {
   "cell_type": "code",
   "execution_count": 13,
   "metadata": {},
   "outputs": [
    {
     "name": "stdout",
     "output_type": "stream",
     "text": [
      "<class 'pandas.core.frame.DataFrame'>\n",
      "RangeIndex: 21525 entries, 0 to 21524\n",
      "Data columns (total 12 columns):\n",
      "children            21525 non-null int64\n",
      "days_employed       19351 non-null float64\n",
      "dob_years           21525 non-null int64\n",
      "education           21525 non-null object\n",
      "education_id        21525 non-null int64\n",
      "family_status       21525 non-null object\n",
      "family_status_id    21525 non-null int64\n",
      "gender              21525 non-null object\n",
      "income_type         21525 non-null object\n",
      "debt                21525 non-null int64\n",
      "total_income        19351 non-null float64\n",
      "purpose             21525 non-null object\n",
      "dtypes: float64(2), int64(5), object(5)\n",
      "memory usage: 2.0+ MB\n"
     ]
    }
   ],
   "source": [
    "df.info()"
   ]
  },
  {
   "cell_type": "code",
   "execution_count": 14,
   "metadata": {},
   "outputs": [
    {
     "data": {
      "text/html": [
       "<div>\n",
       "<style scoped>\n",
       "    .dataframe tbody tr th:only-of-type {\n",
       "        vertical-align: middle;\n",
       "    }\n",
       "\n",
       "    .dataframe tbody tr th {\n",
       "        vertical-align: top;\n",
       "    }\n",
       "\n",
       "    .dataframe thead th {\n",
       "        text-align: right;\n",
       "    }\n",
       "</style>\n",
       "<table border=\"1\" class=\"dataframe\">\n",
       "  <thead>\n",
       "    <tr style=\"text-align: right;\">\n",
       "      <th></th>\n",
       "      <th>children</th>\n",
       "      <th>days_employed</th>\n",
       "      <th>dob_years</th>\n",
       "      <th>education_id</th>\n",
       "      <th>family_status_id</th>\n",
       "      <th>debt</th>\n",
       "      <th>total_income</th>\n",
       "    </tr>\n",
       "  </thead>\n",
       "  <tbody>\n",
       "    <tr>\n",
       "      <td>count</td>\n",
       "      <td>21525.000000</td>\n",
       "      <td>19351.000000</td>\n",
       "      <td>21525.000000</td>\n",
       "      <td>21525.000000</td>\n",
       "      <td>21525.000000</td>\n",
       "      <td>21525.000000</td>\n",
       "      <td>1.935100e+04</td>\n",
       "    </tr>\n",
       "    <tr>\n",
       "      <td>mean</td>\n",
       "      <td>0.538908</td>\n",
       "      <td>63046.497661</td>\n",
       "      <td>43.293380</td>\n",
       "      <td>0.817236</td>\n",
       "      <td>0.972544</td>\n",
       "      <td>0.080883</td>\n",
       "      <td>1.674223e+05</td>\n",
       "    </tr>\n",
       "    <tr>\n",
       "      <td>std</td>\n",
       "      <td>1.381587</td>\n",
       "      <td>140827.311974</td>\n",
       "      <td>12.574584</td>\n",
       "      <td>0.548138</td>\n",
       "      <td>1.420324</td>\n",
       "      <td>0.272661</td>\n",
       "      <td>1.029716e+05</td>\n",
       "    </tr>\n",
       "    <tr>\n",
       "      <td>min</td>\n",
       "      <td>-1.000000</td>\n",
       "      <td>-18388.949901</td>\n",
       "      <td>0.000000</td>\n",
       "      <td>0.000000</td>\n",
       "      <td>0.000000</td>\n",
       "      <td>0.000000</td>\n",
       "      <td>2.066726e+04</td>\n",
       "    </tr>\n",
       "    <tr>\n",
       "      <td>25%</td>\n",
       "      <td>0.000000</td>\n",
       "      <td>-2747.423625</td>\n",
       "      <td>33.000000</td>\n",
       "      <td>1.000000</td>\n",
       "      <td>0.000000</td>\n",
       "      <td>0.000000</td>\n",
       "      <td>1.030532e+05</td>\n",
       "    </tr>\n",
       "    <tr>\n",
       "      <td>50%</td>\n",
       "      <td>0.000000</td>\n",
       "      <td>-1203.369529</td>\n",
       "      <td>42.000000</td>\n",
       "      <td>1.000000</td>\n",
       "      <td>0.000000</td>\n",
       "      <td>0.000000</td>\n",
       "      <td>1.450179e+05</td>\n",
       "    </tr>\n",
       "    <tr>\n",
       "      <td>75%</td>\n",
       "      <td>1.000000</td>\n",
       "      <td>-291.095954</td>\n",
       "      <td>53.000000</td>\n",
       "      <td>1.000000</td>\n",
       "      <td>1.000000</td>\n",
       "      <td>0.000000</td>\n",
       "      <td>2.034351e+05</td>\n",
       "    </tr>\n",
       "    <tr>\n",
       "      <td>max</td>\n",
       "      <td>20.000000</td>\n",
       "      <td>401755.400475</td>\n",
       "      <td>75.000000</td>\n",
       "      <td>4.000000</td>\n",
       "      <td>4.000000</td>\n",
       "      <td>1.000000</td>\n",
       "      <td>2.265604e+06</td>\n",
       "    </tr>\n",
       "  </tbody>\n",
       "</table>\n",
       "</div>"
      ],
      "text/plain": [
       "           children  days_employed     dob_years  education_id  \\\n",
       "count  21525.000000   19351.000000  21525.000000  21525.000000   \n",
       "mean       0.538908   63046.497661     43.293380      0.817236   \n",
       "std        1.381587  140827.311974     12.574584      0.548138   \n",
       "min       -1.000000  -18388.949901      0.000000      0.000000   \n",
       "25%        0.000000   -2747.423625     33.000000      1.000000   \n",
       "50%        0.000000   -1203.369529     42.000000      1.000000   \n",
       "75%        1.000000    -291.095954     53.000000      1.000000   \n",
       "max       20.000000  401755.400475     75.000000      4.000000   \n",
       "\n",
       "       family_status_id          debt  total_income  \n",
       "count      21525.000000  21525.000000  1.935100e+04  \n",
       "mean           0.972544      0.080883  1.674223e+05  \n",
       "std            1.420324      0.272661  1.029716e+05  \n",
       "min            0.000000      0.000000  2.066726e+04  \n",
       "25%            0.000000      0.000000  1.030532e+05  \n",
       "50%            0.000000      0.000000  1.450179e+05  \n",
       "75%            1.000000      0.000000  2.034351e+05  \n",
       "max            4.000000      1.000000  2.265604e+06  "
      ]
     },
     "execution_count": 14,
     "metadata": {},
     "output_type": "execute_result"
    }
   ],
   "source": [
    "df.describe()"
   ]
  },
  {
   "cell_type": "code",
   "execution_count": 15,
   "metadata": {},
   "outputs": [
    {
     "data": {
      "text/html": [
       "<style  type=\"text/css\" >\n",
       "    #T_f14d5da8_1c6a_11ec_acae_02420a390737row0_col0 {\n",
       "            background-color:  #3b4cc0;\n",
       "            color:  #f1f1f1;\n",
       "        }    #T_f14d5da8_1c6a_11ec_acae_02420a390737row1_col0 {\n",
       "            background-color:  #b40426;\n",
       "            color:  #f1f1f1;\n",
       "        }    #T_f14d5da8_1c6a_11ec_acae_02420a390737row2_col0 {\n",
       "            background-color:  #3b4cc0;\n",
       "            color:  #f1f1f1;\n",
       "        }    #T_f14d5da8_1c6a_11ec_acae_02420a390737row3_col0 {\n",
       "            background-color:  #3b4cc0;\n",
       "            color:  #f1f1f1;\n",
       "        }    #T_f14d5da8_1c6a_11ec_acae_02420a390737row4_col0 {\n",
       "            background-color:  #3b4cc0;\n",
       "            color:  #f1f1f1;\n",
       "        }    #T_f14d5da8_1c6a_11ec_acae_02420a390737row5_col0 {\n",
       "            background-color:  #3b4cc0;\n",
       "            color:  #f1f1f1;\n",
       "        }    #T_f14d5da8_1c6a_11ec_acae_02420a390737row6_col0 {\n",
       "            background-color:  #3b4cc0;\n",
       "            color:  #f1f1f1;\n",
       "        }    #T_f14d5da8_1c6a_11ec_acae_02420a390737row7_col0 {\n",
       "            background-color:  #3b4cc0;\n",
       "            color:  #f1f1f1;\n",
       "        }    #T_f14d5da8_1c6a_11ec_acae_02420a390737row8_col0 {\n",
       "            background-color:  #3b4cc0;\n",
       "            color:  #f1f1f1;\n",
       "        }    #T_f14d5da8_1c6a_11ec_acae_02420a390737row9_col0 {\n",
       "            background-color:  #3b4cc0;\n",
       "            color:  #f1f1f1;\n",
       "        }    #T_f14d5da8_1c6a_11ec_acae_02420a390737row10_col0 {\n",
       "            background-color:  #b40426;\n",
       "            color:  #f1f1f1;\n",
       "        }    #T_f14d5da8_1c6a_11ec_acae_02420a390737row11_col0 {\n",
       "            background-color:  #3b4cc0;\n",
       "            color:  #f1f1f1;\n",
       "        }</style><table id=\"T_f14d5da8_1c6a_11ec_acae_02420a390737\" ><thead>    <tr>        <th class=\"blank level0\" ></th>        <th class=\"col_heading level0 col0\" >0</th>    </tr></thead><tbody>\n",
       "                <tr>\n",
       "                        <th id=\"T_f14d5da8_1c6a_11ec_acae_02420a390737level0_row0\" class=\"row_heading level0 row0\" >children</th>\n",
       "                        <td id=\"T_f14d5da8_1c6a_11ec_acae_02420a390737row0_col0\" class=\"data row0 col0\" >0</td>\n",
       "            </tr>\n",
       "            <tr>\n",
       "                        <th id=\"T_f14d5da8_1c6a_11ec_acae_02420a390737level0_row1\" class=\"row_heading level0 row1\" >days_employed</th>\n",
       "                        <td id=\"T_f14d5da8_1c6a_11ec_acae_02420a390737row1_col0\" class=\"data row1 col0\" >10.1</td>\n",
       "            </tr>\n",
       "            <tr>\n",
       "                        <th id=\"T_f14d5da8_1c6a_11ec_acae_02420a390737level0_row2\" class=\"row_heading level0 row2\" >dob_years</th>\n",
       "                        <td id=\"T_f14d5da8_1c6a_11ec_acae_02420a390737row2_col0\" class=\"data row2 col0\" >0</td>\n",
       "            </tr>\n",
       "            <tr>\n",
       "                        <th id=\"T_f14d5da8_1c6a_11ec_acae_02420a390737level0_row3\" class=\"row_heading level0 row3\" >education</th>\n",
       "                        <td id=\"T_f14d5da8_1c6a_11ec_acae_02420a390737row3_col0\" class=\"data row3 col0\" >0</td>\n",
       "            </tr>\n",
       "            <tr>\n",
       "                        <th id=\"T_f14d5da8_1c6a_11ec_acae_02420a390737level0_row4\" class=\"row_heading level0 row4\" >education_id</th>\n",
       "                        <td id=\"T_f14d5da8_1c6a_11ec_acae_02420a390737row4_col0\" class=\"data row4 col0\" >0</td>\n",
       "            </tr>\n",
       "            <tr>\n",
       "                        <th id=\"T_f14d5da8_1c6a_11ec_acae_02420a390737level0_row5\" class=\"row_heading level0 row5\" >family_status</th>\n",
       "                        <td id=\"T_f14d5da8_1c6a_11ec_acae_02420a390737row5_col0\" class=\"data row5 col0\" >0</td>\n",
       "            </tr>\n",
       "            <tr>\n",
       "                        <th id=\"T_f14d5da8_1c6a_11ec_acae_02420a390737level0_row6\" class=\"row_heading level0 row6\" >family_status_id</th>\n",
       "                        <td id=\"T_f14d5da8_1c6a_11ec_acae_02420a390737row6_col0\" class=\"data row6 col0\" >0</td>\n",
       "            </tr>\n",
       "            <tr>\n",
       "                        <th id=\"T_f14d5da8_1c6a_11ec_acae_02420a390737level0_row7\" class=\"row_heading level0 row7\" >gender</th>\n",
       "                        <td id=\"T_f14d5da8_1c6a_11ec_acae_02420a390737row7_col0\" class=\"data row7 col0\" >0</td>\n",
       "            </tr>\n",
       "            <tr>\n",
       "                        <th id=\"T_f14d5da8_1c6a_11ec_acae_02420a390737level0_row8\" class=\"row_heading level0 row8\" >income_type</th>\n",
       "                        <td id=\"T_f14d5da8_1c6a_11ec_acae_02420a390737row8_col0\" class=\"data row8 col0\" >0</td>\n",
       "            </tr>\n",
       "            <tr>\n",
       "                        <th id=\"T_f14d5da8_1c6a_11ec_acae_02420a390737level0_row9\" class=\"row_heading level0 row9\" >debt</th>\n",
       "                        <td id=\"T_f14d5da8_1c6a_11ec_acae_02420a390737row9_col0\" class=\"data row9 col0\" >0</td>\n",
       "            </tr>\n",
       "            <tr>\n",
       "                        <th id=\"T_f14d5da8_1c6a_11ec_acae_02420a390737level0_row10\" class=\"row_heading level0 row10\" >total_income</th>\n",
       "                        <td id=\"T_f14d5da8_1c6a_11ec_acae_02420a390737row10_col0\" class=\"data row10 col0\" >10.1</td>\n",
       "            </tr>\n",
       "            <tr>\n",
       "                        <th id=\"T_f14d5da8_1c6a_11ec_acae_02420a390737level0_row11\" class=\"row_heading level0 row11\" >purpose</th>\n",
       "                        <td id=\"T_f14d5da8_1c6a_11ec_acae_02420a390737row11_col0\" class=\"data row11 col0\" >0</td>\n",
       "            </tr>\n",
       "    </tbody></table>"
      ],
      "text/plain": [
       "<pandas.io.formats.style.Styler at 0x7f94e49caf50>"
      ]
     },
     "execution_count": 15,
     "metadata": {},
     "output_type": "execute_result"
    }
   ],
   "source": [
    " pd.DataFrame(round((df.isna().mean()*100),2)).style.background_gradient('coolwarm') \n"
   ]
  },
  {
   "cell_type": "code",
   "execution_count": 17,
   "metadata": {},
   "outputs": [],
   "source": [
    "def df_info(data):\n",
    "    print('----------------------------------------')\n",
    "    print(data.info())\n",
    "    print('----------------------------------------')\n",
    "    display(pd.DataFrame(round((df.isna().mean()*100),2)).style.background_gradient('coolwarm'))\n",
    "    print('----------------------------------------')"
   ]
  },
  {
   "cell_type": "code",
   "execution_count": 18,
   "metadata": {},
   "outputs": [
    {
     "name": "stdout",
     "output_type": "stream",
     "text": [
      "----------------------------------------\n",
      "<class 'pandas.core.frame.DataFrame'>\n",
      "RangeIndex: 21525 entries, 0 to 21524\n",
      "Data columns (total 12 columns):\n",
      "children            21525 non-null int64\n",
      "days_employed       19351 non-null float64\n",
      "dob_years           21525 non-null int64\n",
      "education           21525 non-null object\n",
      "education_id        21525 non-null int64\n",
      "family_status       21525 non-null object\n",
      "family_status_id    21525 non-null int64\n",
      "gender              21525 non-null object\n",
      "income_type         21525 non-null object\n",
      "debt                21525 non-null int64\n",
      "total_income        19351 non-null float64\n",
      "purpose             21525 non-null object\n",
      "dtypes: float64(2), int64(5), object(5)\n",
      "memory usage: 2.0+ MB\n",
      "None\n",
      "----------------------------------------\n"
     ]
    },
    {
     "data": {
      "text/html": [
       "<style  type=\"text/css\" >\n",
       "    #T_f9ce6166_1c6a_11ec_acae_02420a390737row0_col0 {\n",
       "            background-color:  #3b4cc0;\n",
       "            color:  #f1f1f1;\n",
       "        }    #T_f9ce6166_1c6a_11ec_acae_02420a390737row1_col0 {\n",
       "            background-color:  #b40426;\n",
       "            color:  #f1f1f1;\n",
       "        }    #T_f9ce6166_1c6a_11ec_acae_02420a390737row2_col0 {\n",
       "            background-color:  #3b4cc0;\n",
       "            color:  #f1f1f1;\n",
       "        }    #T_f9ce6166_1c6a_11ec_acae_02420a390737row3_col0 {\n",
       "            background-color:  #3b4cc0;\n",
       "            color:  #f1f1f1;\n",
       "        }    #T_f9ce6166_1c6a_11ec_acae_02420a390737row4_col0 {\n",
       "            background-color:  #3b4cc0;\n",
       "            color:  #f1f1f1;\n",
       "        }    #T_f9ce6166_1c6a_11ec_acae_02420a390737row5_col0 {\n",
       "            background-color:  #3b4cc0;\n",
       "            color:  #f1f1f1;\n",
       "        }    #T_f9ce6166_1c6a_11ec_acae_02420a390737row6_col0 {\n",
       "            background-color:  #3b4cc0;\n",
       "            color:  #f1f1f1;\n",
       "        }    #T_f9ce6166_1c6a_11ec_acae_02420a390737row7_col0 {\n",
       "            background-color:  #3b4cc0;\n",
       "            color:  #f1f1f1;\n",
       "        }    #T_f9ce6166_1c6a_11ec_acae_02420a390737row8_col0 {\n",
       "            background-color:  #3b4cc0;\n",
       "            color:  #f1f1f1;\n",
       "        }    #T_f9ce6166_1c6a_11ec_acae_02420a390737row9_col0 {\n",
       "            background-color:  #3b4cc0;\n",
       "            color:  #f1f1f1;\n",
       "        }    #T_f9ce6166_1c6a_11ec_acae_02420a390737row10_col0 {\n",
       "            background-color:  #b40426;\n",
       "            color:  #f1f1f1;\n",
       "        }    #T_f9ce6166_1c6a_11ec_acae_02420a390737row11_col0 {\n",
       "            background-color:  #3b4cc0;\n",
       "            color:  #f1f1f1;\n",
       "        }</style><table id=\"T_f9ce6166_1c6a_11ec_acae_02420a390737\" ><thead>    <tr>        <th class=\"blank level0\" ></th>        <th class=\"col_heading level0 col0\" >0</th>    </tr></thead><tbody>\n",
       "                <tr>\n",
       "                        <th id=\"T_f9ce6166_1c6a_11ec_acae_02420a390737level0_row0\" class=\"row_heading level0 row0\" >children</th>\n",
       "                        <td id=\"T_f9ce6166_1c6a_11ec_acae_02420a390737row0_col0\" class=\"data row0 col0\" >0</td>\n",
       "            </tr>\n",
       "            <tr>\n",
       "                        <th id=\"T_f9ce6166_1c6a_11ec_acae_02420a390737level0_row1\" class=\"row_heading level0 row1\" >days_employed</th>\n",
       "                        <td id=\"T_f9ce6166_1c6a_11ec_acae_02420a390737row1_col0\" class=\"data row1 col0\" >10.1</td>\n",
       "            </tr>\n",
       "            <tr>\n",
       "                        <th id=\"T_f9ce6166_1c6a_11ec_acae_02420a390737level0_row2\" class=\"row_heading level0 row2\" >dob_years</th>\n",
       "                        <td id=\"T_f9ce6166_1c6a_11ec_acae_02420a390737row2_col0\" class=\"data row2 col0\" >0</td>\n",
       "            </tr>\n",
       "            <tr>\n",
       "                        <th id=\"T_f9ce6166_1c6a_11ec_acae_02420a390737level0_row3\" class=\"row_heading level0 row3\" >education</th>\n",
       "                        <td id=\"T_f9ce6166_1c6a_11ec_acae_02420a390737row3_col0\" class=\"data row3 col0\" >0</td>\n",
       "            </tr>\n",
       "            <tr>\n",
       "                        <th id=\"T_f9ce6166_1c6a_11ec_acae_02420a390737level0_row4\" class=\"row_heading level0 row4\" >education_id</th>\n",
       "                        <td id=\"T_f9ce6166_1c6a_11ec_acae_02420a390737row4_col0\" class=\"data row4 col0\" >0</td>\n",
       "            </tr>\n",
       "            <tr>\n",
       "                        <th id=\"T_f9ce6166_1c6a_11ec_acae_02420a390737level0_row5\" class=\"row_heading level0 row5\" >family_status</th>\n",
       "                        <td id=\"T_f9ce6166_1c6a_11ec_acae_02420a390737row5_col0\" class=\"data row5 col0\" >0</td>\n",
       "            </tr>\n",
       "            <tr>\n",
       "                        <th id=\"T_f9ce6166_1c6a_11ec_acae_02420a390737level0_row6\" class=\"row_heading level0 row6\" >family_status_id</th>\n",
       "                        <td id=\"T_f9ce6166_1c6a_11ec_acae_02420a390737row6_col0\" class=\"data row6 col0\" >0</td>\n",
       "            </tr>\n",
       "            <tr>\n",
       "                        <th id=\"T_f9ce6166_1c6a_11ec_acae_02420a390737level0_row7\" class=\"row_heading level0 row7\" >gender</th>\n",
       "                        <td id=\"T_f9ce6166_1c6a_11ec_acae_02420a390737row7_col0\" class=\"data row7 col0\" >0</td>\n",
       "            </tr>\n",
       "            <tr>\n",
       "                        <th id=\"T_f9ce6166_1c6a_11ec_acae_02420a390737level0_row8\" class=\"row_heading level0 row8\" >income_type</th>\n",
       "                        <td id=\"T_f9ce6166_1c6a_11ec_acae_02420a390737row8_col0\" class=\"data row8 col0\" >0</td>\n",
       "            </tr>\n",
       "            <tr>\n",
       "                        <th id=\"T_f9ce6166_1c6a_11ec_acae_02420a390737level0_row9\" class=\"row_heading level0 row9\" >debt</th>\n",
       "                        <td id=\"T_f9ce6166_1c6a_11ec_acae_02420a390737row9_col0\" class=\"data row9 col0\" >0</td>\n",
       "            </tr>\n",
       "            <tr>\n",
       "                        <th id=\"T_f9ce6166_1c6a_11ec_acae_02420a390737level0_row10\" class=\"row_heading level0 row10\" >total_income</th>\n",
       "                        <td id=\"T_f9ce6166_1c6a_11ec_acae_02420a390737row10_col0\" class=\"data row10 col0\" >10.1</td>\n",
       "            </tr>\n",
       "            <tr>\n",
       "                        <th id=\"T_f9ce6166_1c6a_11ec_acae_02420a390737level0_row11\" class=\"row_heading level0 row11\" >purpose</th>\n",
       "                        <td id=\"T_f9ce6166_1c6a_11ec_acae_02420a390737row11_col0\" class=\"data row11 col0\" >0</td>\n",
       "            </tr>\n",
       "    </tbody></table>"
      ],
      "text/plain": [
       "<pandas.io.formats.style.Styler at 0x7f947e9030d0>"
      ]
     },
     "metadata": {},
     "output_type": "display_data"
    },
    {
     "name": "stdout",
     "output_type": "stream",
     "text": [
      "----------------------------------------\n"
     ]
    }
   ],
   "source": [
    "df_info(df)"
   ]
  },
  {
   "cell_type": "markdown",
   "metadata": {},
   "source": [
    "**Вывод**"
   ]
  },
  {
   "cell_type": "markdown",
   "metadata": {},
   "source": [
    "В этом разделе я посмотрел сначала 15 случайных значений таблицы, далее посмотрел общую информацию о таблице и после \n",
    "посмотрел количество пропущенных значений в процентах, и где они находятся.\n",
    "\n",
    "Пропущенных значений почти 10% в графе стаж(days_employed) и ежемесячный доход(total_income) и их одинаковое количество ....хмммм...что бы это значило..\n",
    "\n",
    "И неучесть эти значения мы не можем, так как 10% могут сильно повлиять на конечный результат.\n",
    "Предположим, что это самозанятые граждани без декларированных доходов (так как их возраст говорит о том, что стаж у них должен быть)\n",
    "\n",
    "Так, взвесив все за и против, мы всё таки можем поставить и оставить пропуски в days_employed, ежемесячный доход мы усредним, \n",
    "но при этом необходимо сообщить Заказчику о возникшей проблеме(то есть Вам) и запросить пояснение по этим строкам, чтобы выдать корректный результат"
   ]
  },
  {
   "cell_type": "markdown",
   "metadata": {},
   "source": [
    "## Шаг 2. Предобработка данных"
   ]
  },
  {
   "cell_type": "markdown",
   "metadata": {},
   "source": [
    "### Обработка пропусков"
   ]
  },
  {
   "cell_type": "code",
   "execution_count": 19,
   "metadata": {},
   "outputs": [
    {
     "data": {
      "text/plain": [
       "12   NaN\n",
       "26   NaN\n",
       "29   NaN\n",
       "41   NaN\n",
       "55   NaN\n",
       "Name: total_income, dtype: float64"
      ]
     },
     "execution_count": 19,
     "metadata": {},
     "output_type": "execute_result"
    }
   ],
   "source": [
    "df.loc[df['total_income'].isna(), 'total_income'].head() "
   ]
  },
  {
   "cell_type": "code",
   "execution_count": 20,
   "metadata": {},
   "outputs": [],
   "source": [
    "df_temp = df.copy() "
   ]
  },
  {
   "cell_type": "code",
   "execution_count": 21,
   "metadata": {},
   "outputs": [
    {
     "data": {
      "text/plain": [
       "12    145017.937533\n",
       "26    145017.937533\n",
       "29    145017.937533\n",
       "41    145017.937533\n",
       "55    145017.937533\n",
       "Name: total_income, dtype: float64"
      ]
     },
     "execution_count": 21,
     "metadata": {},
     "output_type": "execute_result"
    }
   ],
   "source": [
    "df_temp.loc[df['total_income'].isna(), 'total_income'] = df['total_income'].median() \n",
    "df_temp.loc[df['total_income'].isna(), 'total_income'].head()"
   ]
  },
  {
   "cell_type": "code",
   "execution_count": 22,
   "metadata": {},
   "outputs": [
    {
     "data": {
      "text/plain": [
       "array(['сотрудник', 'пенсионер', 'компаньон', 'госслужащий',\n",
       "       'безработный', 'предприниматель', 'студент', 'в декрете'],\n",
       "      dtype=object)"
      ]
     },
     "execution_count": 22,
     "metadata": {},
     "output_type": "execute_result"
    }
   ],
   "source": [
    "df['income_type'].unique()"
   ]
  },
  {
   "cell_type": "code",
   "execution_count": 23,
   "metadata": {},
   "outputs": [
    {
     "data": {
      "text/plain": [
       "'сотрудник'"
      ]
     },
     "metadata": {},
     "output_type": "display_data"
    },
    {
     "data": {
      "text/plain": [
       "'пенсионер'"
      ]
     },
     "metadata": {},
     "output_type": "display_data"
    },
    {
     "data": {
      "text/plain": [
       "'компаньон'"
      ]
     },
     "metadata": {},
     "output_type": "display_data"
    },
    {
     "data": {
      "text/plain": [
       "'госслужащий'"
      ]
     },
     "metadata": {},
     "output_type": "display_data"
    },
    {
     "data": {
      "text/plain": [
       "'безработный'"
      ]
     },
     "metadata": {},
     "output_type": "display_data"
    },
    {
     "data": {
      "text/plain": [
       "'предприниматель'"
      ]
     },
     "metadata": {},
     "output_type": "display_data"
    },
    {
     "data": {
      "text/plain": [
       "'студент'"
      ]
     },
     "metadata": {},
     "output_type": "display_data"
    },
    {
     "data": {
      "text/plain": [
       "'в декрете'"
      ]
     },
     "metadata": {},
     "output_type": "display_data"
    }
   ],
   "source": [
    "for type_unique in df['income_type'].unique(): \n",
    "    display(type_unique)\n",
    "    "
   ]
  },
  {
   "cell_type": "code",
   "execution_count": 24,
   "metadata": {},
   "outputs": [
    {
     "name": "stdout",
     "output_type": "stream",
     "text": [
      "----------------------------------------\n",
      "<class 'pandas.core.frame.DataFrame'>\n",
      "RangeIndex: 21525 entries, 0 to 21524\n",
      "Data columns (total 12 columns):\n",
      "children            21525 non-null int64\n",
      "days_employed       19351 non-null float64\n",
      "dob_years           21525 non-null int64\n",
      "education           21525 non-null object\n",
      "education_id        21525 non-null int64\n",
      "family_status       21525 non-null object\n",
      "family_status_id    21525 non-null int64\n",
      "gender              21525 non-null object\n",
      "income_type         21525 non-null object\n",
      "debt                21525 non-null int64\n",
      "total_income        21525 non-null float64\n",
      "purpose             21525 non-null object\n",
      "dtypes: float64(2), int64(5), object(5)\n",
      "memory usage: 2.0+ MB\n",
      "None\n",
      "----------------------------------------\n"
     ]
    },
    {
     "data": {
      "text/html": [
       "<style  type=\"text/css\" >\n",
       "    #T_071689ac_1c6b_11ec_acae_02420a390737row0_col0 {\n",
       "            background-color:  #3b4cc0;\n",
       "            color:  #f1f1f1;\n",
       "        }    #T_071689ac_1c6b_11ec_acae_02420a390737row1_col0 {\n",
       "            background-color:  #b40426;\n",
       "            color:  #f1f1f1;\n",
       "        }    #T_071689ac_1c6b_11ec_acae_02420a390737row2_col0 {\n",
       "            background-color:  #3b4cc0;\n",
       "            color:  #f1f1f1;\n",
       "        }    #T_071689ac_1c6b_11ec_acae_02420a390737row3_col0 {\n",
       "            background-color:  #3b4cc0;\n",
       "            color:  #f1f1f1;\n",
       "        }    #T_071689ac_1c6b_11ec_acae_02420a390737row4_col0 {\n",
       "            background-color:  #3b4cc0;\n",
       "            color:  #f1f1f1;\n",
       "        }    #T_071689ac_1c6b_11ec_acae_02420a390737row5_col0 {\n",
       "            background-color:  #3b4cc0;\n",
       "            color:  #f1f1f1;\n",
       "        }    #T_071689ac_1c6b_11ec_acae_02420a390737row6_col0 {\n",
       "            background-color:  #3b4cc0;\n",
       "            color:  #f1f1f1;\n",
       "        }    #T_071689ac_1c6b_11ec_acae_02420a390737row7_col0 {\n",
       "            background-color:  #3b4cc0;\n",
       "            color:  #f1f1f1;\n",
       "        }    #T_071689ac_1c6b_11ec_acae_02420a390737row8_col0 {\n",
       "            background-color:  #3b4cc0;\n",
       "            color:  #f1f1f1;\n",
       "        }    #T_071689ac_1c6b_11ec_acae_02420a390737row9_col0 {\n",
       "            background-color:  #3b4cc0;\n",
       "            color:  #f1f1f1;\n",
       "        }    #T_071689ac_1c6b_11ec_acae_02420a390737row10_col0 {\n",
       "            background-color:  #3b4cc0;\n",
       "            color:  #f1f1f1;\n",
       "        }    #T_071689ac_1c6b_11ec_acae_02420a390737row11_col0 {\n",
       "            background-color:  #3b4cc0;\n",
       "            color:  #f1f1f1;\n",
       "        }</style><table id=\"T_071689ac_1c6b_11ec_acae_02420a390737\" ><thead>    <tr>        <th class=\"blank level0\" ></th>        <th class=\"col_heading level0 col0\" >0</th>    </tr></thead><tbody>\n",
       "                <tr>\n",
       "                        <th id=\"T_071689ac_1c6b_11ec_acae_02420a390737level0_row0\" class=\"row_heading level0 row0\" >children</th>\n",
       "                        <td id=\"T_071689ac_1c6b_11ec_acae_02420a390737row0_col0\" class=\"data row0 col0\" >0</td>\n",
       "            </tr>\n",
       "            <tr>\n",
       "                        <th id=\"T_071689ac_1c6b_11ec_acae_02420a390737level0_row1\" class=\"row_heading level0 row1\" >days_employed</th>\n",
       "                        <td id=\"T_071689ac_1c6b_11ec_acae_02420a390737row1_col0\" class=\"data row1 col0\" >10.1</td>\n",
       "            </tr>\n",
       "            <tr>\n",
       "                        <th id=\"T_071689ac_1c6b_11ec_acae_02420a390737level0_row2\" class=\"row_heading level0 row2\" >dob_years</th>\n",
       "                        <td id=\"T_071689ac_1c6b_11ec_acae_02420a390737row2_col0\" class=\"data row2 col0\" >0</td>\n",
       "            </tr>\n",
       "            <tr>\n",
       "                        <th id=\"T_071689ac_1c6b_11ec_acae_02420a390737level0_row3\" class=\"row_heading level0 row3\" >education</th>\n",
       "                        <td id=\"T_071689ac_1c6b_11ec_acae_02420a390737row3_col0\" class=\"data row3 col0\" >0</td>\n",
       "            </tr>\n",
       "            <tr>\n",
       "                        <th id=\"T_071689ac_1c6b_11ec_acae_02420a390737level0_row4\" class=\"row_heading level0 row4\" >education_id</th>\n",
       "                        <td id=\"T_071689ac_1c6b_11ec_acae_02420a390737row4_col0\" class=\"data row4 col0\" >0</td>\n",
       "            </tr>\n",
       "            <tr>\n",
       "                        <th id=\"T_071689ac_1c6b_11ec_acae_02420a390737level0_row5\" class=\"row_heading level0 row5\" >family_status</th>\n",
       "                        <td id=\"T_071689ac_1c6b_11ec_acae_02420a390737row5_col0\" class=\"data row5 col0\" >0</td>\n",
       "            </tr>\n",
       "            <tr>\n",
       "                        <th id=\"T_071689ac_1c6b_11ec_acae_02420a390737level0_row6\" class=\"row_heading level0 row6\" >family_status_id</th>\n",
       "                        <td id=\"T_071689ac_1c6b_11ec_acae_02420a390737row6_col0\" class=\"data row6 col0\" >0</td>\n",
       "            </tr>\n",
       "            <tr>\n",
       "                        <th id=\"T_071689ac_1c6b_11ec_acae_02420a390737level0_row7\" class=\"row_heading level0 row7\" >gender</th>\n",
       "                        <td id=\"T_071689ac_1c6b_11ec_acae_02420a390737row7_col0\" class=\"data row7 col0\" >0</td>\n",
       "            </tr>\n",
       "            <tr>\n",
       "                        <th id=\"T_071689ac_1c6b_11ec_acae_02420a390737level0_row8\" class=\"row_heading level0 row8\" >income_type</th>\n",
       "                        <td id=\"T_071689ac_1c6b_11ec_acae_02420a390737row8_col0\" class=\"data row8 col0\" >0</td>\n",
       "            </tr>\n",
       "            <tr>\n",
       "                        <th id=\"T_071689ac_1c6b_11ec_acae_02420a390737level0_row9\" class=\"row_heading level0 row9\" >debt</th>\n",
       "                        <td id=\"T_071689ac_1c6b_11ec_acae_02420a390737row9_col0\" class=\"data row9 col0\" >0</td>\n",
       "            </tr>\n",
       "            <tr>\n",
       "                        <th id=\"T_071689ac_1c6b_11ec_acae_02420a390737level0_row10\" class=\"row_heading level0 row10\" >total_income</th>\n",
       "                        <td id=\"T_071689ac_1c6b_11ec_acae_02420a390737row10_col0\" class=\"data row10 col0\" >0</td>\n",
       "            </tr>\n",
       "            <tr>\n",
       "                        <th id=\"T_071689ac_1c6b_11ec_acae_02420a390737level0_row11\" class=\"row_heading level0 row11\" >purpose</th>\n",
       "                        <td id=\"T_071689ac_1c6b_11ec_acae_02420a390737row11_col0\" class=\"data row11 col0\" >0</td>\n",
       "            </tr>\n",
       "    </tbody></table>"
      ],
      "text/plain": [
       "<pandas.io.formats.style.Styler at 0x7f947e9215d0>"
      ]
     },
     "metadata": {},
     "output_type": "display_data"
    },
    {
     "name": "stdout",
     "output_type": "stream",
     "text": [
      "----------------------------------------\n"
     ]
    }
   ],
   "source": [
    "def no_nan_univ(dataframe, category, value):\n",
    "    for i in dataframe[category].unique():\n",
    "        dataframe.loc[(dataframe[category]== i) & (dataframe[value].isna()), value] = \\\n",
    "        dataframe.loc[dataframe[category]== i, value].median()\n",
    "    return dataframe\n",
    "df = pd.read_csv('/datasets/data.csv')\n",
    "df_notnan = no_nan_univ(df, 'income_type', 'total_income')\n",
    "df_info(df_notnan)\n"
   ]
  },
  {
   "cell_type": "code",
   "execution_count": 25,
   "metadata": {
    "scrolled": false
   },
   "outputs": [
    {
     "data": {
      "text/plain": [
       "сотрудник          11119\n",
       "компаньон           5085\n",
       "пенсионер           3856\n",
       "госслужащий         1459\n",
       "безработный            2\n",
       "предприниматель        2\n",
       "в декрете              1\n",
       "студент                1\n",
       "Name: income_type, dtype: int64"
      ]
     },
     "execution_count": 25,
     "metadata": {},
     "output_type": "execute_result"
    }
   ],
   "source": [
    "df_notnan['income_type'].value_counts()"
   ]
  },
  {
   "cell_type": "code",
   "execution_count": 26,
   "metadata": {},
   "outputs": [
    {
     "data": {
      "text/html": [
       "<div>\n",
       "<style scoped>\n",
       "    .dataframe tbody tr th:only-of-type {\n",
       "        vertical-align: middle;\n",
       "    }\n",
       "\n",
       "    .dataframe tbody tr th {\n",
       "        vertical-align: top;\n",
       "    }\n",
       "\n",
       "    .dataframe thead th {\n",
       "        text-align: right;\n",
       "    }\n",
       "</style>\n",
       "<table border=\"1\" class=\"dataframe\">\n",
       "  <thead>\n",
       "    <tr style=\"text-align: right;\">\n",
       "      <th></th>\n",
       "      <th>children</th>\n",
       "      <th>days_employed</th>\n",
       "      <th>dob_years</th>\n",
       "      <th>education</th>\n",
       "      <th>education_id</th>\n",
       "      <th>family_status</th>\n",
       "      <th>family_status_id</th>\n",
       "      <th>gender</th>\n",
       "      <th>income_type</th>\n",
       "      <th>debt</th>\n",
       "      <th>total_income</th>\n",
       "      <th>purpose</th>\n",
       "    </tr>\n",
       "  </thead>\n",
       "  <tbody>\n",
       "    <tr>\n",
       "      <td>16745</td>\n",
       "      <td>0</td>\n",
       "      <td>16238.000000</td>\n",
       "      <td>59</td>\n",
       "      <td>среднее</td>\n",
       "      <td>1</td>\n",
       "      <td>в разводе</td>\n",
       "      <td>3</td>\n",
       "      <td>f</td>\n",
       "      <td>пенсионер</td>\n",
       "      <td>0</td>\n",
       "      <td>85477.663747</td>\n",
       "      <td>дополнительное образование</td>\n",
       "    </tr>\n",
       "    <tr>\n",
       "      <td>6014</td>\n",
       "      <td>0</td>\n",
       "      <td>507.403092</td>\n",
       "      <td>46</td>\n",
       "      <td>среднее</td>\n",
       "      <td>1</td>\n",
       "      <td>женат / замужем</td>\n",
       "      <td>0</td>\n",
       "      <td>f</td>\n",
       "      <td>сотрудник</td>\n",
       "      <td>0</td>\n",
       "      <td>73986.292718</td>\n",
       "      <td>строительство жилой недвижимости</td>\n",
       "    </tr>\n",
       "    <tr>\n",
       "      <td>14505</td>\n",
       "      <td>0</td>\n",
       "      <td>1000.986893</td>\n",
       "      <td>53</td>\n",
       "      <td>высшее</td>\n",
       "      <td>0</td>\n",
       "      <td>не женат / не замужем</td>\n",
       "      <td>4</td>\n",
       "      <td>f</td>\n",
       "      <td>сотрудник</td>\n",
       "      <td>0</td>\n",
       "      <td>184331.290935</td>\n",
       "      <td>строительство недвижимости</td>\n",
       "    </tr>\n",
       "    <tr>\n",
       "      <td>12532</td>\n",
       "      <td>3</td>\n",
       "      <td>1375.766246</td>\n",
       "      <td>29</td>\n",
       "      <td>среднее</td>\n",
       "      <td>1</td>\n",
       "      <td>женат / замужем</td>\n",
       "      <td>0</td>\n",
       "      <td>f</td>\n",
       "      <td>сотрудник</td>\n",
       "      <td>1</td>\n",
       "      <td>181158.423789</td>\n",
       "      <td>ремонт жилью</td>\n",
       "    </tr>\n",
       "    <tr>\n",
       "      <td>14055</td>\n",
       "      <td>0</td>\n",
       "      <td>14455.000000</td>\n",
       "      <td>67</td>\n",
       "      <td>среднее</td>\n",
       "      <td>1</td>\n",
       "      <td>женат / замужем</td>\n",
       "      <td>0</td>\n",
       "      <td>f</td>\n",
       "      <td>пенсионер</td>\n",
       "      <td>0</td>\n",
       "      <td>53272.542218</td>\n",
       "      <td>строительство жилой недвижимости</td>\n",
       "    </tr>\n",
       "    <tr>\n",
       "      <td>6881</td>\n",
       "      <td>0</td>\n",
       "      <td>829.632219</td>\n",
       "      <td>28</td>\n",
       "      <td>среднее</td>\n",
       "      <td>1</td>\n",
       "      <td>не женат / не замужем</td>\n",
       "      <td>4</td>\n",
       "      <td>m</td>\n",
       "      <td>сотрудник</td>\n",
       "      <td>1</td>\n",
       "      <td>106568.584137</td>\n",
       "      <td>высшее образование</td>\n",
       "    </tr>\n",
       "    <tr>\n",
       "      <td>10596</td>\n",
       "      <td>0</td>\n",
       "      <td>1667.140839</td>\n",
       "      <td>29</td>\n",
       "      <td>высшее</td>\n",
       "      <td>0</td>\n",
       "      <td>женат / замужем</td>\n",
       "      <td>0</td>\n",
       "      <td>m</td>\n",
       "      <td>сотрудник</td>\n",
       "      <td>0</td>\n",
       "      <td>408179.974300</td>\n",
       "      <td>покупка жилья</td>\n",
       "    </tr>\n",
       "    <tr>\n",
       "      <td>2012</td>\n",
       "      <td>1</td>\n",
       "      <td>15825.000000</td>\n",
       "      <td>57</td>\n",
       "      <td>среднее</td>\n",
       "      <td>1</td>\n",
       "      <td>вдовец / вдова</td>\n",
       "      <td>2</td>\n",
       "      <td>f</td>\n",
       "      <td>пенсионер</td>\n",
       "      <td>0</td>\n",
       "      <td>228300.326500</td>\n",
       "      <td>на покупку автомобиля</td>\n",
       "    </tr>\n",
       "    <tr>\n",
       "      <td>4945</td>\n",
       "      <td>0</td>\n",
       "      <td>NaN</td>\n",
       "      <td>23</td>\n",
       "      <td>среднее</td>\n",
       "      <td>1</td>\n",
       "      <td>не женат / не замужем</td>\n",
       "      <td>4</td>\n",
       "      <td>m</td>\n",
       "      <td>компаньон</td>\n",
       "      <td>0</td>\n",
       "      <td>172357.950966</td>\n",
       "      <td>операции с коммерческой недвижимостью</td>\n",
       "    </tr>\n",
       "    <tr>\n",
       "      <td>1447</td>\n",
       "      <td>0</td>\n",
       "      <td>1980.262882</td>\n",
       "      <td>29</td>\n",
       "      <td>среднее</td>\n",
       "      <td>1</td>\n",
       "      <td>женат / замужем</td>\n",
       "      <td>0</td>\n",
       "      <td>m</td>\n",
       "      <td>сотрудник</td>\n",
       "      <td>0</td>\n",
       "      <td>117590.107671</td>\n",
       "      <td>приобретение автомобиля</td>\n",
       "    </tr>\n",
       "    <tr>\n",
       "      <td>1561</td>\n",
       "      <td>2</td>\n",
       "      <td>NaN</td>\n",
       "      <td>43</td>\n",
       "      <td>среднее</td>\n",
       "      <td>1</td>\n",
       "      <td>не женат / не замужем</td>\n",
       "      <td>4</td>\n",
       "      <td>f</td>\n",
       "      <td>сотрудник</td>\n",
       "      <td>0</td>\n",
       "      <td>142594.396847</td>\n",
       "      <td>автомобиль</td>\n",
       "    </tr>\n",
       "    <tr>\n",
       "      <td>15970</td>\n",
       "      <td>0</td>\n",
       "      <td>6160.820391</td>\n",
       "      <td>45</td>\n",
       "      <td>среднее</td>\n",
       "      <td>1</td>\n",
       "      <td>женат / замужем</td>\n",
       "      <td>0</td>\n",
       "      <td>f</td>\n",
       "      <td>сотрудник</td>\n",
       "      <td>1</td>\n",
       "      <td>121925.930427</td>\n",
       "      <td>получение образования</td>\n",
       "    </tr>\n",
       "    <tr>\n",
       "      <td>20105</td>\n",
       "      <td>2</td>\n",
       "      <td>1769.202365</td>\n",
       "      <td>41</td>\n",
       "      <td>среднее</td>\n",
       "      <td>1</td>\n",
       "      <td>в разводе</td>\n",
       "      <td>3</td>\n",
       "      <td>f</td>\n",
       "      <td>сотрудник</td>\n",
       "      <td>0</td>\n",
       "      <td>141573.270579</td>\n",
       "      <td>сделка с автомобилем</td>\n",
       "    </tr>\n",
       "    <tr>\n",
       "      <td>11572</td>\n",
       "      <td>2</td>\n",
       "      <td>1075.117002</td>\n",
       "      <td>35</td>\n",
       "      <td>неоконченное высшее</td>\n",
       "      <td>2</td>\n",
       "      <td>женат / замужем</td>\n",
       "      <td>0</td>\n",
       "      <td>f</td>\n",
       "      <td>компаньон</td>\n",
       "      <td>0</td>\n",
       "      <td>281612.842685</td>\n",
       "      <td>строительство жилой недвижимости</td>\n",
       "    </tr>\n",
       "    <tr>\n",
       "      <td>1317</td>\n",
       "      <td>0</td>\n",
       "      <td>2371.718327</td>\n",
       "      <td>54</td>\n",
       "      <td>среднее</td>\n",
       "      <td>1</td>\n",
       "      <td>не женат / не замужем</td>\n",
       "      <td>4</td>\n",
       "      <td>m</td>\n",
       "      <td>сотрудник</td>\n",
       "      <td>0</td>\n",
       "      <td>71590.985862</td>\n",
       "      <td>операции с коммерческой недвижимостью</td>\n",
       "    </tr>\n",
       "  </tbody>\n",
       "</table>\n",
       "</div>"
      ],
      "text/plain": [
       "       children  days_employed  dob_years            education  education_id  \\\n",
       "16745         0   16238.000000         59              среднее             1   \n",
       "6014          0     507.403092         46              среднее             1   \n",
       "14505         0    1000.986893         53               высшее             0   \n",
       "12532         3    1375.766246         29              среднее             1   \n",
       "14055         0   14455.000000         67              среднее             1   \n",
       "6881          0     829.632219         28              среднее             1   \n",
       "10596         0    1667.140839         29               высшее             0   \n",
       "2012          1   15825.000000         57              среднее             1   \n",
       "4945          0            NaN         23              среднее             1   \n",
       "1447          0    1980.262882         29              среднее             1   \n",
       "1561          2            NaN         43              среднее             1   \n",
       "15970         0    6160.820391         45              среднее             1   \n",
       "20105         2    1769.202365         41              среднее             1   \n",
       "11572         2    1075.117002         35  неоконченное высшее             2   \n",
       "1317          0    2371.718327         54              среднее             1   \n",
       "\n",
       "               family_status  family_status_id gender income_type  debt  \\\n",
       "16745              в разводе                 3      f   пенсионер     0   \n",
       "6014         женат / замужем                 0      f   сотрудник     0   \n",
       "14505  не женат / не замужем                 4      f   сотрудник     0   \n",
       "12532        женат / замужем                 0      f   сотрудник     1   \n",
       "14055        женат / замужем                 0      f   пенсионер     0   \n",
       "6881   не женат / не замужем                 4      m   сотрудник     1   \n",
       "10596        женат / замужем                 0      m   сотрудник     0   \n",
       "2012          вдовец / вдова                 2      f   пенсионер     0   \n",
       "4945   не женат / не замужем                 4      m   компаньон     0   \n",
       "1447         женат / замужем                 0      m   сотрудник     0   \n",
       "1561   не женат / не замужем                 4      f   сотрудник     0   \n",
       "15970        женат / замужем                 0      f   сотрудник     1   \n",
       "20105              в разводе                 3      f   сотрудник     0   \n",
       "11572        женат / замужем                 0      f   компаньон     0   \n",
       "1317   не женат / не замужем                 4      m   сотрудник     0   \n",
       "\n",
       "        total_income                                purpose  \n",
       "16745   85477.663747             дополнительное образование  \n",
       "6014    73986.292718       строительство жилой недвижимости  \n",
       "14505  184331.290935             строительство недвижимости  \n",
       "12532  181158.423789                           ремонт жилью  \n",
       "14055   53272.542218       строительство жилой недвижимости  \n",
       "6881   106568.584137                     высшее образование  \n",
       "10596  408179.974300                          покупка жилья  \n",
       "2012   228300.326500                  на покупку автомобиля  \n",
       "4945   172357.950966  операции с коммерческой недвижимостью  \n",
       "1447   117590.107671                приобретение автомобиля  \n",
       "1561   142594.396847                             автомобиль  \n",
       "15970  121925.930427                  получение образования  \n",
       "20105  141573.270579                   сделка с автомобилем  \n",
       "11572  281612.842685       строительство жилой недвижимости  \n",
       "1317    71590.985862  операции с коммерческой недвижимостью  "
      ]
     },
     "metadata": {},
     "output_type": "display_data"
    }
   ],
   "source": [
    "df.loc[df['income_type'] == 'пенсионер','days_employed'] = df.loc[df['income_type'] == 'пенсионер','days_employed'] //24 \n",
    "df['education'] = df['education'].str.lower()\n",
    "df['gender'] = df['gender'].str.lower()\n",
    "df['family_status'] = df['family_status'].str.lower()\n",
    "df['days_employed'] = df['days_employed'].abs()\n",
    "\n",
    "display(df.sample(15))\n",
    " "
   ]
  },
  {
   "cell_type": "code",
   "execution_count": 9,
   "metadata": {
    "scrolled": true
   },
   "outputs": [
    {
     "data": {
      "text/html": [
       "<div>\n",
       "<style scoped>\n",
       "    .dataframe tbody tr th:only-of-type {\n",
       "        vertical-align: middle;\n",
       "    }\n",
       "\n",
       "    .dataframe tbody tr th {\n",
       "        vertical-align: top;\n",
       "    }\n",
       "\n",
       "    .dataframe thead th {\n",
       "        text-align: right;\n",
       "    }\n",
       "</style>\n",
       "<table border=\"1\" class=\"dataframe\">\n",
       "  <thead>\n",
       "    <tr style=\"text-align: right;\">\n",
       "      <th></th>\n",
       "      <th>debt</th>\n",
       "    </tr>\n",
       "    <tr>\n",
       "      <th>children</th>\n",
       "      <th></th>\n",
       "    </tr>\n",
       "  </thead>\n",
       "  <tbody>\n",
       "    <tr>\n",
       "      <td>0</td>\n",
       "      <td>1063</td>\n",
       "    </tr>\n",
       "    <tr>\n",
       "      <td>1</td>\n",
       "      <td>444</td>\n",
       "    </tr>\n",
       "    <tr>\n",
       "      <td>2</td>\n",
       "      <td>194</td>\n",
       "    </tr>\n",
       "    <tr>\n",
       "      <td>3</td>\n",
       "      <td>27</td>\n",
       "    </tr>\n",
       "    <tr>\n",
       "      <td>4</td>\n",
       "      <td>4</td>\n",
       "    </tr>\n",
       "    <tr>\n",
       "      <td>5</td>\n",
       "      <td>0</td>\n",
       "    </tr>\n",
       "  </tbody>\n",
       "</table>\n",
       "</div>"
      ],
      "text/plain": [
       "          debt\n",
       "children      \n",
       "0         1063\n",
       "1          444\n",
       "2          194\n",
       "3           27\n",
       "4            4\n",
       "5            0"
      ]
     },
     "execution_count": 9,
     "metadata": {},
     "output_type": "execute_result"
    }
   ],
   "source": [
    "df.query('children != -1 & children !=20').groupby('children')[['debt']].sum()"
   ]
  },
  {
   "cell_type": "code",
   "execution_count": 8,
   "metadata": {},
   "outputs": [
    {
     "data": {
      "text/html": [
       "<div>\n",
       "<style scoped>\n",
       "    .dataframe tbody tr th:only-of-type {\n",
       "        vertical-align: middle;\n",
       "    }\n",
       "\n",
       "    .dataframe tbody tr th {\n",
       "        vertical-align: top;\n",
       "    }\n",
       "\n",
       "    .dataframe thead th {\n",
       "        text-align: right;\n",
       "    }\n",
       "</style>\n",
       "<table border=\"1\" class=\"dataframe\">\n",
       "  <thead>\n",
       "    <tr style=\"text-align: right;\">\n",
       "      <th></th>\n",
       "      <th>family_status</th>\n",
       "      <th>debt</th>\n",
       "    </tr>\n",
       "  </thead>\n",
       "  <tbody>\n",
       "    <tr>\n",
       "      <td>0</td>\n",
       "      <td>Не женат / не замужем</td>\n",
       "      <td>274</td>\n",
       "    </tr>\n",
       "    <tr>\n",
       "      <td>1</td>\n",
       "      <td>в разводе</td>\n",
       "      <td>85</td>\n",
       "    </tr>\n",
       "    <tr>\n",
       "      <td>2</td>\n",
       "      <td>вдовец / вдова</td>\n",
       "      <td>63</td>\n",
       "    </tr>\n",
       "    <tr>\n",
       "      <td>3</td>\n",
       "      <td>гражданский брак</td>\n",
       "      <td>388</td>\n",
       "    </tr>\n",
       "    <tr>\n",
       "      <td>4</td>\n",
       "      <td>женат / замужем</td>\n",
       "      <td>931</td>\n",
       "    </tr>\n",
       "  </tbody>\n",
       "</table>\n",
       "</div>"
      ],
      "text/plain": [
       "           family_status  debt\n",
       "0  Не женат / не замужем   274\n",
       "1              в разводе    85\n",
       "2         вдовец / вдова    63\n",
       "3       гражданский брак   388\n",
       "4        женат / замужем   931"
      ]
     },
     "execution_count": 8,
     "metadata": {},
     "output_type": "execute_result"
    }
   ],
   "source": [
    "df_gr_family_status = df.groupby('family_status', as_index = False)[['debt']].sum()\n",
    "df_gr_family_status \n"
   ]
  },
  {
   "cell_type": "code",
   "execution_count": 30,
   "metadata": {},
   "outputs": [],
   "source": [
    "df['days_employed'].fillna(0, inplace=True)"
   ]
  },
  {
   "cell_type": "markdown",
   "metadata": {},
   "source": [
    "**Вывод**"
   ]
  },
  {
   "cell_type": "markdown",
   "metadata": {},
   "source": [
    "<div class=\"alert alert-info\">\n",
    "    \n",
    "В данном разделе я посмотрел строки,где есть пропуски по столбцу total_income,\n",
    "Далее создал копию для дальнейшей работы,\n",
    "После поменял пропущенные значения на медианные\n",
    "И вместо прописывания напрямую условия, прописал в условие переменную из цикла, где всё будет прорабатываться по очереди.\n",
    "Затем написал функцию для автоматизации\n",
    "\n",
    "Мы заменили пропущенные значения в статье дохода на медианные. \n",
    "Стаж при этом оставили, так как для общего исследования он нам не пригодится \n",
    "\n",
    "Я применил метод группировки по двум столбцам debt и children для сравнения этих показателей,\n",
    "исключая аномалии в виде -1 и 20 детей.\n",
    "Применил метод группировки по двум столбцам debt и family_status для сравнения этих показателей.\n",
    "Применил метод группировки по двум столбцам debt и new_purpose для сравнения этих показателей.\n",
    "Так же я заменил все значения на строчные буквы, избавился от отрицательных значений и разобрался со стажем, поделив на 24часа, так как у пенсионеров данные предположительно были предоставлены в минутах\n",
    "\n",
    "Кроме этого, в рамках второй корректировки применил для столбца 'days_employed' метод fillna(), чтобы избавиться от Nan-ов "
   ]
  },
  {
   "cell_type": "markdown",
   "metadata": {},
   "source": [
    "### Замена типа данных"
   ]
  },
  {
   "cell_type": "code",
   "execution_count": 28,
   "metadata": {},
   "outputs": [
    {
     "name": "stdout",
     "output_type": "stream",
     "text": [
      "<class 'pandas.core.frame.DataFrame'>\n",
      "RangeIndex: 21525 entries, 0 to 21524\n",
      "Data columns (total 12 columns):\n",
      "children            21525 non-null int64\n",
      "days_employed       21525 non-null int64\n",
      "dob_years           21525 non-null int64\n",
      "education           21525 non-null object\n",
      "education_id        21525 non-null int64\n",
      "family_status       21525 non-null object\n",
      "family_status_id    21525 non-null int64\n",
      "gender              21525 non-null object\n",
      "income_type         21525 non-null object\n",
      "debt                21525 non-null int64\n",
      "total_income        21525 non-null int64\n",
      "purpose             21525 non-null object\n",
      "dtypes: int64(7), object(5)\n",
      "memory usage: 2.0+ MB\n"
     ]
    }
   ],
   "source": [
    "df ['days_employed'] = df['days_employed'].astype('int')\n",
    "df ['total_income'] = df['total_income'].astype('int')\n",
    "df.info()"
   ]
  },
  {
   "cell_type": "code",
   "execution_count": 20,
   "metadata": {},
   "outputs": [
    {
     "name": "stdout",
     "output_type": "stream",
     "text": [
      "<class 'pandas.core.frame.DataFrame'>\n",
      "RangeIndex: 21525 entries, 0 to 21524\n",
      "Data columns (total 12 columns):\n",
      "children            21525 non-null int64\n",
      "days_employed       19351 non-null float64\n",
      "dob_years           21525 non-null int64\n",
      "education           21525 non-null object\n",
      "education_id        21525 non-null int64\n",
      "family_status       21525 non-null object\n",
      "family_status_id    21525 non-null int64\n",
      "gender              21525 non-null object\n",
      "income_type         21525 non-null object\n",
      "debt                21525 non-null int64\n",
      "total_income        21525 non-null float64\n",
      "purpose             21525 non-null object\n",
      "dtypes: float64(2), int64(5), object(5)\n",
      "memory usage: 2.0+ MB\n"
     ]
    }
   ],
   "source": [
    "df"
   ]
  },
  {
   "cell_type": "markdown",
   "metadata": {},
   "source": [
    "**Вывод**"
   ]
  },
  {
   "cell_type": "markdown",
   "metadata": {},
   "source": [
    "Перевёл значения из float в int в столбцах 'days_employed' и 'total_income'"
   ]
  },
  {
   "cell_type": "markdown",
   "metadata": {},
   "source": [
    "### Обработка дубликатов"
   ]
  },
  {
   "cell_type": "code",
   "execution_count": 21,
   "metadata": {},
   "outputs": [
    {
     "name": "stdout",
     "output_type": "stream",
     "text": [
      "71\n"
     ]
    }
   ],
   "source": [
    "print(df.duplicated().sum()) \n"
   ]
  },
  {
   "cell_type": "code",
   "execution_count": 22,
   "metadata": {},
   "outputs": [],
   "source": [
    "df = df.drop_duplicates().reset_index(drop=True) "
   ]
  },
  {
   "cell_type": "code",
   "execution_count": 23,
   "metadata": {},
   "outputs": [
    {
     "name": "stdout",
     "output_type": "stream",
     "text": [
      "0\n"
     ]
    }
   ],
   "source": [
    "print(df.duplicated().sum()) "
   ]
  },
  {
   "cell_type": "markdown",
   "metadata": {},
   "source": [
    "**Вывод**"
   ]
  },
  {
   "cell_type": "markdown",
   "metadata": {},
   "source": [
    "Можно пренебречь этой цифрой, так как их очень мало в общем количестве имеющихся данных.  Сохранил в переменной df таблицу, очищенную от дубликатов, с новой индексацией. Продолжаю двигаться дальше"
   ]
  },
  {
   "cell_type": "markdown",
   "metadata": {},
   "source": [
    "### Лемматизация"
   ]
  },
  {
   "cell_type": "code",
   "execution_count": 65,
   "metadata": {
    "scrolled": true
   },
   "outputs": [
    {
     "data": {
      "text/plain": [
       "'покупка жилья'"
      ]
     },
     "metadata": {},
     "output_type": "display_data"
    },
    {
     "data": {
      "text/plain": [
       "'приобретение автомобиля'"
      ]
     },
     "metadata": {},
     "output_type": "display_data"
    },
    {
     "data": {
      "text/plain": [
       "'дополнительное образование'"
      ]
     },
     "metadata": {},
     "output_type": "display_data"
    },
    {
     "data": {
      "text/plain": [
       "'сыграть свадьбу'"
      ]
     },
     "metadata": {},
     "output_type": "display_data"
    },
    {
     "data": {
      "text/plain": [
       "'операции с жильем'"
      ]
     },
     "metadata": {},
     "output_type": "display_data"
    },
    {
     "data": {
      "text/plain": [
       "'образование'"
      ]
     },
     "metadata": {},
     "output_type": "display_data"
    },
    {
     "data": {
      "text/plain": [
       "'на проведение свадьбы'"
      ]
     },
     "metadata": {},
     "output_type": "display_data"
    },
    {
     "data": {
      "text/plain": [
       "'покупка жилья для семьи'"
      ]
     },
     "metadata": {},
     "output_type": "display_data"
    },
    {
     "data": {
      "text/plain": [
       "'покупка недвижимости'"
      ]
     },
     "metadata": {},
     "output_type": "display_data"
    },
    {
     "data": {
      "text/plain": [
       "'покупка коммерческой недвижимости'"
      ]
     },
     "metadata": {},
     "output_type": "display_data"
    },
    {
     "data": {
      "text/plain": [
       "'покупка жилой недвижимости'"
      ]
     },
     "metadata": {},
     "output_type": "display_data"
    },
    {
     "data": {
      "text/plain": [
       "'строительство собственной недвижимости'"
      ]
     },
     "metadata": {},
     "output_type": "display_data"
    },
    {
     "data": {
      "text/plain": [
       "'недвижимость'"
      ]
     },
     "metadata": {},
     "output_type": "display_data"
    },
    {
     "data": {
      "text/plain": [
       "'строительство недвижимости'"
      ]
     },
     "metadata": {},
     "output_type": "display_data"
    },
    {
     "data": {
      "text/plain": [
       "'на покупку подержанного автомобиля'"
      ]
     },
     "metadata": {},
     "output_type": "display_data"
    },
    {
     "data": {
      "text/plain": [
       "'на покупку своего автомобиля'"
      ]
     },
     "metadata": {},
     "output_type": "display_data"
    },
    {
     "data": {
      "text/plain": [
       "'операции с коммерческой недвижимостью'"
      ]
     },
     "metadata": {},
     "output_type": "display_data"
    },
    {
     "data": {
      "text/plain": [
       "'строительство жилой недвижимости'"
      ]
     },
     "metadata": {},
     "output_type": "display_data"
    },
    {
     "data": {
      "text/plain": [
       "'жилье'"
      ]
     },
     "metadata": {},
     "output_type": "display_data"
    },
    {
     "data": {
      "text/plain": [
       "'операции со своей недвижимостью'"
      ]
     },
     "metadata": {},
     "output_type": "display_data"
    },
    {
     "data": {
      "text/plain": [
       "'автомобили'"
      ]
     },
     "metadata": {},
     "output_type": "display_data"
    },
    {
     "data": {
      "text/plain": [
       "'заняться образованием'"
      ]
     },
     "metadata": {},
     "output_type": "display_data"
    },
    {
     "data": {
      "text/plain": [
       "'сделка с подержанным автомобилем'"
      ]
     },
     "metadata": {},
     "output_type": "display_data"
    },
    {
     "data": {
      "text/plain": [
       "'получение образования'"
      ]
     },
     "metadata": {},
     "output_type": "display_data"
    },
    {
     "data": {
      "text/plain": [
       "'автомобиль'"
      ]
     },
     "metadata": {},
     "output_type": "display_data"
    },
    {
     "data": {
      "text/plain": [
       "'свадьба'"
      ]
     },
     "metadata": {},
     "output_type": "display_data"
    },
    {
     "data": {
      "text/plain": [
       "'получение дополнительного образования'"
      ]
     },
     "metadata": {},
     "output_type": "display_data"
    },
    {
     "data": {
      "text/plain": [
       "'покупка своего жилья'"
      ]
     },
     "metadata": {},
     "output_type": "display_data"
    },
    {
     "data": {
      "text/plain": [
       "'операции с недвижимостью'"
      ]
     },
     "metadata": {},
     "output_type": "display_data"
    },
    {
     "data": {
      "text/plain": [
       "'получение высшего образования'"
      ]
     },
     "metadata": {},
     "output_type": "display_data"
    },
    {
     "data": {
      "text/plain": [
       "'свой автомобиль'"
      ]
     },
     "metadata": {},
     "output_type": "display_data"
    },
    {
     "data": {
      "text/plain": [
       "'сделка с автомобилем'"
      ]
     },
     "metadata": {},
     "output_type": "display_data"
    },
    {
     "data": {
      "text/plain": [
       "'профильное образование'"
      ]
     },
     "metadata": {},
     "output_type": "display_data"
    },
    {
     "data": {
      "text/plain": [
       "'высшее образование'"
      ]
     },
     "metadata": {},
     "output_type": "display_data"
    },
    {
     "data": {
      "text/plain": [
       "'покупка жилья для сдачи'"
      ]
     },
     "metadata": {},
     "output_type": "display_data"
    },
    {
     "data": {
      "text/plain": [
       "'на покупку автомобиля'"
      ]
     },
     "metadata": {},
     "output_type": "display_data"
    },
    {
     "data": {
      "text/plain": [
       "'ремонт жилью'"
      ]
     },
     "metadata": {},
     "output_type": "display_data"
    },
    {
     "data": {
      "text/plain": [
       "'заняться высшим образованием'"
      ]
     },
     "metadata": {},
     "output_type": "display_data"
    }
   ],
   "source": [
    "for type_unique in df['purpose'].unique():  \n",
    "    display(type_unique)"
   ]
  },
  {
   "cell_type": "markdown",
   "metadata": {},
   "source": [
    "<div class=\"alert alert-info\">\n",
    "    Посмотрел, какие вообще у нас есть категории в столбце purpose"
   ]
  },
  {
   "cell_type": "code",
   "execution_count": 25,
   "metadata": {},
   "outputs": [
    {
     "data": {
      "text/html": [
       "<div>\n",
       "<style scoped>\n",
       "    .dataframe tbody tr th:only-of-type {\n",
       "        vertical-align: middle;\n",
       "    }\n",
       "\n",
       "    .dataframe tbody tr th {\n",
       "        vertical-align: top;\n",
       "    }\n",
       "\n",
       "    .dataframe thead th {\n",
       "        text-align: right;\n",
       "    }\n",
       "</style>\n",
       "<table border=\"1\" class=\"dataframe\">\n",
       "  <thead>\n",
       "    <tr style=\"text-align: right;\">\n",
       "      <th></th>\n",
       "      <th>children</th>\n",
       "      <th>days_employed</th>\n",
       "      <th>dob_years</th>\n",
       "      <th>education</th>\n",
       "      <th>education_id</th>\n",
       "      <th>family_status</th>\n",
       "      <th>family_status_id</th>\n",
       "      <th>gender</th>\n",
       "      <th>income_type</th>\n",
       "      <th>debt</th>\n",
       "      <th>total_income</th>\n",
       "      <th>purpose</th>\n",
       "      <th>new_purpose</th>\n",
       "    </tr>\n",
       "  </thead>\n",
       "  <tbody>\n",
       "    <tr>\n",
       "      <td>0</td>\n",
       "      <td>1</td>\n",
       "      <td>8437.673028</td>\n",
       "      <td>42</td>\n",
       "      <td>высшее</td>\n",
       "      <td>0</td>\n",
       "      <td>женат / замужем</td>\n",
       "      <td>0</td>\n",
       "      <td>f</td>\n",
       "      <td>сотрудник</td>\n",
       "      <td>0</td>\n",
       "      <td>253875.639453</td>\n",
       "      <td>[покупка,  , жилье, \\n]</td>\n",
       "      <td>жилье</td>\n",
       "    </tr>\n",
       "    <tr>\n",
       "      <td>1</td>\n",
       "      <td>1</td>\n",
       "      <td>4024.803754</td>\n",
       "      <td>36</td>\n",
       "      <td>среднее</td>\n",
       "      <td>1</td>\n",
       "      <td>женат / замужем</td>\n",
       "      <td>0</td>\n",
       "      <td>f</td>\n",
       "      <td>сотрудник</td>\n",
       "      <td>0</td>\n",
       "      <td>112080.014102</td>\n",
       "      <td>[приобретение,  , автомобиль, \\n]</td>\n",
       "      <td>автомобиль</td>\n",
       "    </tr>\n",
       "    <tr>\n",
       "      <td>2</td>\n",
       "      <td>0</td>\n",
       "      <td>5623.422610</td>\n",
       "      <td>33</td>\n",
       "      <td>среднее</td>\n",
       "      <td>1</td>\n",
       "      <td>женат / замужем</td>\n",
       "      <td>0</td>\n",
       "      <td>m</td>\n",
       "      <td>сотрудник</td>\n",
       "      <td>0</td>\n",
       "      <td>145885.952297</td>\n",
       "      <td>[покупка,  , жилье, \\n]</td>\n",
       "      <td>жилье</td>\n",
       "    </tr>\n",
       "    <tr>\n",
       "      <td>3</td>\n",
       "      <td>3</td>\n",
       "      <td>4124.747207</td>\n",
       "      <td>32</td>\n",
       "      <td>среднее</td>\n",
       "      <td>1</td>\n",
       "      <td>женат / замужем</td>\n",
       "      <td>0</td>\n",
       "      <td>m</td>\n",
       "      <td>сотрудник</td>\n",
       "      <td>0</td>\n",
       "      <td>267628.550329</td>\n",
       "      <td>[дополнительный,  , образование, \\n]</td>\n",
       "      <td>образование</td>\n",
       "    </tr>\n",
       "    <tr>\n",
       "      <td>4</td>\n",
       "      <td>0</td>\n",
       "      <td>14177.000000</td>\n",
       "      <td>53</td>\n",
       "      <td>среднее</td>\n",
       "      <td>1</td>\n",
       "      <td>гражданский брак</td>\n",
       "      <td>1</td>\n",
       "      <td>f</td>\n",
       "      <td>пенсионер</td>\n",
       "      <td>0</td>\n",
       "      <td>158616.077870</td>\n",
       "      <td>[сыграть,  , свадьба, \\n]</td>\n",
       "      <td>свадьба</td>\n",
       "    </tr>\n",
       "    <tr>\n",
       "      <td>...</td>\n",
       "      <td>...</td>\n",
       "      <td>...</td>\n",
       "      <td>...</td>\n",
       "      <td>...</td>\n",
       "      <td>...</td>\n",
       "      <td>...</td>\n",
       "      <td>...</td>\n",
       "      <td>...</td>\n",
       "      <td>...</td>\n",
       "      <td>...</td>\n",
       "      <td>...</td>\n",
       "      <td>...</td>\n",
       "      <td>...</td>\n",
       "    </tr>\n",
       "    <tr>\n",
       "      <td>21449</td>\n",
       "      <td>1</td>\n",
       "      <td>4529.316663</td>\n",
       "      <td>43</td>\n",
       "      <td>среднее</td>\n",
       "      <td>1</td>\n",
       "      <td>гражданский брак</td>\n",
       "      <td>1</td>\n",
       "      <td>f</td>\n",
       "      <td>компаньон</td>\n",
       "      <td>0</td>\n",
       "      <td>224791.862382</td>\n",
       "      <td>[операция,  , с,  , жилье, \\n]</td>\n",
       "      <td>жилье</td>\n",
       "    </tr>\n",
       "    <tr>\n",
       "      <td>21450</td>\n",
       "      <td>0</td>\n",
       "      <td>14330.000000</td>\n",
       "      <td>67</td>\n",
       "      <td>среднее</td>\n",
       "      <td>1</td>\n",
       "      <td>женат / замужем</td>\n",
       "      <td>0</td>\n",
       "      <td>f</td>\n",
       "      <td>пенсионер</td>\n",
       "      <td>0</td>\n",
       "      <td>155999.806512</td>\n",
       "      <td>[сделка,  , с,  , автомобиль, \\n]</td>\n",
       "      <td>автомобиль</td>\n",
       "    </tr>\n",
       "    <tr>\n",
       "      <td>21451</td>\n",
       "      <td>1</td>\n",
       "      <td>2113.346888</td>\n",
       "      <td>38</td>\n",
       "      <td>среднее</td>\n",
       "      <td>1</td>\n",
       "      <td>гражданский брак</td>\n",
       "      <td>1</td>\n",
       "      <td>m</td>\n",
       "      <td>сотрудник</td>\n",
       "      <td>1</td>\n",
       "      <td>89672.561153</td>\n",
       "      <td>[недвижимость, \\n]</td>\n",
       "      <td>недвижимость</td>\n",
       "    </tr>\n",
       "    <tr>\n",
       "      <td>21452</td>\n",
       "      <td>3</td>\n",
       "      <td>3112.481705</td>\n",
       "      <td>38</td>\n",
       "      <td>среднее</td>\n",
       "      <td>1</td>\n",
       "      <td>женат / замужем</td>\n",
       "      <td>0</td>\n",
       "      <td>m</td>\n",
       "      <td>сотрудник</td>\n",
       "      <td>1</td>\n",
       "      <td>244093.050500</td>\n",
       "      <td>[на,  , покупка,  , свой,  , автомобиль, \\n]</td>\n",
       "      <td>автомобиль</td>\n",
       "    </tr>\n",
       "    <tr>\n",
       "      <td>21453</td>\n",
       "      <td>2</td>\n",
       "      <td>1984.507589</td>\n",
       "      <td>40</td>\n",
       "      <td>среднее</td>\n",
       "      <td>1</td>\n",
       "      <td>женат / замужем</td>\n",
       "      <td>0</td>\n",
       "      <td>f</td>\n",
       "      <td>сотрудник</td>\n",
       "      <td>0</td>\n",
       "      <td>82047.418899</td>\n",
       "      <td>[на,  , покупка,  , автомобиль, \\n]</td>\n",
       "      <td>автомобиль</td>\n",
       "    </tr>\n",
       "  </tbody>\n",
       "</table>\n",
       "<p>21454 rows × 13 columns</p>\n",
       "</div>"
      ],
      "text/plain": [
       "       children  days_employed  dob_years education  education_id  \\\n",
       "0             1    8437.673028         42    высшее             0   \n",
       "1             1    4024.803754         36   среднее             1   \n",
       "2             0    5623.422610         33   среднее             1   \n",
       "3             3    4124.747207         32   среднее             1   \n",
       "4             0   14177.000000         53   среднее             1   \n",
       "...         ...            ...        ...       ...           ...   \n",
       "21449         1    4529.316663         43   среднее             1   \n",
       "21450         0   14330.000000         67   среднее             1   \n",
       "21451         1    2113.346888         38   среднее             1   \n",
       "21452         3    3112.481705         38   среднее             1   \n",
       "21453         2    1984.507589         40   среднее             1   \n",
       "\n",
       "          family_status  family_status_id gender income_type  debt  \\\n",
       "0       женат / замужем                 0      f   сотрудник     0   \n",
       "1       женат / замужем                 0      f   сотрудник     0   \n",
       "2       женат / замужем                 0      m   сотрудник     0   \n",
       "3       женат / замужем                 0      m   сотрудник     0   \n",
       "4      гражданский брак                 1      f   пенсионер     0   \n",
       "...                 ...               ...    ...         ...   ...   \n",
       "21449  гражданский брак                 1      f   компаньон     0   \n",
       "21450   женат / замужем                 0      f   пенсионер     0   \n",
       "21451  гражданский брак                 1      m   сотрудник     1   \n",
       "21452   женат / замужем                 0      m   сотрудник     1   \n",
       "21453   женат / замужем                 0      f   сотрудник     0   \n",
       "\n",
       "        total_income                                       purpose  \\\n",
       "0      253875.639453                       [покупка,  , жилье, \\n]   \n",
       "1      112080.014102             [приобретение,  , автомобиль, \\n]   \n",
       "2      145885.952297                       [покупка,  , жилье, \\n]   \n",
       "3      267628.550329          [дополнительный,  , образование, \\n]   \n",
       "4      158616.077870                     [сыграть,  , свадьба, \\n]   \n",
       "...              ...                                           ...   \n",
       "21449  224791.862382                [операция,  , с,  , жилье, \\n]   \n",
       "21450  155999.806512             [сделка,  , с,  , автомобиль, \\n]   \n",
       "21451   89672.561153                            [недвижимость, \\n]   \n",
       "21452  244093.050500  [на,  , покупка,  , свой,  , автомобиль, \\n]   \n",
       "21453   82047.418899           [на,  , покупка,  , автомобиль, \\n]   \n",
       "\n",
       "        new_purpose  \n",
       "0             жилье  \n",
       "1        автомобиль  \n",
       "2             жилье  \n",
       "3       образование  \n",
       "4           свадьба  \n",
       "...             ...  \n",
       "21449         жилье  \n",
       "21450    автомобиль  \n",
       "21451  недвижимость  \n",
       "21452    автомобиль  \n",
       "21453    автомобиль  \n",
       "\n",
       "[21454 rows x 13 columns]"
      ]
     },
     "execution_count": 25,
     "metadata": {},
     "output_type": "execute_result"
    }
   ],
   "source": [
    "from pymystem3 import Mystem\n",
    "m = Mystem()\n",
    "\n",
    "def lemmatize_purpose(string):                             \n",
    "    lemma = m.lemmatize(string)\n",
    "    return lemma\n",
    "\n",
    "df['purpose'] = df['purpose'].apply(lemmatize_purpose)\n",
    "\n",
    "dest_str = ['жилье', 'автомобиль', 'образование', 'недвижимость', 'свадьба'] \n",
    "\n",
    "def filter_purpose(str_lem):\n",
    "    \"\"\"\n",
    "    создаём функцию, которая отсеивает ненужные слова, возвращая только основные понятия\n",
    "    \"\"\"\n",
    "    for filtr in dest_str:                                 \n",
    "        if filtr in str_lem:                               \n",
    "            return filtr                                   \n",
    "\n",
    "df['new_purpose'] = df['purpose'].apply(filter_purpose)\n",
    "\n",
    "df"
   ]
  },
  {
   "cell_type": "code",
   "execution_count": 26,
   "metadata": {},
   "outputs": [
    {
     "data": {
      "text/plain": [
       "0          жилье\n",
       "1     автомобиль\n",
       "2          жилье\n",
       "3    образование\n",
       "4        свадьба\n",
       "dtype: object"
      ]
     },
     "execution_count": 26,
     "metadata": {},
     "output_type": "execute_result"
    }
   ],
   "source": [
    "purposes_keys = {'жилье', 'недвижимость', 'автомобиль', 'образование', 'свадьба'}\n",
    "\n",
    "def get_purpose(data):\n",
    "    \n",
    "    \"\"\"Присваивает строке категорию цели\"\"\"\n",
    "    \n",
    "    intersection = list(purposes_keys & set(m.lemmatize(data['purpose'])))\n",
    "    \n",
    "    if not intersection:\n",
    "        return 'категория не определена'\n",
    "    return intersection[0]\n",
    "\n",
    "df_example = pd.read_csv('/datasets/data.csv').head()\n",
    "\n",
    "df_example.apply(get_purpose, axis=1)"
   ]
  },
  {
   "cell_type": "markdown",
   "metadata": {},
   "source": [
    "**Вывод**"
   ]
  },
  {
   "cell_type": "markdown",
   "metadata": {},
   "source": [
    "<div class=\"alert alert-info\">\n",
    "    Создал функцию для лемматизации отдельной строки, перебрал с помощью  filtr каждое понятие и сравнил со строкой из таблицы,\n",
    " в случае успеха функция возвращает основное понятие.\n",
    " \n",
    " Добавил новый столбец new_purpose, который обозначает цель кредита одним словом после лемматизации. Так удобнее будет    группировать и сравнивать цели и просрочку по кредитам"
   ]
  },
  {
   "cell_type": "markdown",
   "metadata": {},
   "source": [
    "### Категоризация данных"
   ]
  },
  {
   "cell_type": "code",
   "execution_count": 32,
   "metadata": {
    "scrolled": true
   },
   "outputs": [
    {
     "data": {
      "text/plain": [
       "{0.2: 98662.0, 0.4: 132142.0, 0.6: 161151.0, 0.8: 214270.0, 0.99: 505068.0}"
      ]
     },
     "execution_count": 32,
     "metadata": {},
     "output_type": "execute_result"
    }
   ],
   "source": [
    "income_quantile = df['total_income'].quantile([0.2, 0.4, 0.6, 0.8, 0.99]).round().to_dict()\n",
    "income_quantile"
   ]
  },
  {
   "cell_type": "code",
   "execution_count": 45,
   "metadata": {},
   "outputs": [
    {
     "data": {
      "text/html": [
       "<div>\n",
       "<style scoped>\n",
       "    .dataframe tbody tr th:only-of-type {\n",
       "        vertical-align: middle;\n",
       "    }\n",
       "\n",
       "    .dataframe tbody tr th {\n",
       "        vertical-align: top;\n",
       "    }\n",
       "\n",
       "    .dataframe thead th {\n",
       "        text-align: right;\n",
       "    }\n",
       "</style>\n",
       "<table border=\"1\" class=\"dataframe\">\n",
       "  <thead>\n",
       "    <tr style=\"text-align: right;\">\n",
       "      <th></th>\n",
       "      <th>children</th>\n",
       "      <th>days_employed</th>\n",
       "      <th>dob_years</th>\n",
       "      <th>education</th>\n",
       "      <th>education_id</th>\n",
       "      <th>family_status</th>\n",
       "      <th>family_status_id</th>\n",
       "      <th>gender</th>\n",
       "      <th>income_type</th>\n",
       "      <th>debt</th>\n",
       "      <th>total_income</th>\n",
       "      <th>purpose</th>\n",
       "      <th>income_category</th>\n",
       "    </tr>\n",
       "  </thead>\n",
       "  <tbody>\n",
       "    <tr>\n",
       "      <td>11488</td>\n",
       "      <td>0</td>\n",
       "      <td>13845</td>\n",
       "      <td>66</td>\n",
       "      <td>среднее</td>\n",
       "      <td>1</td>\n",
       "      <td>вдовец / вдова</td>\n",
       "      <td>2</td>\n",
       "      <td>f</td>\n",
       "      <td>пенсионер</td>\n",
       "      <td>1</td>\n",
       "      <td>55238</td>\n",
       "      <td>сделка с автомобилем</td>\n",
       "      <td>0.20</td>\n",
       "    </tr>\n",
       "    <tr>\n",
       "      <td>10882</td>\n",
       "      <td>1</td>\n",
       "      <td>602</td>\n",
       "      <td>42</td>\n",
       "      <td>среднее</td>\n",
       "      <td>1</td>\n",
       "      <td>гражданский брак</td>\n",
       "      <td>1</td>\n",
       "      <td>f</td>\n",
       "      <td>сотрудник</td>\n",
       "      <td>0</td>\n",
       "      <td>136692</td>\n",
       "      <td>сыграть свадьбу</td>\n",
       "      <td>0.60</td>\n",
       "    </tr>\n",
       "    <tr>\n",
       "      <td>20910</td>\n",
       "      <td>0</td>\n",
       "      <td>2749</td>\n",
       "      <td>27</td>\n",
       "      <td>высшее</td>\n",
       "      <td>0</td>\n",
       "      <td>не женат / не замужем</td>\n",
       "      <td>4</td>\n",
       "      <td>m</td>\n",
       "      <td>сотрудник</td>\n",
       "      <td>0</td>\n",
       "      <td>272065</td>\n",
       "      <td>сделка с подержанным автомобилем</td>\n",
       "      <td>0.99</td>\n",
       "    </tr>\n",
       "    <tr>\n",
       "      <td>16445</td>\n",
       "      <td>2</td>\n",
       "      <td>724</td>\n",
       "      <td>41</td>\n",
       "      <td>неоконченное высшее</td>\n",
       "      <td>2</td>\n",
       "      <td>женат / замужем</td>\n",
       "      <td>0</td>\n",
       "      <td>m</td>\n",
       "      <td>сотрудник</td>\n",
       "      <td>0</td>\n",
       "      <td>139568</td>\n",
       "      <td>строительство недвижимости</td>\n",
       "      <td>0.60</td>\n",
       "    </tr>\n",
       "    <tr>\n",
       "      <td>17285</td>\n",
       "      <td>2</td>\n",
       "      <td>101</td>\n",
       "      <td>29</td>\n",
       "      <td>среднее</td>\n",
       "      <td>1</td>\n",
       "      <td>женат / замужем</td>\n",
       "      <td>0</td>\n",
       "      <td>m</td>\n",
       "      <td>госслужащий</td>\n",
       "      <td>0</td>\n",
       "      <td>120052</td>\n",
       "      <td>получение дополнительного образования</td>\n",
       "      <td>0.40</td>\n",
       "    </tr>\n",
       "    <tr>\n",
       "      <td>4813</td>\n",
       "      <td>0</td>\n",
       "      <td>6199</td>\n",
       "      <td>55</td>\n",
       "      <td>среднее</td>\n",
       "      <td>1</td>\n",
       "      <td>женат / замужем</td>\n",
       "      <td>0</td>\n",
       "      <td>f</td>\n",
       "      <td>сотрудник</td>\n",
       "      <td>0</td>\n",
       "      <td>121464</td>\n",
       "      <td>покупка коммерческой недвижимости</td>\n",
       "      <td>0.40</td>\n",
       "    </tr>\n",
       "    <tr>\n",
       "      <td>5985</td>\n",
       "      <td>0</td>\n",
       "      <td>1693</td>\n",
       "      <td>35</td>\n",
       "      <td>высшее</td>\n",
       "      <td>0</td>\n",
       "      <td>женат / замужем</td>\n",
       "      <td>0</td>\n",
       "      <td>f</td>\n",
       "      <td>компаньон</td>\n",
       "      <td>0</td>\n",
       "      <td>220955</td>\n",
       "      <td>покупка жилья для семьи</td>\n",
       "      <td>0.99</td>\n",
       "    </tr>\n",
       "    <tr>\n",
       "      <td>16274</td>\n",
       "      <td>0</td>\n",
       "      <td>16593</td>\n",
       "      <td>50</td>\n",
       "      <td>среднее</td>\n",
       "      <td>1</td>\n",
       "      <td>женат / замужем</td>\n",
       "      <td>0</td>\n",
       "      <td>f</td>\n",
       "      <td>пенсионер</td>\n",
       "      <td>0</td>\n",
       "      <td>166602</td>\n",
       "      <td>на покупку подержанного автомобиля</td>\n",
       "      <td>0.80</td>\n",
       "    </tr>\n",
       "    <tr>\n",
       "      <td>18124</td>\n",
       "      <td>1</td>\n",
       "      <td>1632</td>\n",
       "      <td>32</td>\n",
       "      <td>среднее</td>\n",
       "      <td>1</td>\n",
       "      <td>в разводе</td>\n",
       "      <td>3</td>\n",
       "      <td>f</td>\n",
       "      <td>сотрудник</td>\n",
       "      <td>0</td>\n",
       "      <td>124401</td>\n",
       "      <td>автомобиль</td>\n",
       "      <td>0.40</td>\n",
       "    </tr>\n",
       "    <tr>\n",
       "      <td>10054</td>\n",
       "      <td>0</td>\n",
       "      <td>1133</td>\n",
       "      <td>48</td>\n",
       "      <td>среднее</td>\n",
       "      <td>1</td>\n",
       "      <td>гражданский брак</td>\n",
       "      <td>1</td>\n",
       "      <td>f</td>\n",
       "      <td>сотрудник</td>\n",
       "      <td>0</td>\n",
       "      <td>62916</td>\n",
       "      <td>свадьба</td>\n",
       "      <td>0.20</td>\n",
       "    </tr>\n",
       "    <tr>\n",
       "      <td>16568</td>\n",
       "      <td>1</td>\n",
       "      <td>692</td>\n",
       "      <td>33</td>\n",
       "      <td>среднее</td>\n",
       "      <td>1</td>\n",
       "      <td>гражданский брак</td>\n",
       "      <td>1</td>\n",
       "      <td>f</td>\n",
       "      <td>компаньон</td>\n",
       "      <td>0</td>\n",
       "      <td>228777</td>\n",
       "      <td>свадьба</td>\n",
       "      <td>0.99</td>\n",
       "    </tr>\n",
       "    <tr>\n",
       "      <td>17803</td>\n",
       "      <td>0</td>\n",
       "      <td>505</td>\n",
       "      <td>24</td>\n",
       "      <td>высшее</td>\n",
       "      <td>0</td>\n",
       "      <td>гражданский брак</td>\n",
       "      <td>1</td>\n",
       "      <td>m</td>\n",
       "      <td>компаньон</td>\n",
       "      <td>0</td>\n",
       "      <td>136654</td>\n",
       "      <td>свой автомобиль</td>\n",
       "      <td>0.60</td>\n",
       "    </tr>\n",
       "    <tr>\n",
       "      <td>19261</td>\n",
       "      <td>0</td>\n",
       "      <td>347</td>\n",
       "      <td>52</td>\n",
       "      <td>среднее</td>\n",
       "      <td>1</td>\n",
       "      <td>женат / замужем</td>\n",
       "      <td>0</td>\n",
       "      <td>f</td>\n",
       "      <td>компаньон</td>\n",
       "      <td>0</td>\n",
       "      <td>84466</td>\n",
       "      <td>недвижимость</td>\n",
       "      <td>0.20</td>\n",
       "    </tr>\n",
       "    <tr>\n",
       "      <td>20373</td>\n",
       "      <td>0</td>\n",
       "      <td>14841</td>\n",
       "      <td>64</td>\n",
       "      <td>среднее</td>\n",
       "      <td>1</td>\n",
       "      <td>женат / замужем</td>\n",
       "      <td>0</td>\n",
       "      <td>f</td>\n",
       "      <td>пенсионер</td>\n",
       "      <td>0</td>\n",
       "      <td>92686</td>\n",
       "      <td>получение дополнительного образования</td>\n",
       "      <td>0.20</td>\n",
       "    </tr>\n",
       "    <tr>\n",
       "      <td>18845</td>\n",
       "      <td>0</td>\n",
       "      <td>1645</td>\n",
       "      <td>48</td>\n",
       "      <td>среднее</td>\n",
       "      <td>1</td>\n",
       "      <td>женат / замужем</td>\n",
       "      <td>0</td>\n",
       "      <td>f</td>\n",
       "      <td>сотрудник</td>\n",
       "      <td>0</td>\n",
       "      <td>119849</td>\n",
       "      <td>сделка с подержанным автомобилем</td>\n",
       "      <td>0.40</td>\n",
       "    </tr>\n",
       "  </tbody>\n",
       "</table>\n",
       "</div>"
      ],
      "text/plain": [
       "       children  days_employed  dob_years            education  education_id  \\\n",
       "11488         0          13845         66              среднее             1   \n",
       "10882         1            602         42              среднее             1   \n",
       "20910         0           2749         27               высшее             0   \n",
       "16445         2            724         41  неоконченное высшее             2   \n",
       "17285         2            101         29              среднее             1   \n",
       "4813          0           6199         55              среднее             1   \n",
       "5985          0           1693         35               высшее             0   \n",
       "16274         0          16593         50              среднее             1   \n",
       "18124         1           1632         32              среднее             1   \n",
       "10054         0           1133         48              среднее             1   \n",
       "16568         1            692         33              среднее             1   \n",
       "17803         0            505         24               высшее             0   \n",
       "19261         0            347         52              среднее             1   \n",
       "20373         0          14841         64              среднее             1   \n",
       "18845         0           1645         48              среднее             1   \n",
       "\n",
       "               family_status  family_status_id gender  income_type  debt  \\\n",
       "11488         вдовец / вдова                 2      f    пенсионер     1   \n",
       "10882       гражданский брак                 1      f    сотрудник     0   \n",
       "20910  не женат / не замужем                 4      m    сотрудник     0   \n",
       "16445        женат / замужем                 0      m    сотрудник     0   \n",
       "17285        женат / замужем                 0      m  госслужащий     0   \n",
       "4813         женат / замужем                 0      f    сотрудник     0   \n",
       "5985         женат / замужем                 0      f    компаньон     0   \n",
       "16274        женат / замужем                 0      f    пенсионер     0   \n",
       "18124              в разводе                 3      f    сотрудник     0   \n",
       "10054       гражданский брак                 1      f    сотрудник     0   \n",
       "16568       гражданский брак                 1      f    компаньон     0   \n",
       "17803       гражданский брак                 1      m    компаньон     0   \n",
       "19261        женат / замужем                 0      f    компаньон     0   \n",
       "20373        женат / замужем                 0      f    пенсионер     0   \n",
       "18845        женат / замужем                 0      f    сотрудник     0   \n",
       "\n",
       "       total_income                                purpose  income_category  \n",
       "11488         55238                   сделка с автомобилем             0.20  \n",
       "10882        136692                        сыграть свадьбу             0.60  \n",
       "20910        272065       сделка с подержанным автомобилем             0.99  \n",
       "16445        139568             строительство недвижимости             0.60  \n",
       "17285        120052  получение дополнительного образования             0.40  \n",
       "4813         121464      покупка коммерческой недвижимости             0.40  \n",
       "5985         220955                покупка жилья для семьи             0.99  \n",
       "16274        166602     на покупку подержанного автомобиля             0.80  \n",
       "18124        124401                             автомобиль             0.40  \n",
       "10054         62916                                свадьба             0.20  \n",
       "16568        228777                                свадьба             0.99  \n",
       "17803        136654                        свой автомобиль             0.60  \n",
       "19261         84466                           недвижимость             0.20  \n",
       "20373         92686  получение дополнительного образования             0.20  \n",
       "18845        119849       сделка с подержанным автомобилем             0.40  "
      ]
     },
     "execution_count": 45,
     "metadata": {},
     "output_type": "execute_result"
    }
   ],
   "source": [
    "def income_category(value):\n",
    "    for k, v in income_quantile.items():\n",
    "        if value <= v:\n",
    "            return k\n",
    "        \n",
    "df['income_category'] = df['total_income'].apply(income_category)\n",
    "df.sample(15)"
   ]
  },
  {
   "cell_type": "code",
   "execution_count": 50,
   "metadata": {},
   "outputs": [],
   "source": [
    "df['income_category'].fillna(0, inplace=True)"
   ]
  },
  {
   "cell_type": "code",
   "execution_count": 55,
   "metadata": {},
   "outputs": [
    {
     "data": {
      "text/plain": [
       "array([4, 1, 2, 0, 3])"
      ]
     },
     "execution_count": 55,
     "metadata": {},
     "output_type": "execute_result"
    }
   ],
   "source": [
    "df['income_category'].unique()"
   ]
  },
  {
   "cell_type": "markdown",
   "metadata": {},
   "source": [
    "<div class=\"alert alert-info\">\n",
    "    Сверху я убрал Nan-ы в графе 'income_category', а снизу воспользовался рекомендациями по методу qcut"
   ]
  },
  {
   "cell_type": "code",
   "execution_count": 56,
   "metadata": {},
   "outputs": [
    {
     "data": {
      "text/html": [
       "<div>\n",
       "<style scoped>\n",
       "    .dataframe tbody tr th:only-of-type {\n",
       "        vertical-align: middle;\n",
       "    }\n",
       "\n",
       "    .dataframe tbody tr th {\n",
       "        vertical-align: top;\n",
       "    }\n",
       "\n",
       "    .dataframe thead th {\n",
       "        text-align: right;\n",
       "    }\n",
       "</style>\n",
       "<table border=\"1\" class=\"dataframe\">\n",
       "  <thead>\n",
       "    <tr style=\"text-align: right;\">\n",
       "      <th></th>\n",
       "      <th>children</th>\n",
       "      <th>days_employed</th>\n",
       "      <th>dob_years</th>\n",
       "      <th>education_id</th>\n",
       "      <th>family_status_id</th>\n",
       "      <th>debt</th>\n",
       "      <th>total_income</th>\n",
       "      <th>income_category</th>\n",
       "    </tr>\n",
       "  </thead>\n",
       "  <tbody>\n",
       "    <tr>\n",
       "      <td>count</td>\n",
       "      <td>21525.000000</td>\n",
       "      <td>21525.000000</td>\n",
       "      <td>21525.000000</td>\n",
       "      <td>21525.000000</td>\n",
       "      <td>21525.000000</td>\n",
       "      <td>21525.000000</td>\n",
       "      <td>2.152500e+04</td>\n",
       "      <td>21525.000000</td>\n",
       "    </tr>\n",
       "    <tr>\n",
       "      <td>mean</td>\n",
       "      <td>0.538908</td>\n",
       "      <td>4205.018815</td>\n",
       "      <td>43.293380</td>\n",
       "      <td>0.817236</td>\n",
       "      <td>0.972544</td>\n",
       "      <td>0.080883</td>\n",
       "      <td>1.652248e+05</td>\n",
       "      <td>2.000000</td>\n",
       "    </tr>\n",
       "    <tr>\n",
       "      <td>std</td>\n",
       "      <td>1.381587</td>\n",
       "      <td>6324.752078</td>\n",
       "      <td>12.574584</td>\n",
       "      <td>0.548138</td>\n",
       "      <td>1.420324</td>\n",
       "      <td>0.272661</td>\n",
       "      <td>9.804367e+04</td>\n",
       "      <td>1.414246</td>\n",
       "    </tr>\n",
       "    <tr>\n",
       "      <td>min</td>\n",
       "      <td>-1.000000</td>\n",
       "      <td>0.000000</td>\n",
       "      <td>0.000000</td>\n",
       "      <td>0.000000</td>\n",
       "      <td>0.000000</td>\n",
       "      <td>0.000000</td>\n",
       "      <td>2.066700e+04</td>\n",
       "      <td>0.000000</td>\n",
       "    </tr>\n",
       "    <tr>\n",
       "      <td>0%</td>\n",
       "      <td>-1.000000</td>\n",
       "      <td>0.000000</td>\n",
       "      <td>0.000000</td>\n",
       "      <td>0.000000</td>\n",
       "      <td>0.000000</td>\n",
       "      <td>0.000000</td>\n",
       "      <td>2.066700e+04</td>\n",
       "      <td>0.000000</td>\n",
       "    </tr>\n",
       "    <tr>\n",
       "      <td>33.3%</td>\n",
       "      <td>0.000000</td>\n",
       "      <td>951.000000</td>\n",
       "      <td>36.000000</td>\n",
       "      <td>1.000000</td>\n",
       "      <td>0.000000</td>\n",
       "      <td>0.000000</td>\n",
       "      <td>1.192457e+05</td>\n",
       "      <td>1.000000</td>\n",
       "    </tr>\n",
       "    <tr>\n",
       "      <td>50%</td>\n",
       "      <td>0.000000</td>\n",
       "      <td>1808.000000</td>\n",
       "      <td>42.000000</td>\n",
       "      <td>1.000000</td>\n",
       "      <td>0.000000</td>\n",
       "      <td>0.000000</td>\n",
       "      <td>1.425940e+05</td>\n",
       "      <td>2.000000</td>\n",
       "    </tr>\n",
       "    <tr>\n",
       "      <td>66.7%</td>\n",
       "      <td>1.000000</td>\n",
       "      <td>3279.000000</td>\n",
       "      <td>50.000000</td>\n",
       "      <td>1.000000</td>\n",
       "      <td>1.000000</td>\n",
       "      <td>0.000000</td>\n",
       "      <td>1.723570e+05</td>\n",
       "      <td>3.000000</td>\n",
       "    </tr>\n",
       "    <tr>\n",
       "      <td>100%</td>\n",
       "      <td>20.000000</td>\n",
       "      <td>395302.000000</td>\n",
       "      <td>75.000000</td>\n",
       "      <td>4.000000</td>\n",
       "      <td>4.000000</td>\n",
       "      <td>1.000000</td>\n",
       "      <td>2.265604e+06</td>\n",
       "      <td>4.000000</td>\n",
       "    </tr>\n",
       "    <tr>\n",
       "      <td>max</td>\n",
       "      <td>20.000000</td>\n",
       "      <td>395302.000000</td>\n",
       "      <td>75.000000</td>\n",
       "      <td>4.000000</td>\n",
       "      <td>4.000000</td>\n",
       "      <td>1.000000</td>\n",
       "      <td>2.265604e+06</td>\n",
       "      <td>4.000000</td>\n",
       "    </tr>\n",
       "  </tbody>\n",
       "</table>\n",
       "</div>"
      ],
      "text/plain": [
       "           children  days_employed     dob_years  education_id  \\\n",
       "count  21525.000000   21525.000000  21525.000000  21525.000000   \n",
       "mean       0.538908    4205.018815     43.293380      0.817236   \n",
       "std        1.381587    6324.752078     12.574584      0.548138   \n",
       "min       -1.000000       0.000000      0.000000      0.000000   \n",
       "0%        -1.000000       0.000000      0.000000      0.000000   \n",
       "33.3%      0.000000     951.000000     36.000000      1.000000   \n",
       "50%        0.000000    1808.000000     42.000000      1.000000   \n",
       "66.7%      1.000000    3279.000000     50.000000      1.000000   \n",
       "100%      20.000000  395302.000000     75.000000      4.000000   \n",
       "max       20.000000  395302.000000     75.000000      4.000000   \n",
       "\n",
       "       family_status_id          debt  total_income  income_category  \n",
       "count      21525.000000  21525.000000  2.152500e+04     21525.000000  \n",
       "mean           0.972544      0.080883  1.652248e+05         2.000000  \n",
       "std            1.420324      0.272661  9.804367e+04         1.414246  \n",
       "min            0.000000      0.000000  2.066700e+04         0.000000  \n",
       "0%             0.000000      0.000000  2.066700e+04         0.000000  \n",
       "33.3%          0.000000      0.000000  1.192457e+05         1.000000  \n",
       "50%            0.000000      0.000000  1.425940e+05         2.000000  \n",
       "66.7%          1.000000      0.000000  1.723570e+05         3.000000  \n",
       "100%           4.000000      1.000000  2.265604e+06         4.000000  \n",
       "max            4.000000      1.000000  2.265604e+06         4.000000  "
      ]
     },
     "execution_count": 56,
     "metadata": {},
     "output_type": "execute_result"
    }
   ],
   "source": [
    "df.describe(percentiles=[0, 1/3, 2/3, 1])"
   ]
  },
  {
   "cell_type": "code",
   "execution_count": 54,
   "metadata": {},
   "outputs": [
    {
     "data": {
      "text/html": [
       "<div>\n",
       "<style scoped>\n",
       "    .dataframe tbody tr th:only-of-type {\n",
       "        vertical-align: middle;\n",
       "    }\n",
       "\n",
       "    .dataframe tbody tr th {\n",
       "        vertical-align: top;\n",
       "    }\n",
       "\n",
       "    .dataframe thead th {\n",
       "        text-align: right;\n",
       "    }\n",
       "</style>\n",
       "<table border=\"1\" class=\"dataframe\">\n",
       "  <thead>\n",
       "    <tr style=\"text-align: right;\">\n",
       "      <th></th>\n",
       "      <th>children</th>\n",
       "      <th>days_employed</th>\n",
       "      <th>dob_years</th>\n",
       "      <th>education</th>\n",
       "      <th>education_id</th>\n",
       "      <th>family_status</th>\n",
       "      <th>family_status_id</th>\n",
       "      <th>gender</th>\n",
       "      <th>income_type</th>\n",
       "      <th>debt</th>\n",
       "      <th>total_income</th>\n",
       "      <th>purpose</th>\n",
       "      <th>income_category</th>\n",
       "    </tr>\n",
       "  </thead>\n",
       "  <tbody>\n",
       "    <tr>\n",
       "      <td>20741</td>\n",
       "      <td>0</td>\n",
       "      <td>11283</td>\n",
       "      <td>54</td>\n",
       "      <td>среднее</td>\n",
       "      <td>1</td>\n",
       "      <td>женат / замужем</td>\n",
       "      <td>0</td>\n",
       "      <td>f</td>\n",
       "      <td>госслужащий</td>\n",
       "      <td>0</td>\n",
       "      <td>216454</td>\n",
       "      <td>на покупку подержанного автомобиля</td>\n",
       "      <td>4</td>\n",
       "    </tr>\n",
       "    <tr>\n",
       "      <td>12204</td>\n",
       "      <td>2</td>\n",
       "      <td>5775</td>\n",
       "      <td>35</td>\n",
       "      <td>среднее</td>\n",
       "      <td>1</td>\n",
       "      <td>женат / замужем</td>\n",
       "      <td>0</td>\n",
       "      <td>m</td>\n",
       "      <td>сотрудник</td>\n",
       "      <td>0</td>\n",
       "      <td>140235</td>\n",
       "      <td>на покупку подержанного автомобиля</td>\n",
       "      <td>2</td>\n",
       "    </tr>\n",
       "    <tr>\n",
       "      <td>2103</td>\n",
       "      <td>1</td>\n",
       "      <td>1481</td>\n",
       "      <td>30</td>\n",
       "      <td>среднее</td>\n",
       "      <td>1</td>\n",
       "      <td>женат / замужем</td>\n",
       "      <td>0</td>\n",
       "      <td>f</td>\n",
       "      <td>компаньон</td>\n",
       "      <td>0</td>\n",
       "      <td>85813</td>\n",
       "      <td>строительство недвижимости</td>\n",
       "      <td>0</td>\n",
       "    </tr>\n",
       "    <tr>\n",
       "      <td>2213</td>\n",
       "      <td>0</td>\n",
       "      <td>976</td>\n",
       "      <td>32</td>\n",
       "      <td>среднее</td>\n",
       "      <td>1</td>\n",
       "      <td>женат / замужем</td>\n",
       "      <td>0</td>\n",
       "      <td>f</td>\n",
       "      <td>сотрудник</td>\n",
       "      <td>0</td>\n",
       "      <td>207597</td>\n",
       "      <td>ремонт жилью</td>\n",
       "      <td>3</td>\n",
       "    </tr>\n",
       "    <tr>\n",
       "      <td>18471</td>\n",
       "      <td>1</td>\n",
       "      <td>5707</td>\n",
       "      <td>39</td>\n",
       "      <td>высшее</td>\n",
       "      <td>0</td>\n",
       "      <td>гражданский брак</td>\n",
       "      <td>1</td>\n",
       "      <td>f</td>\n",
       "      <td>госслужащий</td>\n",
       "      <td>0</td>\n",
       "      <td>141770</td>\n",
       "      <td>на проведение свадьбы</td>\n",
       "      <td>2</td>\n",
       "    </tr>\n",
       "    <tr>\n",
       "      <td>5970</td>\n",
       "      <td>1</td>\n",
       "      <td>4635</td>\n",
       "      <td>35</td>\n",
       "      <td>среднее</td>\n",
       "      <td>1</td>\n",
       "      <td>женат / замужем</td>\n",
       "      <td>0</td>\n",
       "      <td>f</td>\n",
       "      <td>сотрудник</td>\n",
       "      <td>0</td>\n",
       "      <td>72772</td>\n",
       "      <td>автомобили</td>\n",
       "      <td>0</td>\n",
       "    </tr>\n",
       "    <tr>\n",
       "      <td>21362</td>\n",
       "      <td>0</td>\n",
       "      <td>873</td>\n",
       "      <td>27</td>\n",
       "      <td>высшее</td>\n",
       "      <td>0</td>\n",
       "      <td>женат / замужем</td>\n",
       "      <td>0</td>\n",
       "      <td>f</td>\n",
       "      <td>компаньон</td>\n",
       "      <td>0</td>\n",
       "      <td>165224</td>\n",
       "      <td>приобретение автомобиля</td>\n",
       "      <td>3</td>\n",
       "    </tr>\n",
       "    <tr>\n",
       "      <td>16104</td>\n",
       "      <td>0</td>\n",
       "      <td>1182</td>\n",
       "      <td>33</td>\n",
       "      <td>среднее</td>\n",
       "      <td>1</td>\n",
       "      <td>женат / замужем</td>\n",
       "      <td>0</td>\n",
       "      <td>f</td>\n",
       "      <td>сотрудник</td>\n",
       "      <td>0</td>\n",
       "      <td>173813</td>\n",
       "      <td>покупка своего жилья</td>\n",
       "      <td>3</td>\n",
       "    </tr>\n",
       "    <tr>\n",
       "      <td>11003</td>\n",
       "      <td>0</td>\n",
       "      <td>451</td>\n",
       "      <td>23</td>\n",
       "      <td>среднее</td>\n",
       "      <td>1</td>\n",
       "      <td>женат / замужем</td>\n",
       "      <td>0</td>\n",
       "      <td>f</td>\n",
       "      <td>сотрудник</td>\n",
       "      <td>0</td>\n",
       "      <td>74012</td>\n",
       "      <td>дополнительное образование</td>\n",
       "      <td>0</td>\n",
       "    </tr>\n",
       "    <tr>\n",
       "      <td>7822</td>\n",
       "      <td>0</td>\n",
       "      <td>1190</td>\n",
       "      <td>30</td>\n",
       "      <td>неоконченное высшее</td>\n",
       "      <td>2</td>\n",
       "      <td>не женат / не замужем</td>\n",
       "      <td>4</td>\n",
       "      <td>m</td>\n",
       "      <td>сотрудник</td>\n",
       "      <td>0</td>\n",
       "      <td>153523</td>\n",
       "      <td>сделка с подержанным автомобилем</td>\n",
       "      <td>2</td>\n",
       "    </tr>\n",
       "    <tr>\n",
       "      <td>20069</td>\n",
       "      <td>0</td>\n",
       "      <td>5640</td>\n",
       "      <td>54</td>\n",
       "      <td>среднее</td>\n",
       "      <td>1</td>\n",
       "      <td>женат / замужем</td>\n",
       "      <td>0</td>\n",
       "      <td>f</td>\n",
       "      <td>сотрудник</td>\n",
       "      <td>0</td>\n",
       "      <td>114061</td>\n",
       "      <td>недвижимость</td>\n",
       "      <td>1</td>\n",
       "    </tr>\n",
       "    <tr>\n",
       "      <td>10736</td>\n",
       "      <td>20</td>\n",
       "      <td>4378</td>\n",
       "      <td>30</td>\n",
       "      <td>высшее</td>\n",
       "      <td>0</td>\n",
       "      <td>женат / замужем</td>\n",
       "      <td>0</td>\n",
       "      <td>f</td>\n",
       "      <td>компаньон</td>\n",
       "      <td>0</td>\n",
       "      <td>154706</td>\n",
       "      <td>высшее образование</td>\n",
       "      <td>2</td>\n",
       "    </tr>\n",
       "    <tr>\n",
       "      <td>7780</td>\n",
       "      <td>0</td>\n",
       "      <td>2212</td>\n",
       "      <td>56</td>\n",
       "      <td>среднее</td>\n",
       "      <td>1</td>\n",
       "      <td>не женат / не замужем</td>\n",
       "      <td>4</td>\n",
       "      <td>m</td>\n",
       "      <td>сотрудник</td>\n",
       "      <td>0</td>\n",
       "      <td>201019</td>\n",
       "      <td>покупка коммерческой недвижимости</td>\n",
       "      <td>3</td>\n",
       "    </tr>\n",
       "    <tr>\n",
       "      <td>6705</td>\n",
       "      <td>0</td>\n",
       "      <td>829</td>\n",
       "      <td>42</td>\n",
       "      <td>среднее</td>\n",
       "      <td>1</td>\n",
       "      <td>женат / замужем</td>\n",
       "      <td>0</td>\n",
       "      <td>m</td>\n",
       "      <td>сотрудник</td>\n",
       "      <td>0</td>\n",
       "      <td>120796</td>\n",
       "      <td>покупка жилья для сдачи</td>\n",
       "      <td>1</td>\n",
       "    </tr>\n",
       "    <tr>\n",
       "      <td>2571</td>\n",
       "      <td>1</td>\n",
       "      <td>441</td>\n",
       "      <td>37</td>\n",
       "      <td>среднее</td>\n",
       "      <td>1</td>\n",
       "      <td>женат / замужем</td>\n",
       "      <td>0</td>\n",
       "      <td>f</td>\n",
       "      <td>сотрудник</td>\n",
       "      <td>0</td>\n",
       "      <td>82131</td>\n",
       "      <td>покупка жилья</td>\n",
       "      <td>0</td>\n",
       "    </tr>\n",
       "  </tbody>\n",
       "</table>\n",
       "</div>"
      ],
      "text/plain": [
       "       children  days_employed  dob_years            education  education_id  \\\n",
       "20741         0          11283         54              среднее             1   \n",
       "12204         2           5775         35              среднее             1   \n",
       "2103          1           1481         30              среднее             1   \n",
       "2213          0            976         32              среднее             1   \n",
       "18471         1           5707         39               высшее             0   \n",
       "5970          1           4635         35              среднее             1   \n",
       "21362         0            873         27               высшее             0   \n",
       "16104         0           1182         33              среднее             1   \n",
       "11003         0            451         23              среднее             1   \n",
       "7822          0           1190         30  неоконченное высшее             2   \n",
       "20069         0           5640         54              среднее             1   \n",
       "10736        20           4378         30               высшее             0   \n",
       "7780          0           2212         56              среднее             1   \n",
       "6705          0            829         42              среднее             1   \n",
       "2571          1            441         37              среднее             1   \n",
       "\n",
       "               family_status  family_status_id gender  income_type  debt  \\\n",
       "20741        женат / замужем                 0      f  госслужащий     0   \n",
       "12204        женат / замужем                 0      m    сотрудник     0   \n",
       "2103         женат / замужем                 0      f    компаньон     0   \n",
       "2213         женат / замужем                 0      f    сотрудник     0   \n",
       "18471       гражданский брак                 1      f  госслужащий     0   \n",
       "5970         женат / замужем                 0      f    сотрудник     0   \n",
       "21362        женат / замужем                 0      f    компаньон     0   \n",
       "16104        женат / замужем                 0      f    сотрудник     0   \n",
       "11003        женат / замужем                 0      f    сотрудник     0   \n",
       "7822   не женат / не замужем                 4      m    сотрудник     0   \n",
       "20069        женат / замужем                 0      f    сотрудник     0   \n",
       "10736        женат / замужем                 0      f    компаньон     0   \n",
       "7780   не женат / не замужем                 4      m    сотрудник     0   \n",
       "6705         женат / замужем                 0      m    сотрудник     0   \n",
       "2571         женат / замужем                 0      f    сотрудник     0   \n",
       "\n",
       "       total_income                             purpose  income_category  \n",
       "20741        216454  на покупку подержанного автомобиля                4  \n",
       "12204        140235  на покупку подержанного автомобиля                2  \n",
       "2103          85813          строительство недвижимости                0  \n",
       "2213         207597                        ремонт жилью                3  \n",
       "18471        141770               на проведение свадьбы                2  \n",
       "5970          72772                          автомобили                0  \n",
       "21362        165224             приобретение автомобиля                3  \n",
       "16104        173813                покупка своего жилья                3  \n",
       "11003         74012          дополнительное образование                0  \n",
       "7822         153523    сделка с подержанным автомобилем                2  \n",
       "20069        114061                        недвижимость                1  \n",
       "10736        154706                  высшее образование                2  \n",
       "7780         201019   покупка коммерческой недвижимости                3  \n",
       "6705         120796             покупка жилья для сдачи                1  \n",
       "2571          82131                       покупка жилья                0  "
      ]
     },
     "execution_count": 54,
     "metadata": {},
     "output_type": "execute_result"
    }
   ],
   "source": [
    "df['income_category'] = pd.qcut(df['total_income'],\n",
    "                              q=[0, .2, .4, .6, .8, 1],\n",
    "                              labels=False,\n",
    "                              precision=0)\n",
    "df.sample(15)"
   ]
  },
  {
   "cell_type": "code",
   "execution_count": 29,
   "metadata": {},
   "outputs": [
    {
     "data": {
      "text/plain": [
       "142594.39684740017"
      ]
     },
     "execution_count": 29,
     "metadata": {},
     "output_type": "execute_result"
    }
   ],
   "source": [
    "median_1 = df.loc[df['income_type'] == 'сотрудник', 'total_income'].median()\n",
    "median_1"
   ]
  },
  {
   "cell_type": "code",
   "execution_count": 30,
   "metadata": {},
   "outputs": [
    {
     "data": {
      "text/html": [
       "<div>\n",
       "<style scoped>\n",
       "    .dataframe tbody tr th:only-of-type {\n",
       "        vertical-align: middle;\n",
       "    }\n",
       "\n",
       "    .dataframe tbody tr th {\n",
       "        vertical-align: top;\n",
       "    }\n",
       "\n",
       "    .dataframe thead tr th {\n",
       "        text-align: left;\n",
       "    }\n",
       "\n",
       "    .dataframe thead tr:last-of-type th {\n",
       "        text-align: right;\n",
       "    }\n",
       "</style>\n",
       "<table border=\"1\" class=\"dataframe\">\n",
       "  <thead>\n",
       "    <tr>\n",
       "      <th></th>\n",
       "      <th>debt</th>\n",
       "      <th colspan=\"2\" halign=\"left\">total_income</th>\n",
       "    </tr>\n",
       "    <tr>\n",
       "      <th></th>\n",
       "      <th>sum</th>\n",
       "      <th>mean</th>\n",
       "      <th>median</th>\n",
       "    </tr>\n",
       "    <tr>\n",
       "      <th>income_type</th>\n",
       "      <th></th>\n",
       "      <th></th>\n",
       "      <th></th>\n",
       "    </tr>\n",
       "  </thead>\n",
       "  <tbody>\n",
       "    <tr>\n",
       "      <td>безработный</td>\n",
       "      <td>1</td>\n",
       "      <td>131339.751676</td>\n",
       "      <td>131339.751676</td>\n",
       "    </tr>\n",
       "    <tr>\n",
       "      <td>в декрете</td>\n",
       "      <td>1</td>\n",
       "      <td>53829.130729</td>\n",
       "      <td>53829.130729</td>\n",
       "    </tr>\n",
       "    <tr>\n",
       "      <td>госслужащий</td>\n",
       "      <td>86</td>\n",
       "      <td>168863.097622</td>\n",
       "      <td>150447.935283</td>\n",
       "    </tr>\n",
       "    <tr>\n",
       "      <td>компаньон</td>\n",
       "      <td>376</td>\n",
       "      <td>199451.763400</td>\n",
       "      <td>172357.950966</td>\n",
       "    </tr>\n",
       "    <tr>\n",
       "      <td>пенсионер</td>\n",
       "      <td>216</td>\n",
       "      <td>135251.098492</td>\n",
       "      <td>118514.486412</td>\n",
       "    </tr>\n",
       "    <tr>\n",
       "      <td>предприниматель</td>\n",
       "      <td>0</td>\n",
       "      <td>499163.144947</td>\n",
       "      <td>499163.144947</td>\n",
       "    </tr>\n",
       "    <tr>\n",
       "      <td>сотрудник</td>\n",
       "      <td>1061</td>\n",
       "      <td>159566.756870</td>\n",
       "      <td>142594.396847</td>\n",
       "    </tr>\n",
       "    <tr>\n",
       "      <td>студент</td>\n",
       "      <td>0</td>\n",
       "      <td>98201.625314</td>\n",
       "      <td>98201.625314</td>\n",
       "    </tr>\n",
       "  </tbody>\n",
       "</table>\n",
       "</div>"
      ],
      "text/plain": [
       "                 debt   total_income               \n",
       "                  sum           mean         median\n",
       "income_type                                        \n",
       "безработный         1  131339.751676  131339.751676\n",
       "в декрете           1   53829.130729   53829.130729\n",
       "госслужащий        86  168863.097622  150447.935283\n",
       "компаньон         376  199451.763400  172357.950966\n",
       "пенсионер         216  135251.098492  118514.486412\n",
       "предприниматель     0  499163.144947  499163.144947\n",
       "сотрудник        1061  159566.756870  142594.396847\n",
       "студент             0   98201.625314   98201.625314"
      ]
     },
     "execution_count": 30,
     "metadata": {},
     "output_type": "execute_result"
    }
   ],
   "source": [
    "df_gr_income_type = df.groupby(['income_type']).agg({'debt': 'sum', 'total_income': ['mean','median']}) \n",
    "df_gr_income_type \n"
   ]
  },
  {
   "cell_type": "code",
   "execution_count": 31,
   "metadata": {},
   "outputs": [
    {
     "data": {
      "text/html": [
       "<div>\n",
       "<style scoped>\n",
       "    .dataframe tbody tr th:only-of-type {\n",
       "        vertical-align: middle;\n",
       "    }\n",
       "\n",
       "    .dataframe tbody tr th {\n",
       "        vertical-align: top;\n",
       "    }\n",
       "\n",
       "    .dataframe thead th {\n",
       "        text-align: right;\n",
       "    }\n",
       "</style>\n",
       "<table border=\"1\" class=\"dataframe\">\n",
       "  <thead>\n",
       "    <tr style=\"text-align: right;\">\n",
       "      <th></th>\n",
       "      <th>new_purpose</th>\n",
       "      <th>debt</th>\n",
       "    </tr>\n",
       "  </thead>\n",
       "  <tbody>\n",
       "    <tr>\n",
       "      <td>0</td>\n",
       "      <td>автомобиль</td>\n",
       "      <td>403</td>\n",
       "    </tr>\n",
       "    <tr>\n",
       "      <td>1</td>\n",
       "      <td>жилье</td>\n",
       "      <td>308</td>\n",
       "    </tr>\n",
       "    <tr>\n",
       "      <td>2</td>\n",
       "      <td>недвижимость</td>\n",
       "      <td>474</td>\n",
       "    </tr>\n",
       "    <tr>\n",
       "      <td>3</td>\n",
       "      <td>образование</td>\n",
       "      <td>370</td>\n",
       "    </tr>\n",
       "    <tr>\n",
       "      <td>4</td>\n",
       "      <td>свадьба</td>\n",
       "      <td>186</td>\n",
       "    </tr>\n",
       "  </tbody>\n",
       "</table>\n",
       "</div>"
      ],
      "text/plain": [
       "    new_purpose  debt\n",
       "0    автомобиль   403\n",
       "1         жилье   308\n",
       "2  недвижимость   474\n",
       "3   образование   370\n",
       "4       свадьба   186"
      ]
     },
     "execution_count": 31,
     "metadata": {},
     "output_type": "execute_result"
    }
   ],
   "source": [
    "df_gr_new_purpose = df.groupby('new_purpose', as_index = False)[['debt']].sum()\n",
    "df_gr_new_purpose\n"
   ]
  },
  {
   "cell_type": "markdown",
   "metadata": {},
   "source": [
    "**Вывод**"
   ]
  },
  {
   "cell_type": "markdown",
   "metadata": {},
   "source": [
    "<div class=\"alert alert-info\">\n",
    "    Автоматизировал процесс категоризации для дохода. Длч этого применил квантили) Поместил результат в словарь, \n",
    "где в ключах будет категория а в значениях - максимальный заработок в данной категории.\n",
    "\n",
    "Самый большой показатель должников у сотрудников с медианным доходом по списку,\n",
    "у пенсионеров при этом меньше (в нижней границе по медиане), \n",
    "как и у компаньонов (в верхнй границе по медиане). \n",
    "Пенсионеры, компаньоны и сотрудники большинство в этой таблице\n",
    "Применил метод группировки по трём столбцам income_type, debt и total_income для сравнения этих показателей. \n",
    "Определение средней и медианной зарплаты этих пользователей и соотношение их категории income_type \n",
    "поможет более точно понять зависимость total_income и debt "
   ]
  },
  {
   "cell_type": "markdown",
   "metadata": {},
   "source": [
    "## Шаг 3. вопросы"
   ]
  },
  {
   "cell_type": "markdown",
   "metadata": {},
   "source": [
    "- Есть ли зависимость между наличием детей и возвратом кредита в срок?"
   ]
  },
  {
   "cell_type": "code",
   "execution_count": 32,
   "metadata": {},
   "outputs": [
    {
     "data": {
      "text/html": [
       "<div>\n",
       "<style scoped>\n",
       "    .dataframe tbody tr th:only-of-type {\n",
       "        vertical-align: middle;\n",
       "    }\n",
       "\n",
       "    .dataframe tbody tr th {\n",
       "        vertical-align: top;\n",
       "    }\n",
       "\n",
       "    .dataframe thead th {\n",
       "        text-align: right;\n",
       "    }\n",
       "</style>\n",
       "<table border=\"1\" class=\"dataframe\">\n",
       "  <thead>\n",
       "    <tr style=\"text-align: right;\">\n",
       "      <th></th>\n",
       "      <th>debt</th>\n",
       "    </tr>\n",
       "    <tr>\n",
       "      <th>children</th>\n",
       "      <th></th>\n",
       "    </tr>\n",
       "  </thead>\n",
       "  <tbody>\n",
       "    <tr>\n",
       "      <td>0</td>\n",
       "      <td>7.54%</td>\n",
       "    </tr>\n",
       "    <tr>\n",
       "      <td>1</td>\n",
       "      <td>9.23%</td>\n",
       "    </tr>\n",
       "    <tr>\n",
       "      <td>2</td>\n",
       "      <td>9.45%</td>\n",
       "    </tr>\n",
       "    <tr>\n",
       "      <td>3</td>\n",
       "      <td>8.18%</td>\n",
       "    </tr>\n",
       "    <tr>\n",
       "      <td>4</td>\n",
       "      <td>9.76%</td>\n",
       "    </tr>\n",
       "    <tr>\n",
       "      <td>5</td>\n",
       "      <td>0.00%</td>\n",
       "    </tr>\n",
       "  </tbody>\n",
       "</table>\n",
       "</div>"
      ],
      "text/plain": [
       "           debt\n",
       "children       \n",
       "0         7.54%\n",
       "1         9.23%\n",
       "2         9.45%\n",
       "3         8.18%\n",
       "4         9.76%\n",
       "5         0.00%"
      ]
     },
     "execution_count": 32,
     "metadata": {},
     "output_type": "execute_result"
    }
   ],
   "source": [
    "df.query('children !=-1 & children !=20 & gender != \"XNA\"').pivot_table(index = 'children', \n",
    "                                                                             values = 'debt', aggfunc = lambda x: '{:.2%}'.format(x.mean()))"
   ]
  },
  {
   "cell_type": "code",
   "execution_count": 33,
   "metadata": {},
   "outputs": [
    {
     "data": {
      "text/html": [
       "<div>\n",
       "<style scoped>\n",
       "    .dataframe tbody tr th:only-of-type {\n",
       "        vertical-align: middle;\n",
       "    }\n",
       "\n",
       "    .dataframe tbody tr th {\n",
       "        vertical-align: top;\n",
       "    }\n",
       "\n",
       "    .dataframe thead th {\n",
       "        text-align: right;\n",
       "    }\n",
       "</style>\n",
       "<table border=\"1\" class=\"dataframe\">\n",
       "  <thead>\n",
       "    <tr style=\"text-align: right;\">\n",
       "      <th></th>\n",
       "      <th>debt</th>\n",
       "    </tr>\n",
       "    <tr>\n",
       "      <th>children</th>\n",
       "      <th></th>\n",
       "    </tr>\n",
       "  </thead>\n",
       "  <tbody>\n",
       "    <tr>\n",
       "      <td>0</td>\n",
       "      <td>0.075438</td>\n",
       "    </tr>\n",
       "    <tr>\n",
       "      <td>1</td>\n",
       "      <td>0.092346</td>\n",
       "    </tr>\n",
       "    <tr>\n",
       "      <td>2</td>\n",
       "      <td>0.094542</td>\n",
       "    </tr>\n",
       "    <tr>\n",
       "      <td>3</td>\n",
       "      <td>0.081818</td>\n",
       "    </tr>\n",
       "    <tr>\n",
       "      <td>4</td>\n",
       "      <td>0.097561</td>\n",
       "    </tr>\n",
       "    <tr>\n",
       "      <td>5</td>\n",
       "      <td>0.000000</td>\n",
       "    </tr>\n",
       "  </tbody>\n",
       "</table>\n",
       "</div>"
      ],
      "text/plain": [
       "              debt\n",
       "children          \n",
       "0         0.075438\n",
       "1         0.092346\n",
       "2         0.094542\n",
       "3         0.081818\n",
       "4         0.097561\n",
       "5         0.000000"
      ]
     },
     "execution_count": 33,
     "metadata": {},
     "output_type": "execute_result"
    }
   ],
   "source": [
    "df.query('children !=-1 & children !=20 & gender != \"XNA\"').pivot_table(index = 'children', \n",
    "                                                                             values = 'debt', aggfunc = 'mean')"
   ]
  },
  {
   "cell_type": "markdown",
   "metadata": {},
   "source": [
    "**Вывод**"
   ]
  },
  {
   "cell_type": "markdown",
   "metadata": {},
   "source": [
    "<div class=\"alert alert-info\">\n",
    "    ОТВЕТ: Доля пользователей, у которых четверо детей оказалась наиболее высокая относительно количества возвратов кредита в срок. "
   ]
  },
  {
   "cell_type": "markdown",
   "metadata": {},
   "source": [
    "- Есть ли зависимость между семейным положением и возвратом кредита в срок?"
   ]
  },
  {
   "cell_type": "code",
   "execution_count": 34,
   "metadata": {},
   "outputs": [
    {
     "data": {
      "text/html": [
       "<div>\n",
       "<style scoped>\n",
       "    .dataframe tbody tr th:only-of-type {\n",
       "        vertical-align: middle;\n",
       "    }\n",
       "\n",
       "    .dataframe tbody tr th {\n",
       "        vertical-align: top;\n",
       "    }\n",
       "\n",
       "    .dataframe thead th {\n",
       "        text-align: right;\n",
       "    }\n",
       "</style>\n",
       "<table border=\"1\" class=\"dataframe\">\n",
       "  <thead>\n",
       "    <tr style=\"text-align: right;\">\n",
       "      <th></th>\n",
       "      <th>debt</th>\n",
       "    </tr>\n",
       "    <tr>\n",
       "      <th>family_status_id</th>\n",
       "      <th></th>\n",
       "    </tr>\n",
       "  </thead>\n",
       "  <tbody>\n",
       "    <tr>\n",
       "      <td>0</td>\n",
       "      <td>7.55%</td>\n",
       "    </tr>\n",
       "    <tr>\n",
       "      <td>1</td>\n",
       "      <td>9.35%</td>\n",
       "    </tr>\n",
       "    <tr>\n",
       "      <td>2</td>\n",
       "      <td>6.57%</td>\n",
       "    </tr>\n",
       "    <tr>\n",
       "      <td>3</td>\n",
       "      <td>7.11%</td>\n",
       "    </tr>\n",
       "    <tr>\n",
       "      <td>4</td>\n",
       "      <td>9.75%</td>\n",
       "    </tr>\n",
       "  </tbody>\n",
       "</table>\n",
       "</div>"
      ],
      "text/plain": [
       "                   debt\n",
       "family_status_id       \n",
       "0                 7.55%\n",
       "1                 9.35%\n",
       "2                 6.57%\n",
       "3                 7.11%\n",
       "4                 9.75%"
      ]
     },
     "execution_count": 34,
     "metadata": {},
     "output_type": "execute_result"
    }
   ],
   "source": [
    "df.pivot_table(index = 'family_status_id', \n",
    "               values = 'debt', aggfunc = lambda x: '{:.2%}'.format(x.mean()))"
   ]
  },
  {
   "cell_type": "markdown",
   "metadata": {},
   "source": [
    "**Вывод**"
   ]
  },
  {
   "cell_type": "markdown",
   "metadata": {},
   "source": [
    "<div class=\"alert alert-info\">\n",
    "    ОТВЕТ: Люди состоящие в браке, как люди не состоящие в браке, чаще остальных не возвращали кредит в срок"
   ]
  },
  {
   "cell_type": "markdown",
   "metadata": {},
   "source": [
    "- Есть ли зависимость между уровнем дохода и возвратом кредита в срок?"
   ]
  },
  {
   "cell_type": "code",
   "execution_count": 64,
   "metadata": {},
   "outputs": [
    {
     "data": {
      "text/html": [
       "<div>\n",
       "<style scoped>\n",
       "    .dataframe tbody tr th:only-of-type {\n",
       "        vertical-align: middle;\n",
       "    }\n",
       "\n",
       "    .dataframe tbody tr th {\n",
       "        vertical-align: top;\n",
       "    }\n",
       "\n",
       "    .dataframe thead th {\n",
       "        text-align: right;\n",
       "    }\n",
       "</style>\n",
       "<table border=\"1\" class=\"dataframe\">\n",
       "  <thead>\n",
       "    <tr style=\"text-align: right;\">\n",
       "      <th></th>\n",
       "      <th>debt</th>\n",
       "    </tr>\n",
       "    <tr>\n",
       "      <th>income_category</th>\n",
       "      <th></th>\n",
       "    </tr>\n",
       "  </thead>\n",
       "  <tbody>\n",
       "    <tr>\n",
       "      <td>0</td>\n",
       "      <td>8.0%</td>\n",
       "    </tr>\n",
       "    <tr>\n",
       "      <td>1</td>\n",
       "      <td>8.4%</td>\n",
       "    </tr>\n",
       "    <tr>\n",
       "      <td>2</td>\n",
       "      <td>8.7%</td>\n",
       "    </tr>\n",
       "    <tr>\n",
       "      <td>3</td>\n",
       "      <td>8.4%</td>\n",
       "    </tr>\n",
       "    <tr>\n",
       "      <td>4</td>\n",
       "      <td>7.0%</td>\n",
       "    </tr>\n",
       "  </tbody>\n",
       "</table>\n",
       "</div>"
      ],
      "text/plain": [
       "                 debt\n",
       "income_category      \n",
       "0                8.0%\n",
       "1                8.4%\n",
       "2                8.7%\n",
       "3                8.4%\n",
       "4                7.0%"
      ]
     },
     "execution_count": 64,
     "metadata": {},
     "output_type": "execute_result"
    }
   ],
   "source": [
    "df.pivot_table(index = 'income_category', \n",
    "               values = 'debt', aggfunc = lambda x: '{:.1%}'.format(x.mean()))"
   ]
  },
  {
   "cell_type": "markdown",
   "metadata": {},
   "source": [
    "**Вывод**"
   ]
  },
  {
   "cell_type": "markdown",
   "metadata": {},
   "source": [
    "<div class=\"alert alert-info\">\n",
    "    ОТВЕТ: Доход не влияет на возврат кредита в срок"
   ]
  },
  {
   "cell_type": "markdown",
   "metadata": {},
   "source": [
    "- Как разные цели кредита влияют на его возврат в срок?"
   ]
  },
  {
   "cell_type": "code",
   "execution_count": 36,
   "metadata": {},
   "outputs": [
    {
     "data": {
      "text/html": [
       "<div>\n",
       "<style scoped>\n",
       "    .dataframe tbody tr th:only-of-type {\n",
       "        vertical-align: middle;\n",
       "    }\n",
       "\n",
       "    .dataframe tbody tr th {\n",
       "        vertical-align: top;\n",
       "    }\n",
       "\n",
       "    .dataframe thead th {\n",
       "        text-align: right;\n",
       "    }\n",
       "</style>\n",
       "<table border=\"1\" class=\"dataframe\">\n",
       "  <thead>\n",
       "    <tr style=\"text-align: right;\">\n",
       "      <th></th>\n",
       "      <th>debt</th>\n",
       "    </tr>\n",
       "    <tr>\n",
       "      <th>new_purpose</th>\n",
       "      <th></th>\n",
       "    </tr>\n",
       "  </thead>\n",
       "  <tbody>\n",
       "    <tr>\n",
       "      <td>автомобиль</td>\n",
       "      <td>0.093590</td>\n",
       "    </tr>\n",
       "    <tr>\n",
       "      <td>жилье</td>\n",
       "      <td>0.069058</td>\n",
       "    </tr>\n",
       "    <tr>\n",
       "      <td>недвижимость</td>\n",
       "      <td>0.074634</td>\n",
       "    </tr>\n",
       "    <tr>\n",
       "      <td>образование</td>\n",
       "      <td>0.092200</td>\n",
       "    </tr>\n",
       "    <tr>\n",
       "      <td>свадьба</td>\n",
       "      <td>0.080034</td>\n",
       "    </tr>\n",
       "  </tbody>\n",
       "</table>\n",
       "</div>"
      ],
      "text/plain": [
       "                  debt\n",
       "new_purpose           \n",
       "автомобиль    0.093590\n",
       "жилье         0.069058\n",
       "недвижимость  0.074634\n",
       "образование   0.092200\n",
       "свадьба       0.080034"
      ]
     },
     "execution_count": 36,
     "metadata": {},
     "output_type": "execute_result"
    }
   ],
   "source": [
    "df.pivot_table(index = 'new_purpose', \n",
    "               values = 'debt', aggfunc = 'mean')"
   ]
  },
  {
   "cell_type": "markdown",
   "metadata": {},
   "source": [
    "**Вывод**"
   ]
  },
  {
   "cell_type": "markdown",
   "metadata": {},
   "source": [
    "<div class=\"alert alert-info\">\n",
    "    ОТВЕТ: Пользователи, которые брали кредит на автомобиль чаще не возвращали кредит в срок. "
   ]
  },
  {
   "cell_type": "markdown",
   "metadata": {},
   "source": [
    "## Шаг 4. Общий вывод"
   ]
  },
  {
   "cell_type": "markdown",
   "metadata": {},
   "source": [
    "<div class=\"alert alert-info\">\n",
    "   Проанализировав таблицу, могу сказать следующее:\n",
    "\n",
    "Должниками по кредиту чаще всего становятся люди:\n",
    "\n",
    "1)в должности \"сотрудник\" с зарплатой менее 161 тысячи\n",
    "\n",
    "2)с 4 детьми состоящие в браке \n",
    "\n",
    "3)люди, которые берут деньги на покупку автомобиля\n",
    "\n",
    "4)люди, не состоящие в браке и относящиеся к категориям выше, так же в группе риска\n",
    "\n",
    "5)Самый большой показатель должников у \"сотрудников\" с медианным доходом 145 тысяч по списку,у \"пенсионеров\" при этом меньше (в нижней границе по медиане), как и у \"компаньонов\" (в верхней границе по медиане).\n",
    " \n",
    "Рекомендации:\n",
    "Таблица представлена с пропусками в данных,с разными регистрами, а так же  с аномальными значениями в столбцах \"children\" и \"days_employed\". \n",
    "\n",
    "Возможные причины пропусков в данных в стобцах \"total_income\" и \"days_employed\":\n",
    "1)Человеческий фактор\n",
    "2)Самозанятые граждани без декларированных доходов\n",
    "3)Технические ошибки в программе при формировании таблицы(совместимость данных)\n"
   ]
  }
 ],
 "metadata": {
  "ExecuteTimeLog": [
   {
    "duration": 819,
    "start_time": "2021-09-14T05:00:39.555Z"
   },
   {
    "duration": 61,
    "start_time": "2021-09-14T05:01:03.275Z"
   },
   {
    "duration": 58,
    "start_time": "2021-09-14T05:03:04.901Z"
   },
   {
    "duration": 56,
    "start_time": "2021-09-14T05:03:10.906Z"
   },
   {
    "duration": 70,
    "start_time": "2021-09-14T05:04:11.399Z"
   },
   {
    "duration": 67,
    "start_time": "2021-09-14T05:18:57.307Z"
   },
   {
    "duration": 464,
    "start_time": "2021-09-14T05:46:29.301Z"
   },
   {
    "duration": -17914,
    "start_time": "2021-09-14T05:47:32.158Z"
   },
   {
    "duration": 7,
    "start_time": "2021-09-14T05:48:41.917Z"
   },
   {
    "duration": 7,
    "start_time": "2021-09-14T05:49:57.887Z"
   },
   {
    "duration": 13,
    "start_time": "2021-09-14T14:05:13.190Z"
   },
   {
    "duration": 12,
    "start_time": "2021-09-14T14:17:50.566Z"
   },
   {
    "duration": 11,
    "start_time": "2021-09-14T14:19:06.831Z"
   },
   {
    "duration": 14,
    "start_time": "2021-09-14T14:22:28.690Z"
   },
   {
    "duration": 18,
    "start_time": "2021-09-14T14:23:07.929Z"
   },
   {
    "duration": 24,
    "start_time": "2021-09-14T14:50:29.151Z"
   },
   {
    "duration": 17,
    "start_time": "2021-09-14T14:55:05.802Z"
   },
   {
    "duration": 455,
    "start_time": "2021-09-15T08:31:24.579Z"
   },
   {
    "duration": 270,
    "start_time": "2021-09-15T08:31:53.363Z"
   },
   {
    "duration": 289,
    "start_time": "2021-09-15T08:33:00.188Z"
   },
   {
    "duration": 303,
    "start_time": "2021-09-15T08:34:48.829Z"
   },
   {
    "duration": 274,
    "start_time": "2021-09-15T08:35:14.118Z"
   },
   {
    "duration": 262,
    "start_time": "2021-09-15T08:35:48.629Z"
   },
   {
    "duration": 711,
    "start_time": "2021-09-15T08:36:03.432Z"
   },
   {
    "duration": 9,
    "start_time": "2021-09-15T08:36:09.263Z"
   },
   {
    "duration": 17,
    "start_time": "2021-09-15T08:44:38.151Z"
   },
   {
    "duration": 4,
    "start_time": "2021-09-15T12:32:50.656Z"
   },
   {
    "duration": 318,
    "start_time": "2021-09-15T13:01:15.948Z"
   },
   {
    "duration": 715,
    "start_time": "2021-09-15T13:01:35.429Z"
   },
   {
    "duration": 28,
    "start_time": "2021-09-15T13:01:41.824Z"
   },
   {
    "duration": 27,
    "start_time": "2021-09-15T13:03:41.234Z"
   },
   {
    "duration": 25,
    "start_time": "2021-09-15T13:04:08.588Z"
   },
   {
    "duration": 316,
    "start_time": "2021-09-15T13:10:33.508Z"
   },
   {
    "duration": 56,
    "start_time": "2021-09-15T13:10:53.618Z"
   },
   {
    "duration": 35,
    "start_time": "2021-09-15T13:12:05.265Z"
   },
   {
    "duration": 16,
    "start_time": "2021-09-15T13:33:34.186Z"
   },
   {
    "duration": 12,
    "start_time": "2021-09-15T13:34:43.204Z"
   },
   {
    "duration": 12,
    "start_time": "2021-09-15T13:34:49.278Z"
   },
   {
    "duration": 12,
    "start_time": "2021-09-15T13:46:12.479Z"
   },
   {
    "duration": 54,
    "start_time": "2021-09-15T13:46:25.621Z"
   },
   {
    "duration": 9,
    "start_time": "2021-09-15T13:46:33.063Z"
   },
   {
    "duration": 10,
    "start_time": "2021-09-15T13:48:27.076Z"
   },
   {
    "duration": 3,
    "start_time": "2021-09-15T14:04:24.135Z"
   },
   {
    "duration": 17,
    "start_time": "2021-09-15T14:05:38.457Z"
   },
   {
    "duration": 14,
    "start_time": "2021-09-15T14:10:22.073Z"
   },
   {
    "duration": 14,
    "start_time": "2021-09-15T14:10:44.544Z"
   },
   {
    "duration": 364,
    "start_time": "2021-09-15T14:18:27.204Z"
   },
   {
    "duration": 349,
    "start_time": "2021-09-15T14:19:15.392Z"
   },
   {
    "duration": 54,
    "start_time": "2021-09-15T14:19:28.120Z"
   },
   {
    "duration": 336,
    "start_time": "2021-09-15T14:19:37.858Z"
   },
   {
    "duration": 142,
    "start_time": "2021-09-15T15:20:18.251Z"
   },
   {
    "duration": 104,
    "start_time": "2021-09-15T15:20:32.168Z"
   },
   {
    "duration": 109,
    "start_time": "2021-09-15T15:20:55.952Z"
   },
   {
    "duration": 96,
    "start_time": "2021-09-15T15:21:16.038Z"
   },
   {
    "duration": 587,
    "start_time": "2021-09-15T15:32:22.190Z"
   },
   {
    "duration": 326,
    "start_time": "2021-09-15T15:34:22.843Z"
   },
   {
    "duration": 109,
    "start_time": "2021-09-15T15:34:32.394Z"
   },
   {
    "duration": 363,
    "start_time": "2021-09-15T15:35:03.086Z"
   },
   {
    "duration": 55,
    "start_time": "2021-09-15T15:35:10.774Z"
   },
   {
    "duration": 327,
    "start_time": "2021-09-15T15:35:18.525Z"
   },
   {
    "duration": 319,
    "start_time": "2021-09-15T15:35:29.753Z"
   },
   {
    "duration": 3,
    "start_time": "2021-09-15T15:35:49.397Z"
   },
   {
    "duration": 3,
    "start_time": "2021-09-15T15:36:15.950Z"
   },
   {
    "duration": 126,
    "start_time": "2021-09-15T15:36:27.436Z"
   },
   {
    "duration": 246,
    "start_time": "2021-09-15T15:37:06.189Z"
   },
   {
    "duration": 97,
    "start_time": "2021-09-15T15:40:47.012Z"
   },
   {
    "duration": 97,
    "start_time": "2021-09-15T15:41:15.849Z"
   },
   {
    "duration": 315,
    "start_time": "2021-09-15T16:21:28.941Z"
   },
   {
    "duration": 54,
    "start_time": "2021-09-15T16:21:37.795Z"
   },
   {
    "duration": 12,
    "start_time": "2021-09-15T16:21:46.313Z"
   },
   {
    "duration": 387,
    "start_time": "2021-09-15T16:33:59.551Z"
   },
   {
    "duration": 345,
    "start_time": "2021-09-15T16:34:14.182Z"
   },
   {
    "duration": 54,
    "start_time": "2021-09-15T16:34:29.229Z"
   },
   {
    "duration": 5,
    "start_time": "2021-09-15T16:34:45.783Z"
   },
   {
    "duration": 7,
    "start_time": "2021-09-15T16:35:54.413Z"
   },
   {
    "duration": 6,
    "start_time": "2021-09-15T16:36:24.774Z"
   },
   {
    "duration": 5,
    "start_time": "2021-09-15T16:37:10.950Z"
   },
   {
    "duration": 323,
    "start_time": "2021-09-15T16:41:58.791Z"
   },
   {
    "duration": 7,
    "start_time": "2021-09-15T16:42:13.540Z"
   },
   {
    "duration": 6,
    "start_time": "2021-09-15T16:44:53.224Z"
   },
   {
    "duration": 331,
    "start_time": "2021-09-15T16:54:08.995Z"
   },
   {
    "duration": 56,
    "start_time": "2021-09-15T16:54:22.149Z"
   },
   {
    "duration": 327,
    "start_time": "2021-09-15T16:54:27.748Z"
   },
   {
    "duration": 586,
    "start_time": "2021-09-15T16:54:48.149Z"
   },
   {
    "duration": 638,
    "start_time": "2021-09-15T16:56:27.907Z"
   },
   {
    "duration": 368,
    "start_time": "2021-09-15T16:56:37.427Z"
   },
   {
    "duration": 650,
    "start_time": "2021-09-15T16:56:55.073Z"
   },
   {
    "duration": 3,
    "start_time": "2021-09-15T16:57:23.667Z"
   },
   {
    "duration": 3,
    "start_time": "2021-09-15T16:57:38.217Z"
   },
   {
    "duration": 4,
    "start_time": "2021-09-15T16:59:21.743Z"
   },
   {
    "duration": 589,
    "start_time": "2021-09-15T17:03:27.821Z"
   },
   {
    "duration": 602,
    "start_time": "2021-09-15T17:03:42.902Z"
   },
   {
    "duration": 321,
    "start_time": "2021-09-15T17:03:53.853Z"
   },
   {
    "duration": 104,
    "start_time": "2021-09-15T17:10:59.844Z"
   },
   {
    "duration": 118,
    "start_time": "2021-09-15T17:11:11.264Z"
   },
   {
    "duration": 103,
    "start_time": "2021-09-15T17:16:27.550Z"
   },
   {
    "duration": 102,
    "start_time": "2021-09-15T17:16:56.821Z"
   },
   {
    "duration": 98,
    "start_time": "2021-09-15T17:17:12.035Z"
   },
   {
    "duration": 110,
    "start_time": "2021-09-15T17:17:17.949Z"
   },
   {
    "duration": 3817,
    "start_time": "2021-09-15T17:17:24.067Z"
   },
   {
    "duration": 102,
    "start_time": "2021-09-15T17:17:41.260Z"
   },
   {
    "duration": 119,
    "start_time": "2021-09-15T17:17:57.628Z"
   },
   {
    "duration": 1596,
    "start_time": "2021-09-15T17:19:02.439Z"
   },
   {
    "duration": 112,
    "start_time": "2021-09-15T17:19:19.364Z"
   },
   {
    "duration": 111,
    "start_time": "2021-09-15T17:19:22.398Z"
   },
   {
    "duration": 57,
    "start_time": "2021-09-15T17:30:06.113Z"
   },
   {
    "duration": 122,
    "start_time": "2021-09-15T17:30:12.146Z"
   },
   {
    "duration": 101,
    "start_time": "2021-09-15T17:30:28.419Z"
   },
   {
    "duration": 10,
    "start_time": "2021-09-15T17:30:49.703Z"
   },
   {
    "duration": 9,
    "start_time": "2021-09-15T17:31:07.001Z"
   },
   {
    "duration": 52,
    "start_time": "2021-09-15T17:31:22.603Z"
   },
   {
    "duration": 12,
    "start_time": "2021-09-15T17:36:25.871Z"
   },
   {
    "duration": 12,
    "start_time": "2021-09-15T17:36:31.117Z"
   },
   {
    "duration": 4,
    "start_time": "2021-09-15T17:37:09.106Z"
   },
   {
    "duration": 124,
    "start_time": "2021-09-15T17:37:33.469Z"
   },
   {
    "duration": 121,
    "start_time": "2021-09-15T17:37:43.427Z"
   },
   {
    "duration": 10,
    "start_time": "2021-09-16T05:18:19.063Z"
   },
   {
    "duration": 13,
    "start_time": "2021-09-16T05:18:48.017Z"
   },
   {
    "duration": 13,
    "start_time": "2021-09-16T05:19:09.956Z"
   },
   {
    "duration": 21,
    "start_time": "2021-09-16T05:26:37.624Z"
   },
   {
    "duration": 408,
    "start_time": "2021-09-16T05:30:23.110Z"
   },
   {
    "duration": 12,
    "start_time": "2021-09-16T05:30:51.899Z"
   },
   {
    "duration": 1403,
    "start_time": "2021-09-16T05:31:14.402Z"
   },
   {
    "duration": 9,
    "start_time": "2021-09-16T05:32:05.003Z"
   },
   {
    "duration": 1426,
    "start_time": "2021-09-16T05:32:17.737Z"
   },
   {
    "duration": 1233,
    "start_time": "2021-09-16T05:33:30.308Z"
   },
   {
    "duration": 58,
    "start_time": "2021-09-16T05:33:52.335Z"
   },
   {
    "duration": 11,
    "start_time": "2021-09-16T05:33:57.543Z"
   },
   {
    "duration": 360,
    "start_time": "2021-09-16T05:40:11.045Z"
   },
   {
    "duration": 24,
    "start_time": "2021-09-16T05:40:20.588Z"
   },
   {
    "duration": 13,
    "start_time": "2021-09-16T05:42:56.630Z"
   },
   {
    "duration": 17,
    "start_time": "2021-09-16T05:45:51.638Z"
   },
   {
    "duration": 15,
    "start_time": "2021-09-16T05:47:12.203Z"
   },
   {
    "duration": 16,
    "start_time": "2021-09-16T06:23:17.897Z"
   },
   {
    "duration": 15,
    "start_time": "2021-09-16T06:23:48.201Z"
   },
   {
    "duration": 14,
    "start_time": "2021-09-16T06:24:00.001Z"
   },
   {
    "duration": 22,
    "start_time": "2021-09-16T06:24:23.475Z"
   },
   {
    "duration": 16,
    "start_time": "2021-09-16T06:25:09.106Z"
   },
   {
    "duration": 22,
    "start_time": "2021-09-16T06:26:25.147Z"
   },
   {
    "duration": 355,
    "start_time": "2021-09-16T07:03:27.917Z"
   },
   {
    "duration": 615,
    "start_time": "2021-09-16T07:05:30.391Z"
   },
   {
    "duration": 103,
    "start_time": "2021-09-16T07:05:49.421Z"
   },
   {
    "duration": 333,
    "start_time": "2021-09-16T07:05:55.244Z"
   },
   {
    "duration": 315,
    "start_time": "2021-09-16T07:06:03.517Z"
   },
   {
    "duration": 617,
    "start_time": "2021-09-16T07:22:01.876Z"
   },
   {
    "duration": 158,
    "start_time": "2021-09-16T09:12:47.436Z"
   },
   {
    "duration": 97,
    "start_time": "2021-09-16T09:13:08.313Z"
   },
   {
    "duration": 145,
    "start_time": "2021-09-16T09:52:30.136Z"
   },
   {
    "duration": 115,
    "start_time": "2021-09-16T09:52:49.742Z"
   },
   {
    "duration": 400,
    "start_time": "2021-09-16T09:53:03.190Z"
   },
   {
    "duration": 114,
    "start_time": "2021-09-16T09:54:06.617Z"
   },
   {
    "duration": 324,
    "start_time": "2021-09-16T09:54:31.522Z"
   },
   {
    "duration": 322,
    "start_time": "2021-09-16T09:54:46.952Z"
   },
   {
    "duration": 8351,
    "start_time": "2021-09-16T09:56:26.615Z"
   },
   {
    "duration": 59,
    "start_time": "2021-09-16T09:58:39.903Z"
   },
   {
    "duration": 7814,
    "start_time": "2021-09-16T09:59:33.777Z"
   },
   {
    "duration": 9581,
    "start_time": "2021-09-16T10:00:50.715Z"
   },
   {
    "duration": 334,
    "start_time": "2021-09-16T10:01:18.738Z"
   },
   {
    "duration": 10,
    "start_time": "2021-09-16T10:01:49.031Z"
   },
   {
    "duration": 370,
    "start_time": "2021-09-16T10:02:29.355Z"
   },
   {
    "duration": 288,
    "start_time": "2021-09-16T10:02:45.504Z"
   },
   {
    "duration": 1334,
    "start_time": "2021-09-16T10:03:08.271Z"
   },
   {
    "duration": 518,
    "start_time": "2021-09-16T11:45:16.670Z"
   },
   {
    "duration": 416,
    "start_time": "2021-09-16T11:46:14.599Z"
   },
   {
    "duration": 16,
    "start_time": "2021-09-16T11:46:27.503Z"
   },
   {
    "duration": 309,
    "start_time": "2021-09-16T11:47:59.501Z"
   },
   {
    "duration": 55,
    "start_time": "2021-09-16T11:48:43.541Z"
   },
   {
    "duration": 320,
    "start_time": "2021-09-16T11:49:16.154Z"
   },
   {
    "duration": 304,
    "start_time": "2021-09-16T11:51:43.629Z"
   },
   {
    "duration": 334,
    "start_time": "2021-09-16T11:52:06.801Z"
   },
   {
    "duration": 331,
    "start_time": "2021-09-16T11:54:05.718Z"
   },
   {
    "duration": 325,
    "start_time": "2021-09-16T11:56:51.315Z"
   },
   {
    "duration": 303,
    "start_time": "2021-09-16T11:57:16.800Z"
   },
   {
    "duration": 34,
    "start_time": "2021-09-16T11:57:32.040Z"
   },
   {
    "duration": 15,
    "start_time": "2021-09-16T11:57:39.480Z"
   },
   {
    "duration": 27,
    "start_time": "2021-09-16T11:57:49.545Z"
   },
   {
    "duration": 40,
    "start_time": "2021-09-16T11:58:46.637Z"
   },
   {
    "duration": 31,
    "start_time": "2021-09-16T11:58:59.895Z"
   },
   {
    "duration": 15,
    "start_time": "2021-09-16T12:00:08.656Z"
   },
   {
    "duration": 19,
    "start_time": "2021-09-16T12:00:15.710Z"
   },
   {
    "duration": 12,
    "start_time": "2021-09-16T12:00:22.196Z"
   },
   {
    "duration": 42,
    "start_time": "2021-09-16T12:00:28.374Z"
   },
   {
    "duration": 134,
    "start_time": "2021-09-16T13:10:18.468Z"
   },
   {
    "duration": 988,
    "start_time": "2021-09-16T13:10:30.785Z"
   },
   {
    "duration": 315,
    "start_time": "2021-09-16T13:11:04.634Z"
   },
   {
    "duration": 57,
    "start_time": "2021-09-16T13:11:15.796Z"
   },
   {
    "duration": 10,
    "start_time": "2021-09-16T13:11:21.352Z"
   },
   {
    "duration": 10,
    "start_time": "2021-09-16T13:11:29.944Z"
   },
   {
    "duration": 23,
    "start_time": "2021-09-16T13:11:38.699Z"
   },
   {
    "duration": 14,
    "start_time": "2021-09-16T13:11:48.073Z"
   },
   {
    "duration": 39,
    "start_time": "2021-09-16T13:12:00.115Z"
   },
   {
    "duration": 29,
    "start_time": "2021-09-16T13:12:12.778Z"
   },
   {
    "duration": 785,
    "start_time": "2021-09-16T13:12:56.560Z"
   },
   {
    "duration": 348,
    "start_time": "2021-09-16T13:13:23.642Z"
   },
   {
    "duration": 302,
    "start_time": "2021-09-16T13:14:59.520Z"
   },
   {
    "duration": 312,
    "start_time": "2021-09-16T13:17:13.264Z"
   },
   {
    "duration": 368,
    "start_time": "2021-09-16T13:18:38.161Z"
   },
   {
    "duration": 642,
    "start_time": "2021-09-16T13:36:38.794Z"
   },
   {
    "duration": 653,
    "start_time": "2021-09-16T13:36:50.964Z"
   },
   {
    "duration": 691,
    "start_time": "2021-09-16T13:37:18.878Z"
   },
   {
    "duration": 388,
    "start_time": "2021-09-16T13:38:04.046Z"
   },
   {
    "duration": 535,
    "start_time": "2021-09-16T13:38:28.319Z"
   },
   {
    "duration": 357,
    "start_time": "2021-09-16T13:38:49.444Z"
   },
   {
    "duration": 1712,
    "start_time": "2021-09-16T13:39:19.710Z"
   },
   {
    "duration": 338,
    "start_time": "2021-09-16T13:39:59.479Z"
   },
   {
    "duration": 322,
    "start_time": "2021-09-16T13:47:57.831Z"
   },
   {
    "duration": 591,
    "start_time": "2021-09-16T13:52:48.401Z"
   },
   {
    "duration": 620,
    "start_time": "2021-09-16T13:53:20.308Z"
   },
   {
    "duration": 133,
    "start_time": "2021-09-16T13:54:19.750Z"
   },
   {
    "duration": 322,
    "start_time": "2021-09-16T13:54:43.951Z"
   },
   {
    "duration": 334,
    "start_time": "2021-09-16T13:55:25.204Z"
   },
   {
    "duration": 316,
    "start_time": "2021-09-17T07:04:51.195Z"
   },
   {
    "duration": 288,
    "start_time": "2021-09-17T07:05:01.624Z"
   },
   {
    "duration": 3633,
    "start_time": "2021-09-17T07:05:21.220Z"
   },
   {
    "duration": 23,
    "start_time": "2021-09-17T07:26:28.701Z"
   },
   {
    "duration": 6,
    "start_time": "2021-09-17T08:20:05.464Z"
   },
   {
    "duration": 11,
    "start_time": "2021-09-17T08:22:21.143Z"
   },
   {
    "duration": 63,
    "start_time": "2021-09-17T08:23:34.871Z"
   },
   {
    "duration": 10,
    "start_time": "2021-09-17T08:23:56.763Z"
   },
   {
    "duration": 21,
    "start_time": "2021-09-17T08:24:07.595Z"
   },
   {
    "duration": 15,
    "start_time": "2021-09-17T08:24:22.466Z"
   },
   {
    "duration": 39,
    "start_time": "2021-09-17T08:24:33.720Z"
   },
   {
    "duration": 21,
    "start_time": "2021-09-17T08:24:47.441Z"
   },
   {
    "duration": 25,
    "start_time": "2021-09-17T08:24:53.833Z"
   },
   {
    "duration": 3414,
    "start_time": "2021-09-17T08:25:05.034Z"
   },
   {
    "duration": 11,
    "start_time": "2021-09-17T08:25:25.139Z"
   },
   {
    "duration": 8,
    "start_time": "2021-09-17T08:26:29.633Z"
   },
   {
    "duration": 9,
    "start_time": "2021-09-17T08:27:29.715Z"
   },
   {
    "duration": 8,
    "start_time": "2021-09-17T08:28:25.346Z"
   },
   {
    "duration": 1769,
    "start_time": "2021-09-17T08:32:42.634Z"
   },
   {
    "duration": 58,
    "start_time": "2021-09-17T08:32:55.466Z"
   },
   {
    "duration": 10,
    "start_time": "2021-09-17T08:32:59.218Z"
   },
   {
    "duration": 12,
    "start_time": "2021-09-17T08:33:02.444Z"
   },
   {
    "duration": 20,
    "start_time": "2021-09-17T08:33:17.148Z"
   },
   {
    "duration": 251,
    "start_time": "2021-09-17T08:33:54.194Z"
   },
   {
    "duration": 289,
    "start_time": "2021-09-17T08:34:02.986Z"
   },
   {
    "duration": 259,
    "start_time": "2021-09-17T08:34:20.405Z"
   },
   {
    "duration": 55,
    "start_time": "2021-09-17T08:34:27.747Z"
   },
   {
    "duration": 9,
    "start_time": "2021-09-17T08:34:32.911Z"
   },
   {
    "duration": 10,
    "start_time": "2021-09-17T08:34:36.438Z"
   },
   {
    "duration": 10,
    "start_time": "2021-09-17T08:34:45.559Z"
   },
   {
    "duration": 11,
    "start_time": "2021-09-17T08:34:54.234Z"
   },
   {
    "duration": 288,
    "start_time": "2021-09-17T08:40:44.942Z"
   },
   {
    "duration": 255,
    "start_time": "2021-09-17T08:41:07.313Z"
   },
   {
    "duration": 6775,
    "start_time": "2021-09-17T08:41:34.246Z"
   },
   {
    "duration": 249,
    "start_time": "2021-09-17T08:42:08.275Z"
   },
   {
    "duration": 8,
    "start_time": "2021-09-17T08:42:13.188Z"
   },
   {
    "duration": 266,
    "start_time": "2021-09-17T08:42:18.042Z"
   },
   {
    "duration": 10,
    "start_time": "2021-09-17T08:42:33.721Z"
   },
   {
    "duration": 3303,
    "start_time": "2021-09-17T08:51:02.724Z"
   },
   {
    "duration": 1939,
    "start_time": "2021-09-17T08:51:12.274Z"
   },
   {
    "duration": 58,
    "start_time": "2021-09-17T08:51:23.869Z"
   },
   {
    "duration": 12,
    "start_time": "2021-09-17T08:51:30.236Z"
   },
   {
    "duration": 28,
    "start_time": "2021-09-17T08:51:34.930Z"
   },
   {
    "duration": 14,
    "start_time": "2021-09-17T08:51:42.501Z"
   },
   {
    "duration": 40,
    "start_time": "2021-09-17T08:51:49.425Z"
   },
   {
    "duration": 21,
    "start_time": "2021-09-17T08:51:57.147Z"
   },
   {
    "duration": 27,
    "start_time": "2021-09-17T08:52:00.624Z"
   },
   {
    "duration": 3566,
    "start_time": "2021-09-17T08:52:07.283Z"
   },
   {
    "duration": 1067,
    "start_time": "2021-09-17T08:52:27.066Z"
   },
   {
    "duration": 1027,
    "start_time": "2021-09-17T08:52:31.386Z"
   },
   {
    "duration": 57,
    "start_time": "2021-09-17T08:52:38.404Z"
   },
   {
    "duration": 11,
    "start_time": "2021-09-17T08:52:46.202Z"
   },
   {
    "duration": 21,
    "start_time": "2021-09-17T08:52:51.883Z"
   },
   {
    "duration": 13,
    "start_time": "2021-09-17T08:52:56.458Z"
   },
   {
    "duration": 40,
    "start_time": "2021-09-17T08:53:02.359Z"
   },
   {
    "duration": 27,
    "start_time": "2021-09-17T08:53:08.862Z"
   },
   {
    "duration": 26,
    "start_time": "2021-09-17T08:53:12.708Z"
   },
   {
    "duration": 3568,
    "start_time": "2021-09-17T08:53:19.262Z"
   },
   {
    "duration": 12,
    "start_time": "2021-09-17T08:54:43.792Z"
   },
   {
    "duration": 11,
    "start_time": "2021-09-17T09:00:19.914Z"
   },
   {
    "duration": 1973,
    "start_time": "2021-09-17T09:00:31.430Z"
   },
   {
    "duration": 2001,
    "start_time": "2021-09-17T09:00:42.844Z"
   },
   {
    "duration": 13,
    "start_time": "2021-09-17T09:00:59.921Z"
   },
   {
    "duration": 1895,
    "start_time": "2021-09-17T09:01:06.466Z"
   },
   {
    "duration": 1783,
    "start_time": "2021-09-17T09:31:49.035Z"
   },
   {
    "duration": 29,
    "start_time": "2021-09-17T09:38:41.891Z"
   },
   {
    "duration": 388,
    "start_time": "2021-09-17T09:40:05.647Z"
   },
   {
    "duration": 26,
    "start_time": "2021-09-17T09:40:41.918Z"
   },
   {
    "duration": 270,
    "start_time": "2021-09-17T12:29:26.865Z"
   },
   {
    "duration": 8,
    "start_time": "2021-09-17T12:29:39.161Z"
   },
   {
    "duration": 2040,
    "start_time": "2021-09-17T12:32:41.369Z"
   },
   {
    "duration": 1724,
    "start_time": "2021-09-17T12:34:01.425Z"
   },
   {
    "duration": 1727,
    "start_time": "2021-09-17T12:34:19.307Z"
   },
   {
    "duration": 2684,
    "start_time": "2021-09-17T12:34:32.561Z"
   },
   {
    "duration": 27,
    "start_time": "2021-09-17T12:34:39.916Z"
   },
   {
    "duration": 9,
    "start_time": "2021-09-17T12:34:49.150Z"
   },
   {
    "duration": 1830,
    "start_time": "2021-09-17T12:35:16.140Z"
   },
   {
    "duration": 85,
    "start_time": "2021-09-17T12:38:03.631Z"
   },
   {
    "duration": 252,
    "start_time": "2021-09-17T12:38:16.022Z"
   },
   {
    "duration": 254,
    "start_time": "2021-09-17T12:38:32.066Z"
   },
   {
    "duration": 2741,
    "start_time": "2021-09-17T12:56:22.717Z"
   },
   {
    "duration": 1016,
    "start_time": "2021-09-17T12:56:36.560Z"
   },
   {
    "duration": 56,
    "start_time": "2021-09-17T12:56:46.469Z"
   },
   {
    "duration": 11,
    "start_time": "2021-09-17T12:57:00.136Z"
   },
   {
    "duration": 21,
    "start_time": "2021-09-17T12:57:06.571Z"
   },
   {
    "duration": 17,
    "start_time": "2021-09-17T12:57:15.364Z"
   },
   {
    "duration": 48,
    "start_time": "2021-09-17T12:57:21.269Z"
   },
   {
    "duration": 30,
    "start_time": "2021-09-17T12:57:26.886Z"
   },
   {
    "duration": 3384,
    "start_time": "2021-09-17T12:57:34.559Z"
   },
   {
    "duration": 3139,
    "start_time": "2021-09-17T12:57:43.953Z"
   },
   {
    "duration": 1709,
    "start_time": "2021-09-17T12:58:25.845Z"
   },
   {
    "duration": 853,
    "start_time": "2021-09-17T12:58:56.213Z"
   },
   {
    "duration": 258,
    "start_time": "2021-09-17T12:59:37.634Z"
   },
   {
    "duration": 6,
    "start_time": "2021-09-17T13:04:38.967Z"
   },
   {
    "duration": 2393,
    "start_time": "2021-09-17T13:05:09.635Z"
   },
   {
    "duration": 5,
    "start_time": "2021-09-17T13:05:53.362Z"
   },
   {
    "duration": 4,
    "start_time": "2021-09-17T13:06:24.555Z"
   },
   {
    "duration": 1949,
    "start_time": "2021-09-17T13:07:18.801Z"
   },
   {
    "duration": 6869,
    "start_time": "2021-09-17T13:09:16.640Z"
   },
   {
    "duration": 5,
    "start_time": "2021-09-17T13:09:36.999Z"
   },
   {
    "duration": 291,
    "start_time": "2021-09-17T13:16:02.517Z"
   },
   {
    "duration": 20,
    "start_time": "2021-09-17T13:18:14.247Z"
   },
   {
    "duration": 22,
    "start_time": "2021-09-17T13:18:32.792Z"
   },
   {
    "duration": 21,
    "start_time": "2021-09-17T13:18:51.458Z"
   },
   {
    "duration": 1649,
    "start_time": "2021-09-17T13:30:46.955Z"
   },
   {
    "duration": 1910,
    "start_time": "2021-09-17T13:30:58.551Z"
   },
   {
    "duration": 545,
    "start_time": "2021-09-17T13:38:14.836Z"
   },
   {
    "duration": 21,
    "start_time": "2021-09-17T13:41:08.939Z"
   },
   {
    "duration": 86,
    "start_time": "2021-09-17T13:42:11.140Z"
   },
   {
    "duration": 7305,
    "start_time": "2021-09-17T13:42:23.480Z"
   },
   {
    "duration": 6150,
    "start_time": "2021-09-17T13:42:55.046Z"
   },
   {
    "duration": 239,
    "start_time": "2021-09-17T13:46:56.108Z"
   },
   {
    "duration": 6976,
    "start_time": "2021-09-17T13:47:13.827Z"
   },
   {
    "duration": 6417,
    "start_time": "2021-09-17T13:47:38.467Z"
   },
   {
    "duration": 6345,
    "start_time": "2021-09-17T13:48:05.180Z"
   },
   {
    "duration": 66,
    "start_time": "2021-09-17T13:48:23.004Z"
   },
   {
    "duration": 3206,
    "start_time": "2021-09-17T13:48:33.781Z"
   },
   {
    "duration": 264,
    "start_time": "2021-09-17T13:48:44.301Z"
   },
   {
    "duration": 81,
    "start_time": "2021-09-17T13:50:18.477Z"
   },
   {
    "duration": 7,
    "start_time": "2021-09-17T13:50:35.274Z"
   },
   {
    "duration": 25,
    "start_time": "2021-09-17T13:51:46.749Z"
   },
   {
    "duration": 6997,
    "start_time": "2021-09-17T14:12:58.091Z"
   },
   {
    "duration": 246,
    "start_time": "2021-09-17T14:13:10.036Z"
   },
   {
    "duration": 252,
    "start_time": "2021-09-17T14:13:16.718Z"
   },
   {
    "duration": 7,
    "start_time": "2021-09-17T14:13:19.886Z"
   },
   {
    "duration": 246,
    "start_time": "2021-09-17T14:13:25.029Z"
   },
   {
    "duration": 286,
    "start_time": "2021-09-18T13:19:52.680Z"
   },
   {
    "duration": 238,
    "start_time": "2021-09-18T13:26:50.324Z"
   },
   {
    "duration": 248,
    "start_time": "2021-09-18T13:28:58.908Z"
   },
   {
    "duration": 798,
    "start_time": "2021-09-18T13:29:24.206Z"
   },
   {
    "duration": 633,
    "start_time": "2021-09-18T13:29:43.963Z"
   },
   {
    "duration": 21,
    "start_time": "2021-09-18T13:29:51.275Z"
   },
   {
    "duration": 13,
    "start_time": "2021-09-18T13:29:56.487Z"
   },
   {
    "duration": 31,
    "start_time": "2021-09-18T13:30:01.943Z"
   },
   {
    "duration": 16,
    "start_time": "2021-09-18T13:30:08.487Z"
   },
   {
    "duration": 45,
    "start_time": "2021-09-18T13:30:13.258Z"
   },
   {
    "duration": 22,
    "start_time": "2021-09-18T13:30:19.589Z"
   },
   {
    "duration": 27,
    "start_time": "2021-09-18T13:30:25.196Z"
   },
   {
    "duration": 3634,
    "start_time": "2021-09-18T13:30:33.379Z"
   },
   {
    "duration": 8,
    "start_time": "2021-09-18T13:30:43.152Z"
   },
   {
    "duration": 7303,
    "start_time": "2021-09-18T13:30:48.402Z"
   },
   {
    "duration": 1163,
    "start_time": "2021-09-18T13:32:15.556Z"
   },
   {
    "duration": 1148,
    "start_time": "2021-09-18T13:33:43.783Z"
   },
   {
    "duration": 352,
    "start_time": "2021-09-19T03:54:00.475Z"
   },
   {
    "duration": 847,
    "start_time": "2021-09-19T03:54:11.592Z"
   },
   {
    "duration": 76,
    "start_time": "2021-09-19T03:54:23.791Z"
   },
   {
    "duration": 20,
    "start_time": "2021-09-19T03:54:40.124Z"
   },
   {
    "duration": 17,
    "start_time": "2021-09-19T03:54:46.303Z"
   },
   {
    "duration": 13,
    "start_time": "2021-09-19T03:54:50.672Z"
   },
   {
    "duration": 14,
    "start_time": "2021-09-19T04:01:47.375Z"
   },
   {
    "duration": 59,
    "start_time": "2021-09-19T14:02:14.852Z"
   },
   {
    "duration": 12,
    "start_time": "2021-09-19T14:02:21.593Z"
   },
   {
    "duration": 17,
    "start_time": "2021-09-19T14:02:28.394Z"
   },
   {
    "duration": 6,
    "start_time": "2021-09-19T14:02:37.398Z"
   },
   {
    "duration": 11,
    "start_time": "2021-09-19T14:02:45.286Z"
   },
   {
    "duration": 10,
    "start_time": "2021-09-19T14:02:52.033Z"
   },
   {
    "duration": 48,
    "start_time": "2021-09-19T14:03:00.193Z"
   },
   {
    "duration": 39,
    "start_time": "2021-09-19T14:03:16.125Z"
   },
   {
    "duration": 11,
    "start_time": "2021-09-19T14:03:53.604Z"
   },
   {
    "duration": 18,
    "start_time": "2021-09-19T14:05:06.864Z"
   },
   {
    "duration": 241,
    "start_time": "2021-09-19T14:07:45.356Z"
   },
   {
    "duration": 251,
    "start_time": "2021-09-19T14:08:01.084Z"
   },
   {
    "duration": 11,
    "start_time": "2021-09-19T14:11:15.504Z"
   },
   {
    "duration": 14,
    "start_time": "2021-09-19T14:12:22.152Z"
   },
   {
    "duration": 13,
    "start_time": "2021-09-19T14:14:32.487Z"
   },
   {
    "duration": 250,
    "start_time": "2021-09-19T14:15:49.999Z"
   },
   {
    "duration": 2685,
    "start_time": "2021-09-19T14:24:31.849Z"
   },
   {
    "duration": 253,
    "start_time": "2021-09-19T14:27:22.836Z"
   },
   {
    "duration": 242,
    "start_time": "2021-09-19T15:28:53.429Z"
   },
   {
    "duration": 10,
    "start_time": "2021-09-19T15:29:03.115Z"
   },
   {
    "duration": 60,
    "start_time": "2021-09-19T15:29:14.428Z"
   },
   {
    "duration": 10,
    "start_time": "2021-09-19T15:29:22.146Z"
   },
   {
    "duration": 18,
    "start_time": "2021-09-19T15:29:27.301Z"
   },
   {
    "duration": 6,
    "start_time": "2021-09-19T15:29:36.181Z"
   },
   {
    "duration": 4,
    "start_time": "2021-09-19T15:29:46.582Z"
   },
   {
    "duration": 12,
    "start_time": "2021-09-19T15:29:52.071Z"
   },
   {
    "duration": 5,
    "start_time": "2021-09-19T15:29:58.781Z"
   },
   {
    "duration": 11,
    "start_time": "2021-09-19T15:30:04.244Z"
   },
   {
    "duration": 5,
    "start_time": "2021-09-19T15:30:09.396Z"
   },
   {
    "duration": 46,
    "start_time": "2021-09-19T15:30:16.061Z"
   },
   {
    "duration": 40,
    "start_time": "2021-09-19T15:30:26.738Z"
   },
   {
    "duration": 30,
    "start_time": "2021-09-19T15:30:33.884Z"
   },
   {
    "duration": 3185,
    "start_time": "2021-09-19T15:30:42.062Z"
   },
   {
    "duration": 15,
    "start_time": "2021-09-19T15:30:53.555Z"
   },
   {
    "duration": 11,
    "start_time": "2021-09-19T15:31:07.156Z"
   },
   {
    "duration": 10,
    "start_time": "2021-09-19T15:34:29.565Z"
   },
   {
    "duration": 11,
    "start_time": "2021-09-19T15:35:38.863Z"
   },
   {
    "duration": 255,
    "start_time": "2021-09-19T15:39:32.852Z"
   },
   {
    "duration": 282,
    "start_time": "2021-09-19T15:41:11.558Z"
   },
   {
    "duration": 12,
    "start_time": "2021-09-19T15:41:33.234Z"
   },
   {
    "duration": 13,
    "start_time": "2021-09-19T15:42:14.202Z"
   },
   {
    "duration": 244,
    "start_time": "2021-09-19T15:48:21.379Z"
   },
   {
    "duration": 256,
    "start_time": "2021-09-19T15:48:31.472Z"
   },
   {
    "duration": 253,
    "start_time": "2021-09-19T15:48:44.760Z"
   },
   {
    "duration": 10,
    "start_time": "2021-09-19T15:51:33.601Z"
   },
   {
    "duration": 1917,
    "start_time": "2021-09-19T15:55:12.467Z"
   },
   {
    "duration": 5,
    "start_time": "2021-09-19T15:56:53.793Z"
   },
   {
    "duration": 5,
    "start_time": "2021-09-19T15:58:11.310Z"
   },
   {
    "duration": 4708,
    "start_time": "2021-09-19T16:01:45.509Z"
   },
   {
    "duration": 5190,
    "start_time": "2021-09-19T16:03:17.702Z"
   },
   {
    "duration": 6,
    "start_time": "2021-09-19T16:04:40.063Z"
   },
   {
    "duration": 1153,
    "start_time": "2021-09-19T17:39:52.212Z"
   },
   {
    "duration": 27,
    "start_time": "2021-09-19T17:40:33.607Z"
   },
   {
    "duration": 13,
    "start_time": "2021-09-19T17:40:42.810Z"
   },
   {
    "duration": 6,
    "start_time": "2021-09-19T17:54:17.639Z"
   },
   {
    "duration": 6,
    "start_time": "2021-09-19T17:54:29.449Z"
   },
   {
    "duration": 11,
    "start_time": "2021-09-19T18:07:38.864Z"
   },
   {
    "duration": 249,
    "start_time": "2021-09-19T18:13:47.865Z"
   },
   {
    "duration": 55,
    "start_time": "2021-09-19T18:14:44.612Z"
   },
   {
    "duration": 10,
    "start_time": "2021-09-19T18:14:50.345Z"
   },
   {
    "duration": 234,
    "start_time": "2021-09-19T18:15:27.106Z"
   },
   {
    "duration": 17,
    "start_time": "2021-09-19T18:15:50.197Z"
   },
   {
    "duration": 239,
    "start_time": "2021-09-19T18:15:59.205Z"
   },
   {
    "duration": 254,
    "start_time": "2021-09-19T18:17:06.392Z"
   },
   {
    "duration": 3,
    "start_time": "2021-09-19T18:17:11.405Z"
   },
   {
    "duration": 23,
    "start_time": "2021-09-19T18:17:14.679Z"
   },
   {
    "duration": 284,
    "start_time": "2021-09-19T18:25:47.723Z"
   },
   {
    "duration": 81,
    "start_time": "2021-09-19T18:32:27.286Z"
   },
   {
    "duration": 87,
    "start_time": "2021-09-19T18:33:13.714Z"
   },
   {
    "duration": 282,
    "start_time": "2021-09-19T18:33:22.590Z"
   },
   {
    "duration": 828,
    "start_time": "2021-09-19T18:34:06.590Z"
   },
   {
    "duration": 401,
    "start_time": "2021-09-19T18:34:38.404Z"
   },
   {
    "duration": 453,
    "start_time": "2021-09-19T18:35:10.431Z"
   },
   {
    "duration": 97,
    "start_time": "2021-09-19T18:35:53.642Z"
   },
   {
    "duration": 97,
    "start_time": "2021-09-19T18:41:09.492Z"
   },
   {
    "duration": 8,
    "start_time": "2021-09-19T18:42:46.887Z"
   },
   {
    "duration": 10,
    "start_time": "2021-09-19T19:07:15.708Z"
   },
   {
    "duration": 3284,
    "start_time": "2021-09-19T19:07:36.462Z"
   },
   {
    "duration": 1467,
    "start_time": "2021-09-19T19:08:10.431Z"
   },
   {
    "duration": 1155,
    "start_time": "2021-09-19T19:08:16.605Z"
   },
   {
    "duration": 1128,
    "start_time": "2021-09-19T19:08:27.789Z"
   },
   {
    "duration": 1389,
    "start_time": "2021-09-19T19:08:43.603Z"
   },
   {
    "duration": 57,
    "start_time": "2021-09-19T19:09:02.837Z"
   },
   {
    "duration": 10,
    "start_time": "2021-09-19T19:09:07.960Z"
   },
   {
    "duration": 18,
    "start_time": "2021-09-19T19:09:11.676Z"
   },
   {
    "duration": 3,
    "start_time": "2021-09-19T19:09:14.874Z"
   },
   {
    "duration": 23,
    "start_time": "2021-09-19T19:09:26.919Z"
   },
   {
    "duration": 6,
    "start_time": "2021-09-19T19:09:33.858Z"
   },
   {
    "duration": 4,
    "start_time": "2021-09-19T19:09:47.585Z"
   },
   {
    "duration": 8,
    "start_time": "2021-09-19T19:09:51.516Z"
   },
   {
    "duration": 4,
    "start_time": "2021-09-19T19:10:02.483Z"
   },
   {
    "duration": 10,
    "start_time": "2021-09-19T19:10:06.458Z"
   },
   {
    "duration": 6,
    "start_time": "2021-09-19T19:10:15.442Z"
   },
   {
    "duration": 43,
    "start_time": "2021-09-19T19:10:30.255Z"
   },
   {
    "duration": 30,
    "start_time": "2021-09-19T19:10:51.740Z"
   },
   {
    "duration": 11,
    "start_time": "2021-09-19T19:26:02.979Z"
   },
   {
    "duration": 115,
    "start_time": "2021-09-19T19:27:34.706Z"
   },
   {
    "duration": 14,
    "start_time": "2021-09-19T19:27:47.670Z"
   },
   {
    "duration": 823,
    "start_time": "2021-09-20T05:59:53.827Z"
   },
   {
    "duration": 10,
    "start_time": "2021-09-20T05:59:54.652Z"
   },
   {
    "duration": 556,
    "start_time": "2021-09-20T05:59:54.664Z"
   },
   {
    "duration": 3,
    "start_time": "2021-09-20T05:59:55.222Z"
   },
   {
    "duration": 26,
    "start_time": "2021-09-20T05:59:55.227Z"
   },
   {
    "duration": 2,
    "start_time": "2021-09-20T05:59:55.255Z"
   },
   {
    "duration": 10,
    "start_time": "2021-09-20T05:59:55.258Z"
   },
   {
    "duration": 5,
    "start_time": "2021-09-20T05:59:55.270Z"
   },
   {
    "duration": 9,
    "start_time": "2021-09-20T05:59:55.276Z"
   },
   {
    "duration": 8,
    "start_time": "2021-09-20T05:59:55.286Z"
   },
   {
    "duration": 9,
    "start_time": "2021-09-20T05:59:55.296Z"
   },
   {
    "duration": 5,
    "start_time": "2021-09-20T05:59:55.306Z"
   },
   {
    "duration": 10,
    "start_time": "2021-09-20T05:59:55.344Z"
   },
   {
    "duration": 115,
    "start_time": "2021-09-20T05:59:55.355Z"
   },
   {
    "duration": 6,
    "start_time": "2021-09-20T05:59:55.471Z"
   },
   {
    "duration": 40,
    "start_time": "2021-09-20T05:59:55.478Z"
   },
   {
    "duration": 49,
    "start_time": "2021-09-20T05:59:55.520Z"
   },
   {
    "duration": 3243,
    "start_time": "2021-09-20T05:59:55.571Z"
   },
   {
    "duration": 14,
    "start_time": "2021-09-20T05:59:58.816Z"
   },
   {
    "duration": 9,
    "start_time": "2021-09-20T05:59:58.844Z"
   },
   {
    "duration": 6,
    "start_time": "2021-09-20T05:59:58.854Z"
   },
   {
    "duration": 14,
    "start_time": "2021-09-20T05:59:58.861Z"
   },
   {
    "duration": 2,
    "start_time": "2021-09-20T05:59:58.877Z"
   },
   {
    "duration": 332,
    "start_time": "2021-09-20T05:59:58.881Z"
   },
   {
    "duration": -22768,
    "start_time": "2021-09-20T06:00:21.983Z"
   },
   {
    "duration": 1393,
    "start_time": "2021-09-20T06:00:16.323Z"
   },
   {
    "duration": 1713,
    "start_time": "2021-09-20T06:00:32.469Z"
   },
   {
    "duration": 1345,
    "start_time": "2021-09-20T06:01:38.466Z"
   },
   {
    "duration": 1595,
    "start_time": "2021-09-20T06:01:56.876Z"
   },
   {
    "duration": 1400,
    "start_time": "2021-09-20T06:08:34.756Z"
   },
   {
    "duration": 1800,
    "start_time": "2021-09-20T06:18:29.143Z"
   },
   {
    "duration": 701,
    "start_time": "2021-09-20T06:18:43.145Z"
   },
   {
    "duration": 10,
    "start_time": "2021-09-20T06:18:43.848Z"
   },
   {
    "duration": 570,
    "start_time": "2021-09-20T06:18:43.860Z"
   },
   {
    "duration": 3,
    "start_time": "2021-09-20T06:18:44.432Z"
   },
   {
    "duration": 27,
    "start_time": "2021-09-20T06:18:44.437Z"
   },
   {
    "duration": 2,
    "start_time": "2021-09-20T06:18:44.466Z"
   },
   {
    "duration": 6,
    "start_time": "2021-09-20T06:18:44.469Z"
   },
   {
    "duration": 8,
    "start_time": "2021-09-20T06:18:44.477Z"
   },
   {
    "duration": 10,
    "start_time": "2021-09-20T06:18:44.486Z"
   },
   {
    "duration": 4,
    "start_time": "2021-09-20T06:18:44.498Z"
   },
   {
    "duration": 45,
    "start_time": "2021-09-20T06:18:44.504Z"
   },
   {
    "duration": 4,
    "start_time": "2021-09-20T06:18:44.551Z"
   },
   {
    "duration": 13,
    "start_time": "2021-09-20T06:18:44.557Z"
   },
   {
    "duration": 130,
    "start_time": "2021-09-20T06:18:44.572Z"
   },
   {
    "duration": 8,
    "start_time": "2021-09-20T06:18:44.704Z"
   },
   {
    "duration": 65,
    "start_time": "2021-09-20T06:18:44.713Z"
   },
   {
    "duration": 3212,
    "start_time": "2021-09-20T06:18:44.779Z"
   },
   {
    "duration": 14,
    "start_time": "2021-09-20T06:18:47.992Z"
   },
   {
    "duration": 10,
    "start_time": "2021-09-20T06:18:48.007Z"
   },
   {
    "duration": 26,
    "start_time": "2021-09-20T06:18:48.019Z"
   },
   {
    "duration": 25,
    "start_time": "2021-09-20T06:18:48.047Z"
   },
   {
    "duration": 6,
    "start_time": "2021-09-20T06:18:48.073Z"
   },
   {
    "duration": 365,
    "start_time": "2021-09-20T06:18:48.082Z"
   },
   {
    "duration": -21214,
    "start_time": "2021-09-20T06:19:09.663Z"
   },
   {
    "duration": 1543,
    "start_time": "2021-09-20T06:19:20.865Z"
   },
   {
    "duration": 607,
    "start_time": "2021-09-20T06:19:33.904Z"
   },
   {
    "duration": 9,
    "start_time": "2021-09-20T06:19:34.513Z"
   },
   {
    "duration": 585,
    "start_time": "2021-09-20T06:19:34.524Z"
   },
   {
    "duration": 3,
    "start_time": "2021-09-20T06:19:35.111Z"
   },
   {
    "duration": 35,
    "start_time": "2021-09-20T06:19:35.115Z"
   },
   {
    "duration": 2,
    "start_time": "2021-09-20T06:19:35.151Z"
   },
   {
    "duration": 9,
    "start_time": "2021-09-20T06:19:35.155Z"
   },
   {
    "duration": 14,
    "start_time": "2021-09-20T06:19:35.167Z"
   },
   {
    "duration": 20,
    "start_time": "2021-09-20T06:19:35.183Z"
   },
   {
    "duration": 11,
    "start_time": "2021-09-20T06:19:35.204Z"
   },
   {
    "duration": 28,
    "start_time": "2021-09-20T06:19:35.216Z"
   },
   {
    "duration": 11,
    "start_time": "2021-09-20T06:19:35.245Z"
   },
   {
    "duration": 27,
    "start_time": "2021-09-20T06:19:35.257Z"
   },
   {
    "duration": 99,
    "start_time": "2021-09-20T06:19:35.286Z"
   },
   {
    "duration": 6,
    "start_time": "2021-09-20T06:19:35.387Z"
   },
   {
    "duration": 58,
    "start_time": "2021-09-20T06:19:35.394Z"
   },
   {
    "duration": 2949,
    "start_time": "2021-09-20T06:19:35.453Z"
   },
   {
    "duration": 15,
    "start_time": "2021-09-20T06:19:38.404Z"
   },
   {
    "duration": 28,
    "start_time": "2021-09-20T06:19:38.421Z"
   },
   {
    "duration": 7,
    "start_time": "2021-09-20T06:19:38.451Z"
   },
   {
    "duration": 16,
    "start_time": "2021-09-20T06:19:38.460Z"
   },
   {
    "duration": 2,
    "start_time": "2021-09-20T06:19:38.478Z"
   },
   {
    "duration": 396,
    "start_time": "2021-09-20T06:19:38.484Z"
   },
   {
    "duration": -20345,
    "start_time": "2021-09-20T06:19:59.228Z"
   },
   {
    "duration": 1607,
    "start_time": "2021-09-20T06:43:53.110Z"
   },
   {
    "duration": 1133,
    "start_time": "2021-09-20T06:44:03.747Z"
   },
   {
    "duration": 1182,
    "start_time": "2021-09-20T06:44:18.756Z"
   },
   {
    "duration": 617,
    "start_time": "2021-09-20T06:44:30.950Z"
   },
   {
    "duration": 10,
    "start_time": "2021-09-20T06:44:31.569Z"
   },
   {
    "duration": 528,
    "start_time": "2021-09-20T06:44:31.580Z"
   },
   {
    "duration": 3,
    "start_time": "2021-09-20T06:44:32.110Z"
   },
   {
    "duration": 37,
    "start_time": "2021-09-20T06:44:32.115Z"
   },
   {
    "duration": 2,
    "start_time": "2021-09-20T06:44:32.153Z"
   },
   {
    "duration": 10,
    "start_time": "2021-09-20T06:44:32.157Z"
   },
   {
    "duration": 6,
    "start_time": "2021-09-20T06:44:32.170Z"
   },
   {
    "duration": 23,
    "start_time": "2021-09-20T06:44:32.178Z"
   },
   {
    "duration": 22,
    "start_time": "2021-09-20T06:44:32.202Z"
   },
   {
    "duration": 16,
    "start_time": "2021-09-20T06:44:32.226Z"
   },
   {
    "duration": 8,
    "start_time": "2021-09-20T06:44:32.243Z"
   },
   {
    "duration": 20,
    "start_time": "2021-09-20T06:44:32.252Z"
   },
   {
    "duration": 106,
    "start_time": "2021-09-20T06:44:32.274Z"
   },
   {
    "duration": 5,
    "start_time": "2021-09-20T06:44:32.382Z"
   },
   {
    "duration": 62,
    "start_time": "2021-09-20T06:44:32.389Z"
   },
   {
    "duration": 3585,
    "start_time": "2021-09-20T06:44:32.452Z"
   },
   {
    "duration": 13,
    "start_time": "2021-09-20T06:44:36.045Z"
   },
   {
    "duration": 10,
    "start_time": "2021-09-20T06:44:36.060Z"
   },
   {
    "duration": 5,
    "start_time": "2021-09-20T06:44:36.072Z"
   },
   {
    "duration": 15,
    "start_time": "2021-09-20T06:44:36.079Z"
   },
   {
    "duration": 2,
    "start_time": "2021-09-20T06:44:36.096Z"
   },
   {
    "duration": 368,
    "start_time": "2021-09-20T06:44:36.100Z"
   },
   {
    "duration": -23257,
    "start_time": "2021-09-20T06:44:59.727Z"
   },
   {
    "duration": 2048,
    "start_time": "2021-09-20T07:41:43.482Z"
   },
   {
    "duration": 678,
    "start_time": "2021-09-20T07:42:11.716Z"
   },
   {
    "duration": 11,
    "start_time": "2021-09-20T07:42:12.396Z"
   },
   {
    "duration": 545,
    "start_time": "2021-09-20T07:42:12.409Z"
   },
   {
    "duration": 3,
    "start_time": "2021-09-20T07:42:12.956Z"
   },
   {
    "duration": 26,
    "start_time": "2021-09-20T07:42:12.960Z"
   },
   {
    "duration": 1,
    "start_time": "2021-09-20T07:42:12.988Z"
   },
   {
    "duration": 9,
    "start_time": "2021-09-20T07:42:12.991Z"
   },
   {
    "duration": 7,
    "start_time": "2021-09-20T07:42:13.002Z"
   },
   {
    "duration": 8,
    "start_time": "2021-09-20T07:42:13.010Z"
   },
   {
    "duration": 4,
    "start_time": "2021-09-20T07:42:13.019Z"
   },
   {
    "duration": 23,
    "start_time": "2021-09-20T07:42:13.024Z"
   },
   {
    "duration": 4,
    "start_time": "2021-09-20T07:42:13.048Z"
   },
   {
    "duration": 12,
    "start_time": "2021-09-20T07:42:13.053Z"
   },
   {
    "duration": 109,
    "start_time": "2021-09-20T07:42:13.066Z"
   },
   {
    "duration": 6,
    "start_time": "2021-09-20T07:42:13.177Z"
   },
   {
    "duration": 42,
    "start_time": "2021-09-20T07:42:13.184Z"
   },
   {
    "duration": 29,
    "start_time": "2021-09-20T07:42:13.244Z"
   },
   {
    "duration": 3420,
    "start_time": "2021-09-20T07:42:13.274Z"
   },
   {
    "duration": 14,
    "start_time": "2021-09-20T07:42:16.696Z"
   },
   {
    "duration": 9,
    "start_time": "2021-09-20T07:42:16.712Z"
   },
   {
    "duration": 24,
    "start_time": "2021-09-20T07:42:16.723Z"
   },
   {
    "duration": 15,
    "start_time": "2021-09-20T07:42:16.749Z"
   },
   {
    "duration": 2,
    "start_time": "2021-09-20T07:42:16.767Z"
   },
   {
    "duration": 336,
    "start_time": "2021-09-20T07:42:16.771Z"
   },
   {
    "duration": -28642,
    "start_time": "2021-09-20T07:42:45.751Z"
   },
   {
    "duration": 560,
    "start_time": "2021-09-20T07:46:21.956Z"
   },
   {
    "duration": 4,
    "start_time": "2021-09-20T07:46:57.016Z"
   },
   {
    "duration": 1310,
    "start_time": "2021-09-20T07:47:18.203Z"
   },
   {
    "duration": 650,
    "start_time": "2021-09-20T07:47:38.139Z"
   },
   {
    "duration": 9,
    "start_time": "2021-09-20T07:47:38.791Z"
   },
   {
    "duration": 2082,
    "start_time": "2021-09-20T07:47:38.802Z"
   },
   {
    "duration": 4,
    "start_time": "2021-09-20T07:47:40.886Z"
   },
   {
    "duration": 46,
    "start_time": "2021-09-20T07:47:40.891Z"
   },
   {
    "duration": 1,
    "start_time": "2021-09-20T07:47:40.940Z"
   },
   {
    "duration": 14,
    "start_time": "2021-09-20T07:47:40.943Z"
   },
   {
    "duration": 18,
    "start_time": "2021-09-20T07:47:40.959Z"
   },
   {
    "duration": 21,
    "start_time": "2021-09-20T07:47:40.979Z"
   },
   {
    "duration": 7,
    "start_time": "2021-09-20T07:47:41.001Z"
   },
   {
    "duration": 22,
    "start_time": "2021-09-20T07:47:41.010Z"
   },
   {
    "duration": 7,
    "start_time": "2021-09-20T07:47:41.034Z"
   },
   {
    "duration": 11,
    "start_time": "2021-09-20T07:47:41.941Z"
   },
   {
    "duration": 106,
    "start_time": "2021-09-20T07:47:41.958Z"
   },
   {
    "duration": 7,
    "start_time": "2021-09-20T07:47:42.066Z"
   },
   {
    "duration": 41,
    "start_time": "2021-09-20T07:47:43.522Z"
   },
   {
    "duration": 33,
    "start_time": "2021-09-20T07:47:43.565Z"
   },
   {
    "duration": 682,
    "start_time": "2021-09-20T07:47:43.600Z"
   },
   {
    "duration": 15,
    "start_time": "2021-09-20T07:47:47.355Z"
   },
   {
    "duration": 11,
    "start_time": "2021-09-20T07:47:47.372Z"
   },
   {
    "duration": 13,
    "start_time": "2021-09-20T07:47:47.385Z"
   },
   {
    "duration": 38,
    "start_time": "2021-09-20T07:47:47.400Z"
   },
   {
    "duration": 10,
    "start_time": "2021-09-20T07:47:47.439Z"
   },
   {
    "duration": 410,
    "start_time": "2021-09-20T07:47:47.451Z"
   },
   {
    "duration": -50390,
    "start_time": "2021-09-20T07:48:38.254Z"
   },
   {
    "duration": 1299,
    "start_time": "2021-09-20T07:47:53.387Z"
   },
   {
    "duration": 57,
    "start_time": "2021-09-20T07:48:03.233Z"
   },
   {
    "duration": 639,
    "start_time": "2021-09-20T07:48:41.006Z"
   },
   {
    "duration": 10,
    "start_time": "2021-09-20T07:48:41.646Z"
   },
   {
    "duration": 548,
    "start_time": "2021-09-20T07:48:41.658Z"
   },
   {
    "duration": 3,
    "start_time": "2021-09-20T07:48:42.208Z"
   },
   {
    "duration": 32,
    "start_time": "2021-09-20T07:48:42.212Z"
   },
   {
    "duration": 2,
    "start_time": "2021-09-20T07:48:42.245Z"
   },
   {
    "duration": 6,
    "start_time": "2021-09-20T07:48:42.249Z"
   },
   {
    "duration": 10,
    "start_time": "2021-09-20T07:48:42.257Z"
   },
   {
    "duration": 17,
    "start_time": "2021-09-20T07:48:42.268Z"
   },
   {
    "duration": 7,
    "start_time": "2021-09-20T07:48:42.286Z"
   },
   {
    "duration": 12,
    "start_time": "2021-09-20T07:48:42.295Z"
   },
   {
    "duration": 5,
    "start_time": "2021-09-20T07:48:42.308Z"
   },
   {
    "duration": 29,
    "start_time": "2021-09-20T07:48:42.315Z"
   },
   {
    "duration": 98,
    "start_time": "2021-09-20T07:48:42.346Z"
   },
   {
    "duration": 6,
    "start_time": "2021-09-20T07:48:42.445Z"
   },
   {
    "duration": 47,
    "start_time": "2021-09-20T07:48:42.453Z"
   },
   {
    "duration": 58,
    "start_time": "2021-09-20T07:48:42.501Z"
   },
   {
    "duration": 634,
    "start_time": "2021-09-20T07:48:42.560Z"
   },
   {
    "duration": 3209,
    "start_time": "2021-09-20T07:48:43.195Z"
   },
   {
    "duration": 16,
    "start_time": "2021-09-20T07:48:46.406Z"
   },
   {
    "duration": 24,
    "start_time": "2021-09-20T07:48:46.424Z"
   },
   {
    "duration": 7,
    "start_time": "2021-09-20T07:48:46.449Z"
   },
   {
    "duration": 15,
    "start_time": "2021-09-20T07:48:46.460Z"
   },
   {
    "duration": 3,
    "start_time": "2021-09-20T07:48:46.477Z"
   },
   {
    "duration": 401,
    "start_time": "2021-09-20T07:48:46.481Z"
   },
   {
    "duration": -25468,
    "start_time": "2021-09-20T07:49:12.352Z"
   },
   {
    "duration": 4,
    "start_time": "2021-09-20T07:49:11.847Z"
   },
   {
    "duration": 1272,
    "start_time": "2021-09-20T08:07:56.896Z"
   },
   {
    "duration": 1939,
    "start_time": "2021-09-20T08:08:14.838Z"
   },
   {
    "duration": 661,
    "start_time": "2021-09-20T08:08:26.597Z"
   },
   {
    "duration": 10,
    "start_time": "2021-09-20T08:08:27.260Z"
   },
   {
    "duration": 574,
    "start_time": "2021-09-20T08:08:27.272Z"
   },
   {
    "duration": 3,
    "start_time": "2021-09-20T08:08:27.848Z"
   },
   {
    "duration": 29,
    "start_time": "2021-09-20T08:08:27.853Z"
   },
   {
    "duration": 2,
    "start_time": "2021-09-20T08:08:27.884Z"
   },
   {
    "duration": 8,
    "start_time": "2021-09-20T08:08:27.888Z"
   },
   {
    "duration": 5,
    "start_time": "2021-09-20T08:08:27.899Z"
   },
   {
    "duration": 7,
    "start_time": "2021-09-20T08:08:27.906Z"
   },
   {
    "duration": 7,
    "start_time": "2021-09-20T08:08:27.915Z"
   },
   {
    "duration": 9,
    "start_time": "2021-09-20T08:08:27.944Z"
   },
   {
    "duration": 5,
    "start_time": "2021-09-20T08:08:27.954Z"
   },
   {
    "duration": 12,
    "start_time": "2021-09-20T08:08:27.961Z"
   },
   {
    "duration": 129,
    "start_time": "2021-09-20T08:08:27.974Z"
   },
   {
    "duration": 7,
    "start_time": "2021-09-20T08:08:28.104Z"
   },
   {
    "duration": 56,
    "start_time": "2021-09-20T08:08:28.112Z"
   },
   {
    "duration": 31,
    "start_time": "2021-09-20T08:08:28.170Z"
   },
   {
    "duration": 3444,
    "start_time": "2021-09-20T08:08:28.203Z"
   },
   {
    "duration": 13,
    "start_time": "2021-09-20T08:08:31.649Z"
   },
   {
    "duration": 9,
    "start_time": "2021-09-20T08:08:31.663Z"
   },
   {
    "duration": 6,
    "start_time": "2021-09-20T08:08:31.673Z"
   },
   {
    "duration": 17,
    "start_time": "2021-09-20T08:08:31.681Z"
   },
   {
    "duration": 2,
    "start_time": "2021-09-20T08:08:31.701Z"
   },
   {
    "duration": 326,
    "start_time": "2021-09-20T08:08:31.704Z"
   },
   {
    "duration": -26889,
    "start_time": "2021-09-20T08:08:58.921Z"
   },
   {
    "duration": 257,
    "start_time": "2021-09-20T08:12:58.888Z"
   },
   {
    "duration": 17,
    "start_time": "2021-09-20T08:13:14.601Z"
   },
   {
    "duration": 2234,
    "start_time": "2021-09-20T08:25:51.988Z"
   },
   {
    "duration": 655,
    "start_time": "2021-09-20T08:26:02.647Z"
   },
   {
    "duration": 10,
    "start_time": "2021-09-20T08:26:03.303Z"
   },
   {
    "duration": 532,
    "start_time": "2021-09-20T08:26:03.314Z"
   },
   {
    "duration": 4,
    "start_time": "2021-09-20T08:26:03.848Z"
   },
   {
    "duration": 27,
    "start_time": "2021-09-20T08:26:03.854Z"
   },
   {
    "duration": 3,
    "start_time": "2021-09-20T08:26:03.883Z"
   },
   {
    "duration": 9,
    "start_time": "2021-09-20T08:26:03.887Z"
   },
   {
    "duration": 7,
    "start_time": "2021-09-20T08:26:03.898Z"
   },
   {
    "duration": 12,
    "start_time": "2021-09-20T08:26:03.907Z"
   },
   {
    "duration": 5,
    "start_time": "2021-09-20T08:26:03.921Z"
   },
   {
    "duration": 20,
    "start_time": "2021-09-20T08:26:03.928Z"
   },
   {
    "duration": 4,
    "start_time": "2021-09-20T08:26:03.950Z"
   },
   {
    "duration": 11,
    "start_time": "2021-09-20T08:26:03.956Z"
   },
   {
    "duration": 117,
    "start_time": "2021-09-20T08:26:03.969Z"
   },
   {
    "duration": 6,
    "start_time": "2021-09-20T08:26:04.088Z"
   },
   {
    "duration": 52,
    "start_time": "2021-09-20T08:26:04.095Z"
   },
   {
    "duration": 17,
    "start_time": "2021-09-20T08:26:04.148Z"
   },
   {
    "duration": 79,
    "start_time": "2021-09-20T08:26:04.166Z"
   },
   {
    "duration": 3360,
    "start_time": "2021-09-20T08:26:04.247Z"
   },
   {
    "duration": 14,
    "start_time": "2021-09-20T08:26:07.608Z"
   },
   {
    "duration": 22,
    "start_time": "2021-09-20T08:26:07.623Z"
   },
   {
    "duration": 6,
    "start_time": "2021-09-20T08:26:07.646Z"
   },
   {
    "duration": 14,
    "start_time": "2021-09-20T08:26:07.655Z"
   },
   {
    "duration": 2,
    "start_time": "2021-09-20T08:26:07.671Z"
   },
   {
    "duration": 18,
    "start_time": "2021-09-20T08:26:07.674Z"
   },
   {
    "duration": 83,
    "start_time": "2021-09-20T08:26:07.694Z"
   },
   {
    "duration": 15,
    "start_time": "2021-09-20T09:00:57.635Z"
   },
   {
    "duration": 2,
    "start_time": "2021-09-20T09:04:13.855Z"
   },
   {
    "duration": 636,
    "start_time": "2021-09-20T09:49:00.277Z"
   },
   {
    "duration": 11,
    "start_time": "2021-09-20T09:49:00.914Z"
   },
   {
    "duration": 599,
    "start_time": "2021-09-20T09:49:00.927Z"
   },
   {
    "duration": 3,
    "start_time": "2021-09-20T09:49:01.528Z"
   },
   {
    "duration": 46,
    "start_time": "2021-09-20T09:49:01.533Z"
   },
   {
    "duration": 7,
    "start_time": "2021-09-20T09:49:01.581Z"
   },
   {
    "duration": 16,
    "start_time": "2021-09-20T09:49:01.590Z"
   },
   {
    "duration": 23,
    "start_time": "2021-09-20T09:49:01.608Z"
   },
   {
    "duration": 14,
    "start_time": "2021-09-20T09:49:01.634Z"
   },
   {
    "duration": 25,
    "start_time": "2021-09-20T09:49:01.650Z"
   },
   {
    "duration": 133,
    "start_time": "2021-09-20T09:49:01.677Z"
   },
   {
    "duration": 6,
    "start_time": "2021-09-20T09:49:01.812Z"
   },
   {
    "duration": 103,
    "start_time": "2021-09-20T09:49:01.820Z"
   },
   {
    "duration": -21671,
    "start_time": "2021-09-20T09:49:23.596Z"
   },
   {
    "duration": -21684,
    "start_time": "2021-09-20T09:49:23.610Z"
   },
   {
    "duration": -21694,
    "start_time": "2021-09-20T09:49:23.621Z"
   },
   {
    "duration": -21705,
    "start_time": "2021-09-20T09:49:23.633Z"
   },
   {
    "duration": -21787,
    "start_time": "2021-09-20T09:49:23.716Z"
   },
   {
    "duration": -21801,
    "start_time": "2021-09-20T09:49:23.731Z"
   },
   {
    "duration": -21819,
    "start_time": "2021-09-20T09:49:23.750Z"
   },
   {
    "duration": -21828,
    "start_time": "2021-09-20T09:49:23.760Z"
   },
   {
    "duration": -21847,
    "start_time": "2021-09-20T09:49:23.780Z"
   },
   {
    "duration": -21858,
    "start_time": "2021-09-20T09:49:23.792Z"
   },
   {
    "duration": -21878,
    "start_time": "2021-09-20T09:49:23.812Z"
   },
   {
    "duration": -21903,
    "start_time": "2021-09-20T09:49:23.839Z"
   },
   {
    "duration": -21921,
    "start_time": "2021-09-20T09:49:23.858Z"
   },
   {
    "duration": -21929,
    "start_time": "2021-09-20T09:49:23.866Z"
   },
   {
    "duration": -21955,
    "start_time": "2021-09-20T09:49:23.893Z"
   },
   {
    "duration": 767,
    "start_time": "2021-09-20T15:14:06.365Z"
   },
   {
    "duration": 11,
    "start_time": "2021-09-20T15:14:07.133Z"
   },
   {
    "duration": 1085,
    "start_time": "2021-09-20T15:14:07.146Z"
   },
   {
    "duration": 4,
    "start_time": "2021-09-20T15:14:08.233Z"
   },
   {
    "duration": 42,
    "start_time": "2021-09-20T15:14:08.239Z"
   },
   {
    "duration": 8,
    "start_time": "2021-09-20T15:14:08.283Z"
   },
   {
    "duration": 6,
    "start_time": "2021-09-20T15:14:08.293Z"
   },
   {
    "duration": 12,
    "start_time": "2021-09-20T15:14:08.302Z"
   },
   {
    "duration": 35,
    "start_time": "2021-09-20T15:14:08.316Z"
   },
   {
    "duration": 13,
    "start_time": "2021-09-20T15:14:08.353Z"
   },
   {
    "duration": 176,
    "start_time": "2021-09-20T15:14:08.368Z"
   },
   {
    "duration": 11,
    "start_time": "2021-09-20T15:14:08.549Z"
   },
   {
    "duration": 89,
    "start_time": "2021-09-20T15:14:08.561Z"
   },
   {
    "duration": -175,
    "start_time": "2021-09-20T15:14:08.827Z"
   },
   {
    "duration": -180,
    "start_time": "2021-09-20T15:14:08.833Z"
   },
   {
    "duration": -183,
    "start_time": "2021-09-20T15:14:08.837Z"
   },
   {
    "duration": -185,
    "start_time": "2021-09-20T15:14:08.840Z"
   },
   {
    "duration": -187,
    "start_time": "2021-09-20T15:14:08.843Z"
   },
   {
    "duration": -191,
    "start_time": "2021-09-20T15:14:08.849Z"
   },
   {
    "duration": -194,
    "start_time": "2021-09-20T15:14:08.853Z"
   },
   {
    "duration": -197,
    "start_time": "2021-09-20T15:14:08.857Z"
   },
   {
    "duration": -209,
    "start_time": "2021-09-20T15:14:08.870Z"
   },
   {
    "duration": -211,
    "start_time": "2021-09-20T15:14:08.873Z"
   },
   {
    "duration": -213,
    "start_time": "2021-09-20T15:14:08.875Z"
   },
   {
    "duration": -215,
    "start_time": "2021-09-20T15:14:08.878Z"
   },
   {
    "duration": -216,
    "start_time": "2021-09-20T15:14:08.880Z"
   },
   {
    "duration": -218,
    "start_time": "2021-09-20T15:14:08.883Z"
   },
   {
    "duration": -219,
    "start_time": "2021-09-20T15:14:08.885Z"
   },
   {
    "duration": 68,
    "start_time": "2021-09-20T15:14:19.376Z"
   },
   {
    "duration": 29,
    "start_time": "2021-09-20T15:14:21.781Z"
   },
   {
    "duration": 45,
    "start_time": "2021-09-20T15:14:23.468Z"
   },
   {
    "duration": 4025,
    "start_time": "2021-09-20T15:14:23.798Z"
   },
   {
    "duration": 25,
    "start_time": "2021-09-20T15:14:27.825Z"
   },
   {
    "duration": 14,
    "start_time": "2021-09-20T15:14:27.853Z"
   },
   {
    "duration": 8,
    "start_time": "2021-09-20T15:14:27.869Z"
   },
   {
    "duration": 17,
    "start_time": "2021-09-20T15:14:27.879Z"
   },
   {
    "duration": 2,
    "start_time": "2021-09-20T15:14:27.898Z"
   },
   {
    "duration": 19,
    "start_time": "2021-09-20T15:14:27.902Z"
   },
   {
    "duration": 87,
    "start_time": "2021-09-20T15:14:27.950Z"
   },
   {
    "duration": -146,
    "start_time": "2021-09-20T15:14:28.186Z"
   },
   {
    "duration": 6,
    "start_time": "2021-09-20T15:34:40.256Z"
   },
   {
    "duration": 56,
    "start_time": "2021-09-20T15:35:03.552Z"
   },
   {
    "duration": 329,
    "start_time": "2021-09-21T05:56:56.197Z"
   },
   {
    "duration": 262,
    "start_time": "2021-09-21T05:57:26.804Z"
   },
   {
    "duration": 891,
    "start_time": "2021-09-21T05:57:32.746Z"
   },
   {
    "duration": 15,
    "start_time": "2021-09-21T05:57:37.137Z"
   },
   {
    "duration": 47,
    "start_time": "2021-09-21T05:57:40.704Z"
   },
   {
    "duration": 92,
    "start_time": "2021-09-22T08:39:23.015Z"
   },
   {
    "duration": 84,
    "start_time": "2021-09-22T08:39:49.315Z"
   },
   {
    "duration": 89,
    "start_time": "2021-09-22T08:40:07.636Z"
   },
   {
    "duration": 102,
    "start_time": "2021-09-22T08:40:17.429Z"
   },
   {
    "duration": 96,
    "start_time": "2021-09-22T08:40:30.427Z"
   },
   {
    "duration": 3,
    "start_time": "2021-09-22T08:40:39.648Z"
   },
   {
    "duration": 99,
    "start_time": "2021-09-22T08:42:19.352Z"
   },
   {
    "duration": 307,
    "start_time": "2021-09-22T08:49:25.285Z"
   },
   {
    "duration": 312,
    "start_time": "2021-09-22T08:50:31.181Z"
   },
   {
    "duration": 569,
    "start_time": "2021-09-22T08:59:08.565Z"
   },
   {
    "duration": 678,
    "start_time": "2021-09-22T09:06:22.374Z"
   },
   {
    "duration": 10,
    "start_time": "2021-09-22T09:06:23.054Z"
   },
   {
    "duration": 35,
    "start_time": "2021-09-22T09:06:23.066Z"
   },
   {
    "duration": 832,
    "start_time": "2021-09-22T09:06:23.103Z"
   },
   {
    "duration": 4,
    "start_time": "2021-09-22T09:06:23.938Z"
   },
   {
    "duration": 44,
    "start_time": "2021-09-22T09:06:23.944Z"
   },
   {
    "duration": 136,
    "start_time": "2021-09-22T09:06:23.990Z"
   },
   {
    "duration": -21817,
    "start_time": "2021-09-22T09:06:45.946Z"
   },
   {
    "duration": -22236,
    "start_time": "2021-09-22T09:06:46.366Z"
   },
   {
    "duration": -22296,
    "start_time": "2021-09-22T09:06:46.427Z"
   },
   {
    "duration": -22431,
    "start_time": "2021-09-22T09:06:46.563Z"
   },
   {
    "duration": -22446,
    "start_time": "2021-09-22T09:06:46.579Z"
   },
   {
    "duration": -22465,
    "start_time": "2021-09-22T09:06:46.599Z"
   },
   {
    "duration": -22479,
    "start_time": "2021-09-22T09:06:46.614Z"
   },
   {
    "duration": -22498,
    "start_time": "2021-09-22T09:06:46.635Z"
   },
   {
    "duration": -22512,
    "start_time": "2021-09-22T09:06:46.650Z"
   },
   {
    "duration": -22552,
    "start_time": "2021-09-22T09:06:46.691Z"
   },
   {
    "duration": -22570,
    "start_time": "2021-09-22T09:06:46.710Z"
   },
   {
    "duration": -22593,
    "start_time": "2021-09-22T09:06:46.734Z"
   },
   {
    "duration": -22608,
    "start_time": "2021-09-22T09:06:46.750Z"
   },
   {
    "duration": -22631,
    "start_time": "2021-09-22T09:06:46.774Z"
   },
   {
    "duration": -22681,
    "start_time": "2021-09-22T09:06:46.825Z"
   },
   {
    "duration": -22698,
    "start_time": "2021-09-22T09:06:46.843Z"
   },
   {
    "duration": -22719,
    "start_time": "2021-09-22T09:06:46.865Z"
   },
   {
    "duration": -22733,
    "start_time": "2021-09-22T09:06:46.880Z"
   },
   {
    "duration": -22749,
    "start_time": "2021-09-22T09:06:46.897Z"
   },
   {
    "duration": -22762,
    "start_time": "2021-09-22T09:06:46.910Z"
   },
   {
    "duration": -22822,
    "start_time": "2021-09-22T09:06:46.972Z"
   },
   {
    "duration": -22920,
    "start_time": "2021-09-22T09:06:47.071Z"
   },
   {
    "duration": -22963,
    "start_time": "2021-09-22T09:06:47.115Z"
   },
   {
    "duration": -23008,
    "start_time": "2021-09-22T09:06:47.161Z"
   },
   {
    "duration": 16,
    "start_time": "2021-09-22T09:19:06.691Z"
   },
   {
    "duration": 340,
    "start_time": "2021-09-22T09:33:04.408Z"
   },
   {
    "duration": 62,
    "start_time": "2021-09-22T09:57:05.779Z"
   },
   {
    "duration": 12,
    "start_time": "2021-09-22T09:57:11.989Z"
   },
   {
    "duration": 35,
    "start_time": "2021-09-22T09:57:16.699Z"
   },
   {
    "duration": 18,
    "start_time": "2021-09-22T09:58:06.922Z"
   },
   {
    "duration": 325,
    "start_time": "2021-09-22T09:58:26.347Z"
   },
   {
    "duration": 328,
    "start_time": "2021-09-22T09:58:36.700Z"
   },
   {
    "duration": 1455,
    "start_time": "2021-09-22T09:59:28.204Z"
   },
   {
    "duration": 707,
    "start_time": "2021-09-22T10:00:01.049Z"
   },
   {
    "duration": 13,
    "start_time": "2021-09-22T10:00:01.758Z"
   },
   {
    "duration": 42,
    "start_time": "2021-09-22T10:00:01.774Z"
   },
   {
    "duration": 611,
    "start_time": "2021-09-22T10:00:01.818Z"
   },
   {
    "duration": 3,
    "start_time": "2021-09-22T10:00:02.432Z"
   },
   {
    "duration": 49,
    "start_time": "2021-09-22T10:00:02.438Z"
   },
   {
    "duration": 95,
    "start_time": "2021-09-22T10:00:02.489Z"
   },
   {
    "duration": -22410,
    "start_time": "2021-09-22T10:00:24.997Z"
   },
   {
    "duration": -22458,
    "start_time": "2021-09-22T10:00:25.046Z"
   },
   {
    "duration": -22603,
    "start_time": "2021-09-22T10:00:25.192Z"
   },
   {
    "duration": -22677,
    "start_time": "2021-09-22T10:00:25.266Z"
   },
   {
    "duration": -22728,
    "start_time": "2021-09-22T10:00:25.318Z"
   },
   {
    "duration": -22794,
    "start_time": "2021-09-22T10:00:25.386Z"
   },
   {
    "duration": -22807,
    "start_time": "2021-09-22T10:00:25.400Z"
   },
   {
    "duration": -22864,
    "start_time": "2021-09-22T10:00:25.458Z"
   },
   {
    "duration": -23060,
    "start_time": "2021-09-22T10:00:25.655Z"
   },
   {
    "duration": -23170,
    "start_time": "2021-09-22T10:00:25.766Z"
   },
   {
    "duration": -23195,
    "start_time": "2021-09-22T10:00:25.792Z"
   },
   {
    "duration": -23207,
    "start_time": "2021-09-22T10:00:25.805Z"
   },
   {
    "duration": -23562,
    "start_time": "2021-09-22T10:00:26.161Z"
   },
   {
    "duration": -23718,
    "start_time": "2021-09-22T10:00:26.318Z"
   },
   {
    "duration": -23766,
    "start_time": "2021-09-22T10:00:26.367Z"
   },
   {
    "duration": -23793,
    "start_time": "2021-09-22T10:00:26.395Z"
   },
   {
    "duration": -23809,
    "start_time": "2021-09-22T10:00:26.413Z"
   },
   {
    "duration": -23825,
    "start_time": "2021-09-22T10:00:26.430Z"
   },
   {
    "duration": -23886,
    "start_time": "2021-09-22T10:00:26.492Z"
   },
   {
    "duration": -24025,
    "start_time": "2021-09-22T10:00:26.632Z"
   },
   {
    "duration": -24041,
    "start_time": "2021-09-22T10:00:26.649Z"
   },
   {
    "duration": -24054,
    "start_time": "2021-09-22T10:00:26.663Z"
   },
   {
    "duration": -24066,
    "start_time": "2021-09-22T10:00:26.676Z"
   },
   {
    "duration": -24076,
    "start_time": "2021-09-22T10:00:26.687Z"
   },
   {
    "duration": -24092,
    "start_time": "2021-09-22T10:00:26.704Z"
   },
   {
    "duration": -24105,
    "start_time": "2021-09-22T10:00:26.718Z"
   },
   {
    "duration": 340,
    "start_time": "2021-09-22T10:00:11.488Z"
   },
   {
    "duration": 269,
    "start_time": "2021-09-22T10:03:18.934Z"
   },
   {
    "duration": 8,
    "start_time": "2021-09-22T10:03:25.926Z"
   },
   {
    "duration": 28,
    "start_time": "2021-09-22T10:03:37.811Z"
   },
   {
    "duration": 38,
    "start_time": "2021-09-22T10:05:02.649Z"
   },
   {
    "duration": 26,
    "start_time": "2021-09-22T10:05:28.497Z"
   },
   {
    "duration": 305,
    "start_time": "2021-09-22T10:26:00.013Z"
   },
   {
    "duration": 313,
    "start_time": "2021-09-22T10:26:18.678Z"
   },
   {
    "duration": 285,
    "start_time": "2021-09-22T10:26:27.639Z"
   },
   {
    "duration": 44,
    "start_time": "2021-09-22T10:26:48.221Z"
   },
   {
    "duration": 96,
    "start_time": "2021-09-22T10:31:50.368Z"
   },
   {
    "duration": 83,
    "start_time": "2021-09-22T10:32:05.486Z"
   },
   {
    "duration": 30,
    "start_time": "2021-09-22T10:32:15.735Z"
   },
   {
    "duration": 30,
    "start_time": "2021-09-22T11:11:39.410Z"
   },
   {
    "duration": 1181,
    "start_time": "2021-09-22T11:16:01.468Z"
   },
   {
    "duration": 24,
    "start_time": "2021-09-22T11:23:35.008Z"
   },
   {
    "duration": 285,
    "start_time": "2021-09-22T11:23:52.337Z"
   },
   {
    "duration": 20,
    "start_time": "2021-09-22T11:24:11.529Z"
   },
   {
    "duration": 20,
    "start_time": "2021-09-22T11:25:32.374Z"
   },
   {
    "duration": 265,
    "start_time": "2021-09-22T11:27:15.285Z"
   },
   {
    "duration": 304,
    "start_time": "2021-09-22T11:27:45.785Z"
   },
   {
    "duration": 299,
    "start_time": "2021-09-22T11:27:56.829Z"
   },
   {
    "duration": 350,
    "start_time": "2021-09-22T11:28:09.011Z"
   },
   {
    "duration": 14,
    "start_time": "2021-09-22T11:28:23.549Z"
   },
   {
    "duration": 3972,
    "start_time": "2021-09-22T11:29:45.150Z"
   },
   {
    "duration": 292,
    "start_time": "2021-09-22T11:30:16.525Z"
   },
   {
    "duration": 15,
    "start_time": "2021-09-22T11:30:40.425Z"
   },
   {
    "duration": 27,
    "start_time": "2021-09-22T11:36:04.005Z"
   },
   {
    "duration": 24,
    "start_time": "2021-09-22T11:36:18.885Z"
   },
   {
    "duration": 16,
    "start_time": "2021-09-22T11:37:13.525Z"
   },
   {
    "duration": 297,
    "start_time": "2021-09-22T11:41:02.468Z"
   },
   {
    "duration": 8,
    "start_time": "2021-09-22T11:41:05.403Z"
   },
   {
    "duration": 281,
    "start_time": "2021-09-22T11:41:11.578Z"
   },
   {
    "duration": 18,
    "start_time": "2021-09-22T11:41:18.612Z"
   },
   {
    "duration": 99,
    "start_time": "2021-09-22T11:59:13.343Z"
   },
   {
    "duration": 283,
    "start_time": "2021-09-22T12:02:01.592Z"
   },
   {
    "duration": 53,
    "start_time": "2021-09-22T12:02:56.460Z"
   },
   {
    "duration": 265,
    "start_time": "2021-09-22T12:03:15.292Z"
   },
   {
    "duration": 16,
    "start_time": "2021-09-22T12:03:35.372Z"
   },
   {
    "duration": 15,
    "start_time": "2021-09-22T12:03:45.604Z"
   },
   {
    "duration": 12,
    "start_time": "2021-09-22T12:03:59.245Z"
   },
   {
    "duration": 31,
    "start_time": "2021-09-22T12:05:41.856Z"
   },
   {
    "duration": 5,
    "start_time": "2021-09-22T12:06:22.431Z"
   },
   {
    "duration": 17,
    "start_time": "2021-09-22T12:06:32.804Z"
   },
   {
    "duration": 13,
    "start_time": "2021-09-22T12:07:12.211Z"
   },
   {
    "duration": 682,
    "start_time": "2021-09-22T12:17:45.492Z"
   },
   {
    "duration": 337,
    "start_time": "2021-09-22T12:17:56.526Z"
   },
   {
    "duration": 3,
    "start_time": "2021-09-22T12:18:35.684Z"
   },
   {
    "duration": 12,
    "start_time": "2021-09-22T12:18:50.702Z"
   },
   {
    "duration": 2,
    "start_time": "2021-09-22T12:23:39.881Z"
   },
   {
    "duration": 1600,
    "start_time": "2021-09-22T12:23:59.805Z"
   },
   {
    "duration": 4,
    "start_time": "2021-09-22T12:24:20.645Z"
   },
   {
    "duration": 31,
    "start_time": "2021-09-22T12:24:33.418Z"
   },
   {
    "duration": 28,
    "start_time": "2021-09-22T12:28:57.585Z"
   },
   {
    "duration": 13,
    "start_time": "2021-09-22T12:29:11.406Z"
   },
   {
    "duration": 3,
    "start_time": "2021-09-22T12:29:29.935Z"
   },
   {
    "duration": 4,
    "start_time": "2021-09-22T12:29:34.562Z"
   },
   {
    "duration": 298,
    "start_time": "2021-09-22T12:36:06.062Z"
   },
   {
    "duration": 261,
    "start_time": "2021-09-22T12:36:26.296Z"
   },
   {
    "duration": 273,
    "start_time": "2021-09-22T12:36:50.520Z"
   },
   {
    "duration": 714,
    "start_time": "2021-09-22T12:37:07.492Z"
   },
   {
    "duration": 14,
    "start_time": "2021-09-22T12:37:08.209Z"
   },
   {
    "duration": 51,
    "start_time": "2021-09-22T12:37:08.226Z"
   },
   {
    "duration": 670,
    "start_time": "2021-09-22T12:37:08.280Z"
   },
   {
    "duration": 4,
    "start_time": "2021-09-22T12:37:08.952Z"
   },
   {
    "duration": 35,
    "start_time": "2021-09-22T12:37:08.957Z"
   },
   {
    "duration": 6,
    "start_time": "2021-09-22T12:37:08.994Z"
   },
   {
    "duration": 7,
    "start_time": "2021-09-22T12:37:09.002Z"
   },
   {
    "duration": 35,
    "start_time": "2021-09-22T12:37:09.011Z"
   },
   {
    "duration": 5,
    "start_time": "2021-09-22T12:37:09.048Z"
   },
   {
    "duration": 13,
    "start_time": "2021-09-22T12:37:09.055Z"
   },
   {
    "duration": 144,
    "start_time": "2021-09-22T12:37:09.070Z"
   },
   {
    "duration": 3,
    "start_time": "2021-09-22T12:37:09.217Z"
   },
   {
    "duration": 30,
    "start_time": "2021-09-22T12:37:09.222Z"
   },
   {
    "duration": 47,
    "start_time": "2021-09-22T12:37:09.254Z"
   },
   {
    "duration": 16,
    "start_time": "2021-09-22T12:37:09.303Z"
   },
   {
    "duration": 39,
    "start_time": "2021-09-22T12:37:09.321Z"
   },
   {
    "duration": 360,
    "start_time": "2021-09-22T12:37:09.362Z"
   },
   {
    "duration": -23423,
    "start_time": "2021-09-22T12:37:33.147Z"
   },
   {
    "duration": -23437,
    "start_time": "2021-09-22T12:37:33.162Z"
   },
   {
    "duration": -23461,
    "start_time": "2021-09-22T12:37:33.187Z"
   },
   {
    "duration": -23472,
    "start_time": "2021-09-22T12:37:33.199Z"
   },
   {
    "duration": -23489,
    "start_time": "2021-09-22T12:37:33.217Z"
   },
   {
    "duration": -23502,
    "start_time": "2021-09-22T12:37:33.231Z"
   },
   {
    "duration": -23560,
    "start_time": "2021-09-22T12:37:33.290Z"
   },
   {
    "duration": -23588,
    "start_time": "2021-09-22T12:37:33.318Z"
   },
   {
    "duration": -23703,
    "start_time": "2021-09-22T12:37:33.434Z"
   },
   {
    "duration": -23791,
    "start_time": "2021-09-22T12:37:33.523Z"
   },
   {
    "duration": -23865,
    "start_time": "2021-09-22T12:37:33.599Z"
   },
   {
    "duration": -23927,
    "start_time": "2021-09-22T12:37:33.662Z"
   },
   {
    "duration": -23956,
    "start_time": "2021-09-22T12:37:33.692Z"
   },
   {
    "duration": -23972,
    "start_time": "2021-09-22T12:37:33.709Z"
   },
   {
    "duration": -23985,
    "start_time": "2021-09-22T12:37:33.723Z"
   },
   {
    "duration": -23997,
    "start_time": "2021-09-22T12:37:33.736Z"
   },
   {
    "duration": -24050,
    "start_time": "2021-09-22T12:37:33.790Z"
   },
   {
    "duration": 279,
    "start_time": "2021-09-22T12:37:28.011Z"
   },
   {
    "duration": 63,
    "start_time": "2021-09-22T12:37:38.972Z"
   },
   {
    "duration": 11,
    "start_time": "2021-09-22T12:37:43.827Z"
   },
   {
    "duration": 18,
    "start_time": "2021-09-22T12:37:51.222Z"
   },
   {
    "duration": 27,
    "start_time": "2021-09-22T12:37:56.904Z"
   },
   {
    "duration": 8,
    "start_time": "2021-09-22T12:38:20.060Z"
   },
   {
    "duration": 270,
    "start_time": "2021-09-22T12:38:34.973Z"
   },
   {
    "duration": 14,
    "start_time": "2021-09-22T12:38:45.955Z"
   },
   {
    "duration": 271,
    "start_time": "2021-09-22T12:39:02.217Z"
   },
   {
    "duration": 274,
    "start_time": "2021-09-22T12:39:53.893Z"
   },
   {
    "duration": 294,
    "start_time": "2021-09-22T12:43:54.507Z"
   },
   {
    "duration": 303,
    "start_time": "2021-09-22T12:44:49.457Z"
   },
   {
    "duration": 51,
    "start_time": "2021-09-22T12:45:01.780Z"
   },
   {
    "duration": 397,
    "start_time": "2021-09-22T13:31:33.989Z"
   },
   {
    "duration": 325,
    "start_time": "2021-09-22T13:32:10.157Z"
   },
   {
    "duration": 261,
    "start_time": "2021-09-22T13:34:50.456Z"
   },
   {
    "duration": 466,
    "start_time": "2021-09-22T13:34:58.647Z"
   },
   {
    "duration": 357,
    "start_time": "2021-09-22T13:35:39.343Z"
   },
   {
    "duration": 78,
    "start_time": "2021-09-22T13:40:48.145Z"
   },
   {
    "duration": 74,
    "start_time": "2021-09-22T13:41:04.418Z"
   },
   {
    "duration": 28,
    "start_time": "2021-09-22T13:41:18.943Z"
   },
   {
    "duration": 20,
    "start_time": "2021-09-22T13:42:29.733Z"
   },
   {
    "duration": 19,
    "start_time": "2021-09-22T13:43:13.002Z"
   },
   {
    "duration": 13,
    "start_time": "2021-09-22T13:43:29.500Z"
   },
   {
    "duration": 1328,
    "start_time": "2021-09-22T13:45:42.903Z"
   },
   {
    "duration": 13,
    "start_time": "2021-09-22T13:45:49.098Z"
   },
   {
    "duration": 18,
    "start_time": "2021-09-22T13:46:04.336Z"
   },
   {
    "duration": 14,
    "start_time": "2021-09-22T13:46:25.177Z"
   },
   {
    "duration": 15,
    "start_time": "2021-09-22T13:47:17.546Z"
   },
   {
    "duration": 21,
    "start_time": "2021-09-22T13:47:21.282Z"
   },
   {
    "duration": 19,
    "start_time": "2021-09-22T14:22:05.137Z"
   },
   {
    "duration": 269,
    "start_time": "2021-09-22T14:32:47.088Z"
   },
   {
    "duration": 36,
    "start_time": "2021-09-22T14:33:15.483Z"
   },
   {
    "duration": 3889,
    "start_time": "2021-09-22T14:33:44.444Z"
   },
   {
    "duration": 2111,
    "start_time": "2021-09-22T14:37:13.862Z"
   },
   {
    "duration": 1962,
    "start_time": "2021-09-22T14:37:34.468Z"
   },
   {
    "duration": 700,
    "start_time": "2021-09-22T14:37:44.139Z"
   },
   {
    "duration": 11,
    "start_time": "2021-09-22T14:37:44.841Z"
   },
   {
    "duration": 39,
    "start_time": "2021-09-22T14:37:44.854Z"
   },
   {
    "duration": 637,
    "start_time": "2021-09-22T14:37:44.895Z"
   },
   {
    "duration": 4,
    "start_time": "2021-09-22T14:37:45.535Z"
   },
   {
    "duration": 69,
    "start_time": "2021-09-22T14:37:45.540Z"
   },
   {
    "duration": 7,
    "start_time": "2021-09-22T14:37:45.611Z"
   },
   {
    "duration": 18,
    "start_time": "2021-09-22T14:37:45.621Z"
   },
   {
    "duration": 27,
    "start_time": "2021-09-22T14:37:45.642Z"
   },
   {
    "duration": 5,
    "start_time": "2021-09-22T14:37:45.671Z"
   },
   {
    "duration": 16,
    "start_time": "2021-09-22T14:37:45.678Z"
   },
   {
    "duration": 121,
    "start_time": "2021-09-22T14:37:45.696Z"
   },
   {
    "duration": 2,
    "start_time": "2021-09-22T14:37:45.819Z"
   },
   {
    "duration": 24,
    "start_time": "2021-09-22T14:37:45.823Z"
   },
   {
    "duration": 69,
    "start_time": "2021-09-22T14:37:45.849Z"
   },
   {
    "duration": 17,
    "start_time": "2021-09-22T14:37:45.920Z"
   },
   {
    "duration": 21,
    "start_time": "2021-09-22T14:37:45.939Z"
   },
   {
    "duration": 366,
    "start_time": "2021-09-22T14:37:45.963Z"
   },
   {
    "duration": -22304,
    "start_time": "2021-09-22T14:38:08.635Z"
   },
   {
    "duration": -22321,
    "start_time": "2021-09-22T14:38:08.653Z"
   },
   {
    "duration": -22336,
    "start_time": "2021-09-22T14:38:08.669Z"
   },
   {
    "duration": -22353,
    "start_time": "2021-09-22T14:38:08.687Z"
   },
   {
    "duration": -22371,
    "start_time": "2021-09-22T14:38:08.706Z"
   },
   {
    "duration": -22389,
    "start_time": "2021-09-22T14:38:08.725Z"
   },
   {
    "duration": -22432,
    "start_time": "2021-09-22T14:38:08.769Z"
   },
   {
    "duration": -22444,
    "start_time": "2021-09-22T14:38:08.783Z"
   },
   {
    "duration": -22466,
    "start_time": "2021-09-22T14:38:08.806Z"
   },
   {
    "duration": -22476,
    "start_time": "2021-09-22T14:38:08.817Z"
   },
   {
    "duration": -22497,
    "start_time": "2021-09-22T14:38:08.839Z"
   },
   {
    "duration": -22509,
    "start_time": "2021-09-22T14:38:08.852Z"
   },
   {
    "duration": -22549,
    "start_time": "2021-09-22T14:38:08.893Z"
   },
   {
    "duration": -22561,
    "start_time": "2021-09-22T14:38:08.906Z"
   },
   {
    "duration": -22573,
    "start_time": "2021-09-22T14:38:08.920Z"
   },
   {
    "duration": -22596,
    "start_time": "2021-09-22T14:38:08.944Z"
   },
   {
    "duration": -22608,
    "start_time": "2021-09-22T14:38:08.957Z"
   },
   {
    "duration": 17,
    "start_time": "2021-09-22T14:38:02.760Z"
   },
   {
    "duration": 20,
    "start_time": "2021-09-22T14:38:06.160Z"
   },
   {
    "duration": 19,
    "start_time": "2021-09-22T14:38:14.481Z"
   },
   {
    "duration": 3925,
    "start_time": "2021-09-22T14:38:26.436Z"
   },
   {
    "duration": 41,
    "start_time": "2021-09-22T14:41:22.583Z"
   },
   {
    "duration": 18,
    "start_time": "2021-09-22T14:42:59.522Z"
   },
   {
    "duration": 13,
    "start_time": "2021-09-22T14:49:37.454Z"
   },
   {
    "duration": 15,
    "start_time": "2021-09-22T14:50:41.997Z"
   },
   {
    "duration": 22,
    "start_time": "2021-09-22T14:53:27.770Z"
   },
   {
    "duration": 853,
    "start_time": "2021-09-23T07:10:28.133Z"
   },
   {
    "duration": 14,
    "start_time": "2021-09-23T07:10:28.989Z"
   },
   {
    "duration": 50,
    "start_time": "2021-09-23T07:10:29.006Z"
   },
   {
    "duration": 1611,
    "start_time": "2021-09-23T07:10:29.059Z"
   },
   {
    "duration": 5,
    "start_time": "2021-09-23T07:10:30.681Z"
   },
   {
    "duration": 64,
    "start_time": "2021-09-23T07:10:30.689Z"
   },
   {
    "duration": 9,
    "start_time": "2021-09-23T07:10:30.756Z"
   },
   {
    "duration": 39,
    "start_time": "2021-09-23T07:10:30.769Z"
   },
   {
    "duration": 34,
    "start_time": "2021-09-23T07:10:30.811Z"
   },
   {
    "duration": 12,
    "start_time": "2021-09-23T07:10:30.847Z"
   },
   {
    "duration": 32,
    "start_time": "2021-09-23T07:10:30.862Z"
   },
   {
    "duration": 165,
    "start_time": "2021-09-23T07:10:30.897Z"
   },
   {
    "duration": 3,
    "start_time": "2021-09-23T07:10:31.065Z"
   },
   {
    "duration": 14,
    "start_time": "2021-09-23T07:10:31.083Z"
   },
   {
    "duration": 104,
    "start_time": "2021-09-23T07:10:31.099Z"
   },
   {
    "duration": 24,
    "start_time": "2021-09-23T07:10:31.205Z"
   },
   {
    "duration": 25,
    "start_time": "2021-09-23T07:10:31.231Z"
   },
   {
    "duration": 466,
    "start_time": "2021-09-23T07:10:31.258Z"
   },
   {
    "duration": -1512,
    "start_time": "2021-09-23T07:10:33.239Z"
   },
   {
    "duration": -1520,
    "start_time": "2021-09-23T07:10:33.248Z"
   },
   {
    "duration": -1529,
    "start_time": "2021-09-23T07:10:33.259Z"
   },
   {
    "duration": -1543,
    "start_time": "2021-09-23T07:10:33.274Z"
   },
   {
    "duration": -1555,
    "start_time": "2021-09-23T07:10:33.288Z"
   },
   {
    "duration": -1558,
    "start_time": "2021-09-23T07:10:33.292Z"
   },
   {
    "duration": -1572,
    "start_time": "2021-09-23T07:10:33.307Z"
   },
   {
    "duration": -1578,
    "start_time": "2021-09-23T07:10:33.315Z"
   },
   {
    "duration": -1587,
    "start_time": "2021-09-23T07:10:33.325Z"
   },
   {
    "duration": -1601,
    "start_time": "2021-09-23T07:10:33.340Z"
   },
   {
    "duration": -1608,
    "start_time": "2021-09-23T07:10:33.348Z"
   },
   {
    "duration": -1616,
    "start_time": "2021-09-23T07:10:33.358Z"
   },
   {
    "duration": -1629,
    "start_time": "2021-09-23T07:10:33.372Z"
   },
   {
    "duration": -1637,
    "start_time": "2021-09-23T07:10:33.382Z"
   },
   {
    "duration": -1649,
    "start_time": "2021-09-23T07:10:33.395Z"
   },
   {
    "duration": -1662,
    "start_time": "2021-09-23T07:10:33.409Z"
   },
   {
    "duration": -1675,
    "start_time": "2021-09-23T07:10:33.423Z"
   },
   {
    "duration": 35,
    "start_time": "2021-09-23T07:10:35.316Z"
   },
   {
    "duration": 17,
    "start_time": "2021-09-23T07:10:40.430Z"
   },
   {
    "duration": 27,
    "start_time": "2021-09-23T07:11:33.828Z"
   },
   {
    "duration": 30,
    "start_time": "2021-09-23T07:11:34.273Z"
   },
   {
    "duration": 25,
    "start_time": "2021-09-23T07:11:34.624Z"
   },
   {
    "duration": 79,
    "start_time": "2021-09-23T07:11:44.110Z"
   },
   {
    "duration": 4970,
    "start_time": "2021-09-23T07:11:48.178Z"
   },
   {
    "duration": 75,
    "start_time": "2021-09-23T07:11:53.151Z"
   },
   {
    "duration": 11,
    "start_time": "2021-09-23T07:11:59.143Z"
   },
   {
    "duration": 52,
    "start_time": "2021-09-23T07:11:59.868Z"
   },
   {
    "duration": 12,
    "start_time": "2021-09-23T07:12:08.366Z"
   },
   {
    "duration": 51,
    "start_time": "2021-09-23T07:12:08.586Z"
   },
   {
    "duration": 25,
    "start_time": "2021-09-23T07:12:09.729Z"
   },
   {
    "duration": 37,
    "start_time": "2021-09-23T07:12:34.250Z"
   },
   {
    "duration": 29,
    "start_time": "2021-09-23T07:12:35.050Z"
   },
   {
    "duration": 23,
    "start_time": "2021-09-23T07:13:03.343Z"
   },
   {
    "duration": 26,
    "start_time": "2021-09-23T07:13:07.700Z"
   },
   {
    "duration": 20,
    "start_time": "2021-09-23T07:13:22.962Z"
   },
   {
    "duration": 6,
    "start_time": "2021-09-23T07:13:59.277Z"
   },
   {
    "duration": 42,
    "start_time": "2021-09-23T07:16:20.661Z"
   },
   {
    "duration": 881,
    "start_time": "2021-09-23T12:30:38.276Z"
   },
   {
    "duration": 16,
    "start_time": "2021-09-23T12:30:52.315Z"
   },
   {
    "duration": 49,
    "start_time": "2021-09-23T12:31:01.115Z"
   },
   {
    "duration": 120,
    "start_time": "2021-09-23T12:31:38.512Z"
   },
   {
    "duration": 148,
    "start_time": "2021-09-23T12:33:05.610Z"
   },
   {
    "duration": 133,
    "start_time": "2021-09-23T12:33:15.424Z"
   },
   {
    "duration": 456,
    "start_time": "2021-09-23T12:34:50.290Z"
   },
   {
    "duration": 18,
    "start_time": "2021-09-23T12:34:59.152Z"
   },
   {
    "duration": 29,
    "start_time": "2021-09-23T12:35:03.170Z"
   },
   {
    "duration": 67,
    "start_time": "2021-09-23T12:35:08.594Z"
   },
   {
    "duration": 531,
    "start_time": "2021-09-23T12:36:37.748Z"
   },
   {
    "duration": 80,
    "start_time": "2021-09-23T12:36:45.768Z"
   },
   {
    "duration": 16,
    "start_time": "2021-09-23T12:36:49.092Z"
   },
   {
    "duration": 52,
    "start_time": "2021-09-23T12:36:52.541Z"
   },
   {
    "duration": 1123,
    "start_time": "2021-09-23T12:36:57.098Z"
   },
   {
    "duration": 419,
    "start_time": "2021-09-23T12:37:04.926Z"
   },
   {
    "duration": 5,
    "start_time": "2021-09-23T12:37:09.112Z"
   },
   {
    "duration": 41,
    "start_time": "2021-09-23T12:37:12.447Z"
   },
   {
    "duration": 9,
    "start_time": "2021-09-23T12:37:17.600Z"
   },
   {
    "duration": 6,
    "start_time": "2021-09-23T12:37:21.446Z"
   },
   {
    "duration": 13,
    "start_time": "2021-09-23T12:37:23.778Z"
   },
   {
    "duration": 7,
    "start_time": "2021-09-23T12:37:27.146Z"
   },
   {
    "duration": 15,
    "start_time": "2021-09-23T12:37:30.184Z"
   },
   {
    "duration": 159,
    "start_time": "2021-09-23T12:37:34.612Z"
   },
   {
    "duration": 11,
    "start_time": "2021-09-23T12:37:45.326Z"
   },
   {
    "duration": 73,
    "start_time": "2021-09-23T12:37:51.662Z"
   },
   {
    "duration": 5,
    "start_time": "2021-09-23T12:40:30.096Z"
   },
   {
    "duration": 21,
    "start_time": "2021-09-23T12:40:32.330Z"
   },
   {
    "duration": 4,
    "start_time": "2021-09-23T12:40:59.177Z"
   },
   {
    "duration": 4,
    "start_time": "2021-09-23T12:41:04.184Z"
   },
   {
    "duration": 1742,
    "start_time": "2021-09-23T12:44:59.691Z"
   },
   {
    "duration": 14,
    "start_time": "2021-09-23T12:45:05.840Z"
   },
   {
    "duration": 49,
    "start_time": "2021-09-23T12:45:09.418Z"
   },
   {
    "duration": 7,
    "start_time": "2021-09-23T12:45:18.535Z"
   },
   {
    "duration": 388,
    "start_time": "2021-09-23T12:48:16.760Z"
   },
   {
    "duration": 423,
    "start_time": "2021-09-23T12:48:28.200Z"
   },
   {
    "duration": 70,
    "start_time": "2021-09-23T12:49:34.782Z"
   },
   {
    "duration": 9,
    "start_time": "2021-09-23T12:49:44.408Z"
   },
   {
    "duration": 6,
    "start_time": "2021-09-23T12:58:16.201Z"
   },
   {
    "duration": 129,
    "start_time": "2021-09-23T12:58:34.603Z"
   },
   {
    "duration": 44,
    "start_time": "2021-09-23T12:58:40.595Z"
   },
   {
    "duration": 15,
    "start_time": "2021-09-23T13:02:38.088Z"
   },
   {
    "duration": 49,
    "start_time": "2021-09-23T13:03:06.852Z"
   },
   {
    "duration": 7,
    "start_time": "2021-09-23T13:03:21.897Z"
   },
   {
    "duration": 44,
    "start_time": "2021-09-23T13:03:50.913Z"
   },
   {
    "duration": 8,
    "start_time": "2021-09-23T13:03:58.281Z"
   },
   {
    "duration": 6,
    "start_time": "2021-09-23T13:04:03.294Z"
   },
   {
    "duration": 5,
    "start_time": "2021-09-23T13:05:00.757Z"
   },
   {
    "duration": 7,
    "start_time": "2021-09-23T13:05:04.255Z"
   },
   {
    "duration": 5,
    "start_time": "2021-09-23T13:07:07.073Z"
   },
   {
    "duration": 72,
    "start_time": "2021-09-23T13:18:32.633Z"
   },
   {
    "duration": 10874,
    "start_time": "2021-09-23T13:19:27.881Z"
   },
   {
    "duration": 23,
    "start_time": "2021-09-23T13:20:18.924Z"
   },
   {
    "duration": 31,
    "start_time": "2021-09-23T13:22:34.633Z"
   },
   {
    "duration": 6,
    "start_time": "2021-09-23T13:24:54.326Z"
   },
   {
    "duration": 56,
    "start_time": "2021-09-23T13:26:08.723Z"
   },
   {
    "duration": 20,
    "start_time": "2021-09-23T13:31:06.622Z"
   },
   {
    "duration": 19,
    "start_time": "2021-09-23T13:34:09.641Z"
   },
   {
    "duration": 19,
    "start_time": "2021-09-23T13:34:27.862Z"
   },
   {
    "duration": 18,
    "start_time": "2021-09-23T13:34:39.098Z"
   },
   {
    "duration": 19,
    "start_time": "2021-09-23T13:35:03.123Z"
   },
   {
    "duration": 22,
    "start_time": "2021-09-23T13:35:38.167Z"
   },
   {
    "duration": 24,
    "start_time": "2021-09-23T13:36:11.284Z"
   },
   {
    "duration": 24,
    "start_time": "2021-09-23T13:38:44.172Z"
   },
   {
    "duration": 68,
    "start_time": "2021-09-23T13:42:49.724Z"
   },
   {
    "duration": 144,
    "start_time": "2021-09-23T13:44:59.722Z"
   },
   {
    "duration": 137,
    "start_time": "2021-09-23T13:46:04.812Z"
   }
  ],
  "kernelspec": {
   "display_name": "Python 3",
   "language": "python",
   "name": "python3"
  },
  "language_info": {
   "codemirror_mode": {
    "name": "ipython",
    "version": 3
   },
   "file_extension": ".py",
   "mimetype": "text/x-python",
   "name": "python",
   "nbconvert_exporter": "python",
   "pygments_lexer": "ipython3",
   "version": "3.7.8"
  },
  "toc": {
   "base_numbering": 1,
   "nav_menu": {},
   "number_sections": false,
   "sideBar": true,
   "skip_h1_title": true,
   "title_cell": "Table of Contents",
   "title_sidebar": "Contents",
   "toc_cell": false,
   "toc_position": {},
   "toc_section_display": true,
   "toc_window_display": true
  }
 },
 "nbformat": 4,
 "nbformat_minor": 2
}
